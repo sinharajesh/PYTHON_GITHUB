{
 "cells": [
  {
   "cell_type": "markdown",
   "metadata": {},
   "source": [
    "# Conditional Statments in Python"
   ]
  },
  {
   "cell_type": "markdown",
   "metadata": {},
   "source": [
    "# if, elif, else"
   ]
  },
  {
   "cell_type": "code",
   "execution_count": null,
   "metadata": {},
   "outputs": [],
   "source": [
    "# stat1\n",
    "# stat2\n",
    "# stat3\n",
    "# if cond:\n",
    "#     stat4\n",
    "#     stat5\n",
    "# stat6\n",
    "# stat7\n",
    "    \n",
    "# If cond is True - stat1,2,3,4,5,6,7\n",
    "# If cond is False - stat1,2,3,6,7"
   ]
  },
  {
   "cell_type": "code",
   "execution_count": null,
   "metadata": {},
   "outputs": [],
   "source": [
    "# stat1\n",
    "# stat2\n",
    "# stat3\n",
    "# if cond:\n",
    "#     stat4\n",
    "#     stat5\n",
    "# else:   \n",
    "    # stat6\n",
    "    # stat7\n",
    "# stat8\n",
    "# stat9\n",
    "\n",
    "# If cond is True - stat1,2,3,4,5,8,9\n",
    "# If cond is False - stat1,2,3,6,7,8,9\n"
   ]
  },
  {
   "cell_type": "code",
   "execution_count": null,
   "metadata": {},
   "outputs": [],
   "source": [
    "# stat1\n",
    "# stat2\n",
    "# stat3\n",
    "# if cond1:\n",
    "#     stat4\n",
    "#     stat5\n",
    "\n",
    "# if cond2:\n",
    "    # stat6\n",
    "    # stat7\n",
    "\n",
    "# if cond3:     \n",
    "    # stat8\n",
    "    # stat9\n",
    "# else:\n",
    "#     stat10\n",
    "#     stat11\n",
    "# stat12\n",
    "# stat13\n",
    "\n",
    "# If cond1 is True and cond2 and cond3 are False - stat1,2,3,4,5,10,11,12,13,\n",
    "# If cond2 is True and cond1 and cond3 are False- stat1,2,3,6,7,10,11,12,13\n",
    "# If cond3 is True and cond1 and cond2 are False- stat1,2,3,8,9,12,13\n",
    "# If cond1, cond2, cond3 are False- stat1,2,3,10,11,12,13"
   ]
  },
  {
   "cell_type": "code",
   "execution_count": null,
   "metadata": {},
   "outputs": [],
   "source": [
    "# stat1\n",
    "# stat2\n",
    "# stat3\n",
    "# if cond1:\n",
    "#     stat4\n",
    "#     stat5\n",
    "\n",
    "# elif cond2:\n",
    "    # stat6\n",
    "    # stat7\n",
    "\n",
    "# elif cond3:     \n",
    "    # stat8\n",
    "    # stat9\n",
    "# else:\n",
    "#     stat10\n",
    "#     stat11\n",
    "# stat12\n",
    "# stat13\n",
    "\n",
    "# If cond1 is True and cond2 and cond3 are False - stat1,2,3,4,5,12,13,\n",
    "# If cond2 is True and cond1 and cond3 are False- stat1,2,3,6,7,12,13\n",
    "# If cond3 is True and cond1 and cond2 are False- stat1,2,3,8,9,12,13\n",
    "# If cond1, cond2, cond3 are False- stat1,2,3,10,11,12,13"
   ]
  },
  {
   "cell_type": "code",
   "execution_count": 2,
   "metadata": {},
   "outputs": [
    {
     "name": "stdout",
     "output_type": "stream",
     "text": [
      "ENter a number from 0-9: 9\n",
      "Nine\n"
     ]
    }
   ],
   "source": [
    "# Tale a number from the user and i will print that number in word format\n",
    "\n",
    "# 0 -> Zero\n",
    "# 1 -> One\n",
    "\n",
    "num = int(input('ENter a number from 0-9: '))\n",
    "if num == 0:\n",
    "    print('Zero')\n",
    "if num == 1:\n",
    "    print('One')\n",
    "if num == 2:\n",
    "    print('Two')\n",
    "if num == 3:\n",
    "    print('Three')\n",
    "if num == 4:\n",
    "    print('Four')\n",
    "if num == 5:\n",
    "    print('Five')\n",
    "if num == 6:\n",
    "    print('Six')\n",
    "if num == 7:\n",
    "    print('Seven')\n",
    "if num == 8:\n",
    "    print('Eight')\n",
    "if num == 9:\n",
    "    print('Nine')\n",
    "else:\n",
    "    print('Number is not in range')\n",
    "\n"
   ]
  },
  {
   "cell_type": "code",
   "execution_count": 5,
   "metadata": {},
   "outputs": [
    {
     "name": "stdout",
     "output_type": "stream",
     "text": [
      "ENter a number from 0-9: 9\n",
      "Nine\n"
     ]
    }
   ],
   "source": [
    "num = int(input('ENter a number from 0-9: '))\n",
    "if num == 0:\n",
    "    print('Zero')\n",
    "elif num == 1:\n",
    "    print('One')\n",
    "elif num == 2:\n",
    "    print('Two')\n",
    "elif num == 3:\n",
    "    print('Three')\n",
    "elif num == 4:\n",
    "    print('Four')\n",
    "elif num == 5:\n",
    "    print('Five')\n",
    "elif num == 6:\n",
    "    print('Six')\n",
    "elif num == 7:\n",
    "    print('Seven')\n",
    "elif num == 8:\n",
    "    print('Eight')\n",
    "elif num == 9:\n",
    "    print('Nine')\n",
    "else:\n",
    "    print('Number is not in range')"
   ]
  },
  {
   "cell_type": "code",
   "execution_count": null,
   "metadata": {},
   "outputs": [],
   "source": [
    "# Take 3 numbers from the user and find the max out of those 3 numbers\n",
    "# Design a calculator where two numbers will be taken from user\n",
    "    2. Operation code will be eneterd by user\n",
    "        1. add\n",
    "        2. sub\n",
    "        3. mul etc\n",
    "# To find a year eneterd by user is a leap year or not\n",
    "# to check whether a number is palindrome or not"
   ]
  },
  {
   "cell_type": "code",
   "execution_count": 8,
   "metadata": {},
   "outputs": [
    {
     "name": "stdout",
     "output_type": "stream",
     "text": [
      "ENter 1st Number: 100\n",
      "ENter 2nd Number: 20\n",
      "ENter 3rd Number: 30\n",
      "Num1 is greater than Num2 and Num3\n"
     ]
    }
   ],
   "source": [
    "# Take 3 numbers from the user and find the max out of those 3 numbers\n",
    "num1 = int(input('ENter 1st Number: '))\n",
    "num2 = int(input('ENter 2nd Number: '))\n",
    "num3 = int(input('ENter 3rd Number: '))\n",
    "if num1>num2 and num1>num3:\n",
    "    print('Num1 is greater than Num2 and Num3')\n",
    "elif num2>num3:\n",
    "    print('Num2 is greater than Num1 and Num3')\n",
    "else:\n",
    "    print('Num3 is greater than Num1 and Num3')\n",
    "    \n",
    "\n"
   ]
  },
  {
   "cell_type": "code",
   "execution_count": 10,
   "metadata": {},
   "outputs": [
    {
     "name": "stdout",
     "output_type": "stream",
     "text": [
      "ENter 1st Number: 100\n",
      "ENter 2nd Number: 20\n",
      "Enter the operation code:\n",
      "              \n",
      "\t 1 for Addition\n",
      "              \n",
      "\t 2 for Subtraction\n",
      "              \n",
      "\t 3 for Multiplication\n",
      "              \n",
      "\t 4 for Float division\n",
      "              \n",
      "\t 5 for Floor Division\n",
      "\t5\n",
      "5\n"
     ]
    }
   ],
   "source": [
    "# Design a calculator where two numbers will be taken from user\n",
    "#     2. Operation code will be eneterd by user\n",
    "#         1. add\n",
    "#         2. sub\n",
    "#         3. mul etc\n",
    "\n",
    "num1 = int(input('ENter 1st Number: '))\n",
    "num2 = int(input('ENter 2nd Number: '))\n",
    "op =int(input('''Enter the operation code:\n",
    "              \\n\\t 1 for Addition\n",
    "              \\n\\t 2 for Subtraction\n",
    "              \\n\\t 3 for Multiplication\n",
    "              \\n\\t 4 for Float division\n",
    "              \\n\\t 5 for Floor Division\\n\\t'''))\n",
    "if op == 1:\n",
    "    print(num1+num2)\n",
    "elif op == 2:\n",
    "    if num1>num2:\n",
    "        print(num1-num2)\n",
    "    else:\n",
    "        print(num2-num1)\n",
    "elif op == 3:\n",
    "    print(num1*num2)\n",
    "elif op == 4:\n",
    "    if num1>num2:\n",
    "        print(num1/num2)\n",
    "    else:\n",
    "        print(num2/num1)\n",
    "elif op == 5:\n",
    "    if num1>num2:\n",
    "        print(num1//num2)\n",
    "    else:\n",
    "        print(num2//num1)\n",
    "else:\n",
    "    print('Operation you want todo is not valid, please enter a valid operation code')\n"
   ]
  },
  {
   "cell_type": "code",
   "execution_count": 17,
   "metadata": {},
   "outputs": [
    {
     "name": "stdout",
     "output_type": "stream",
     "text": [
      "Enter an year: 1968\n",
      "Divisible by 4\n",
      "Not Divisible by 100\n",
      "Year is a leap year\n"
     ]
    }
   ],
   "source": [
    "# To find a year eneterd by user is a leap year or not \n",
    "# If an year is divisible by 4, wheteher it is divisble by 100, if yes then check whether it is divisible by 400 - if yes then leap year\n",
    "# If an year is divisible by 4, wheteher it is divisble by 100, if yes then check whether it is divisible by 400 - if no then not a leap year\n",
    "# If an year is divisible by 4 - yes, wheteher it is divisble by 100, if no then year is leap year\n",
    "# If an year is divisible by 4, no the year is not a leap year\n",
    "\n",
    "year = int(input('Enter an year: '))\n",
    "if year % 4 == 0:\n",
    "    print('Divisible by 4')\n",
    "    if year % 100 == 0:\n",
    "        print('Divisible by 100')\n",
    "        if year % 400 == 0:\n",
    "            print('Divisible by 400')\n",
    "            print('Year is a leap year')\n",
    "        else:\n",
    "            print('not Divisible by 400')\n",
    "            print('Year is not a leap year')\n",
    "    else:\n",
    "        print('Not Divisible by 100')\n",
    "        print('Year is a leap year')\n",
    "else:\n",
    "    print('Not Divisible by 4')\n",
    "    print('Year is not a leap year')\n",
    "\n",
    "\n",
    "\n"
   ]
  },
  {
   "cell_type": "code",
   "execution_count": 19,
   "metadata": {},
   "outputs": [
    {
     "name": "stdout",
     "output_type": "stream",
     "text": [
      "Enter a number to check palindrome: 1234\n",
      "Not Plaindrome\n"
     ]
    }
   ],
   "source": [
    "# to check whether a number is palindrome or not\n",
    "num = input('Enter a number to check palindrome: ')\n",
    "# print('Palindrome' if num == num[::-1] else 'Not Plaindrome')\n"
   ]
  },
  {
   "cell_type": "markdown",
   "metadata": {},
   "source": [
    "# Loops in python"
   ]
  },
  {
   "cell_type": "markdown",
   "metadata": {},
   "source": [
    "### for, while, continue and break\n",
    "\n"
   ]
  },
  {
   "cell_type": "code",
   "execution_count": 22,
   "metadata": {},
   "outputs": [
    {
     "data": {
      "text/plain": [
       "[0, 1, 2, 3, 4, 5, 6, 7, 8, 9]"
      ]
     },
     "execution_count": 22,
     "metadata": {},
     "output_type": "execute_result"
    }
   ],
   "source": [
    "# for var in seq/map:\n",
    "#     code\n",
    "\n",
    "list(range(10))"
   ]
  },
  {
   "cell_type": "code",
   "execution_count": 20,
   "metadata": {},
   "outputs": [
    {
     "name": "stdout",
     "output_type": "stream",
     "text": [
      "Hello\n",
      "Hello\n",
      "Hello\n",
      "Hello\n",
      "Hello\n",
      "Hello\n",
      "Hello\n",
      "Hello\n",
      "Hello\n",
      "Hello\n"
     ]
    }
   ],
   "source": [
    "# For loop is used to execute a block of code a number of times and in the case wherer the number of iteration are known in advance\n",
    "\n",
    "# execute - print('Hello') 1000 times\n",
    "for i in range(1000):\n",
    "    print('Hello')\n",
    "\n"
   ]
  },
  {
   "cell_type": "code",
   "execution_count": 25,
   "metadata": {},
   "outputs": [
    {
     "name": "stdout",
     "output_type": "stream",
     "text": [
      "\n",
      "y\n",
      "tt\n",
      "hhh\n",
      "oooo\n",
      "nnnnn\n"
     ]
    }
   ],
   "source": [
    "# IF you want to do any operation on any seq index wise\n",
    "my_str = 'Python'\n",
    "# '''\n",
    "# P\n",
    "# yy\n",
    "# ttt\n",
    "# hhhh\n",
    "# ooooo\n",
    "# nnnnnn\n",
    "# '''\n",
    "\n",
    "for i in range(len(my_str)):\n",
    "    print(my_str[i]*(i+1))"
   ]
  },
  {
   "cell_type": "code",
   "execution_count": 34,
   "metadata": {},
   "outputs": [
    {
     "name": "stdout",
     "output_type": "stream",
     "text": [
      "key =  1\n",
      "value =  100\n",
      "\n",
      "key =  10.2\n",
      "value =  100.2\n",
      "\n",
      "key =  False\n",
      "value =  Python\n",
      "\n",
      "key =  (10, 20, 30)\n",
      "value =  [102, 20, 30]\n",
      "\n"
     ]
    }
   ],
   "source": [
    "# If you want to do the opeartion on the seq or map by element wise\n",
    "\n",
    "# # list\n",
    "# lst = [10,20,30,40]\n",
    "# for ele in lst:\n",
    "#     print(ele*2)\n",
    "\n",
    "\n",
    "# String\n",
    "# my_str = 'Python'\n",
    "# j = 1\n",
    "# for ele in my_str:\n",
    "#     print(ele*j)\n",
    "#     j += 1\n",
    "    \n",
    "# Tuple\n",
    "# tpl = 10,20,30,40\n",
    "# for ele in tpl:\n",
    "#     print(ele*2)\n",
    "\n",
    "# set\n",
    "# s = {10,20,30,40}\n",
    "# for i in s:\n",
    "#     print(i * 2)\n",
    "    \n",
    "# Dictionary\n",
    "# d = {1:100, 10.20:100.200, False : 'Python', (10,20,30):[102,20,30,]}\n",
    "# for i in d:\n",
    "#     print('key = ', i)\n",
    "#     print('value = ', d[i])\n",
    "#     print()"
   ]
  },
  {
   "cell_type": "code",
   "execution_count": 37,
   "metadata": {},
   "outputs": [
    {
     "name": "stdout",
     "output_type": "stream",
     "text": [
      "P\n",
      "yy\n",
      "ttt\n",
      "hhhh\n",
      "ooooo\n",
      "nnnnnn\n"
     ]
    }
   ],
   "source": [
    "# while - is used till a condition is satisfied\n",
    "\n",
    "# initializaion\n",
    "# while cond:\n",
    "#     code\n",
    "#     Increment/decrement\n",
    "\n",
    "my_str = 'Python'\n",
    "ind = 0\n",
    "while ind < len(my_str):\n",
    "    print(my_str[ind] * (ind+1))\n",
    "    ind += 1\n"
   ]
  },
  {
   "cell_type": "code",
   "execution_count": null,
   "metadata": {},
   "outputs": [],
   "source": [
    "# Break and continue - only in the loop\n",
    "# break is used to exit the current loop completely\n",
    "# continue is used to skip the current iteration\n",
    "\n",
    "# Case 1\n",
    "# for i in range(5):\n",
    "#     stat1\n",
    "#     stat2\n",
    "#     stat3\n",
    "#     print()\n",
    "    \n",
    "# Output:- \n",
    "#     stat1\n",
    "#     stat2\n",
    "#     stat3\n",
    "    \n",
    "#     stat1\n",
    "#     stat2\n",
    "#     stat3\n",
    "    \n",
    "#     stat1\n",
    "#     stat2\n",
    "#     stat3\n",
    "    \n",
    "#     stat1\n",
    "#     stat2\n",
    "#     stat3\n",
    "    \n",
    "#     stat1\n",
    "#     stat2\n",
    "#     stat3\n",
    "\n",
    "\n",
    "# Case 2\n",
    "# for i in range(5):\n",
    "#     stat1\n",
    "#     stat2\n",
    "#     stat3\n",
    "#     print()\n",
    "#     break\n",
    "    \n",
    "# Output:- \n",
    "#     stat1\n",
    "#     stat2\n",
    "#     stat3\n",
    "    \n",
    "# Case 3:\n",
    "# for i in range(5):\n",
    "#     print(i)\n",
    "#     stat1\n",
    "#     stat2\n",
    "#     stat3\n",
    "#     print()\n",
    "#     if i == 3:\n",
    "#         break\n",
    "    \n",
    "# Output:- \n",
    "#     0\n",
    "#     stat1\n",
    "#     stat2\n",
    "#     stat3\n",
    "    \n",
    "#     1\n",
    "#     stat1\n",
    "#     stat2\n",
    "#     stat3\n",
    "    \n",
    "#     2\n",
    "#     stat1\n",
    "#     stat2\n",
    "#     stat3\n",
    "\n",
    "#     3\n",
    "#     stat1\n",
    "#     stat2\n",
    "#     stat3\n",
    "\n",
    "# case 4:\n",
    "for i in range(5):\n",
    "    for j in range(5)\n",
    "        print(i,j)\n",
    "        stat1\n",
    "        stat2\n",
    "        stat3\n",
    "        print()\n",
    "        if j == 3:\n",
    "            break\n",
    "    if i == 3:\n",
    "        break\n",
    "    \n",
    "# Output:- \n",
    "#     0,0\n",
    "#     stat1\n",
    "#     stat2\n",
    "#     stat3\n",
    "    \n",
    "#     0,1\n",
    "#     stat1\n",
    "#     stat2\n",
    "#     stat3\n",
    "    \n",
    "#     0,2\n",
    "#     stat1\n",
    "#     stat2\n",
    "#     stat3\n",
    "\n",
    "#     0,3\n",
    "#     stat1\n",
    "#     stat2\n",
    "#     stat3\n",
    "\n",
    "#     1,0\n",
    "#     stat1\n",
    "#     stat2\n",
    "#     stat3\n",
    "\n",
    "#     1,1\n",
    "#     stat1\n",
    "#     stat2\n",
    "#     stat3\n",
    "\n",
    "#     1,2\n",
    "#     stat1\n",
    "#     stat2\n",
    "#     stat3\n",
    "\n",
    "#     1,3\n",
    "#     stat1\n",
    "#     stat2\n",
    "#     stat3\n",
    "\n",
    "#     2,0\n",
    "#     stat1\n",
    "#     stat2\n",
    "#     stat3\n",
    "\n",
    "#     2,1\n",
    "#     stat1\n",
    "#     stat2\n",
    "#     stat3\n",
    "\n",
    "#     2,2\n",
    "#     stat1\n",
    "#     stat2\n",
    "#     stat3\n",
    "\n",
    "#     2,3\n",
    "#     stat1\n",
    "#     stat2\n",
    "#     stat3\n",
    "\n",
    "#     3,0\n",
    "#     stat1\n",
    "#     stat2\n",
    "#     stat3\n",
    "\n",
    "#     3,1\n",
    "#     stat1\n",
    "#     stat2\n",
    "#     stat3\n",
    "\n",
    "#     3,2\n",
    "#     stat1\n",
    "#     stat2\n",
    "#     stat3\n",
    "\n",
    "#     3,3\n",
    "#     stat1\n",
    "#     stat2\n",
    "#     stat3"
   ]
  },
  {
   "cell_type": "markdown",
   "metadata": {},
   "source": [
    "# continue"
   ]
  },
  {
   "cell_type": "code",
   "execution_count": null,
   "metadata": {},
   "outputs": [],
   "source": [
    "# Case 2\n",
    "# for i in range(5):\n",
    "#     stat1\n",
    "#     stat2\n",
    "#     stat3\n",
    "#     print()\n",
    "#     continue\n",
    "#     stat4\n",
    "    \n",
    "# Output:- \n",
    "#     stat1\n",
    "#     stat2\n",
    "#     stat3\n",
    "\n",
    "#     stat1\n",
    "#     stat2\n",
    "#     stat3\n",
    "\n",
    "#     stat1\n",
    "#     stat2\n",
    "#     stat3\n",
    "\n",
    "#     stat1\n",
    "#     stat2\n",
    "#     stat3\n",
    "\n",
    "#     stat1\n",
    "#     stat2\n",
    "#     stat3\n",
    "\n",
    "\n",
    "    \n",
    "# Case 3:\n",
    "# for i in range(5):\n",
    "#     print(i)\n",
    "#     stat1\n",
    "#     stat2\n",
    "#     stat3\n",
    "#     print()\n",
    "#     if i == 3:\n",
    "#         continue\n",
    "    # stat4\n",
    "\n",
    "# Output:- \n",
    "#     0\n",
    "#     stat1\n",
    "#     stat2\n",
    "#     stat3\n",
    "#     stat4\n",
    "\n",
    "\n",
    "#     1\n",
    "#     stat1\n",
    "#     stat2\n",
    "#     stat3\n",
    "#     stat4\n",
    "\n",
    "\n",
    "#     2\n",
    "#     stat1\n",
    "#     stat2\n",
    "#     stat3\n",
    "#     stat4\n",
    "\n",
    "#     3\n",
    "#     stat1\n",
    "#     stat2\n",
    "#     stat3\n",
    "\n",
    "\n",
    "#     4\n",
    "#     stat1\n",
    "#     stat2\n",
    "#     stat3\n",
    "#     stat4\n",
    "\n",
    "#     5\n",
    "#     stat1\n",
    "#     stat2\n",
    "#     stat3\n",
    "#     stat4"
   ]
  },
  {
   "cell_type": "code",
   "execution_count": 40,
   "metadata": {},
   "outputs": [
    {
     "name": "stdout",
     "output_type": "stream",
     "text": [
      "['peter', 'piper', 'picked', 'a', 'peck', 'of', 'pickled', 'peppers.']\n"
     ]
    }
   ],
   "source": [
    "#Write a python program to find below output using loop:-\n",
    "\n",
    "#Input:- 'peter piper picked a peck of pickled peppers.'\n",
    "#Output:- ['peter', 'piper', 'picked', 'a', 'peck', 'of', 'pickled', 'peppers']\n",
    "\n",
    "my_str = 'peter piper picked a peck of pickled peppers.'\n",
    "out_lst = []\n",
    "out_str =''\n",
    "for i in range(len(my_str)):\n",
    "    if my_str[i] == ' ':\n",
    "        out_lst.append(out_str)\n",
    "        out_str = ''\n",
    "    elif i == (len(my_str)-1):\n",
    "            out_str += my_str[i]\n",
    "            out_lst.append(out_str)\n",
    "            out_str = ''\n",
    "    else:\n",
    "        out_str += my_str[i]\n",
    "print(out_lst)\n"
   ]
  },
  {
   "cell_type": "code",
   "execution_count": null,
   "metadata": {},
   "outputs": [],
   "source": []
  },
  {
   "cell_type": "code",
   "execution_count": 42,
   "metadata": {},
   "outputs": [
    {
     "name": "stdout",
     "output_type": "stream",
     "text": [
      "['peter', 'piper', 'picked', 'a', 'peck', 'of', 'pickled', 'peppers.']\n"
     ]
    }
   ],
   "source": [
    "str1 = 'peter piper picked a peck of pickled peppers.'\n",
    "lst1 = []\n",
    "str2 = ''\n",
    "for i in range(len(str1)):\n",
    "    if str1[i] != ' ':\n",
    "        str2 += str1[i]\n",
    "    else:\n",
    "        lst1.append(str2)\n",
    "        str2 = ''\n",
    "lst1.append(str2)\n",
    "print(lst1)"
   ]
  },
  {
   "cell_type": "code",
   "execution_count": null,
   "metadata": {},
   "outputs": [],
   "source": [
    "#Write a python program to find below output using loop:-\n",
    "\n",
    "#Input:- 'peter piper picked a peck of pickled peppers.'\n",
    "#Output:- 'peppers. pickled of peck a picked piper peter'"
   ]
  },
  {
   "cell_type": "code",
   "execution_count": null,
   "metadata": {},
   "outputs": [],
   "source": []
  },
  {
   "cell_type": "code",
   "execution_count": null,
   "metadata": {},
   "outputs": [],
   "source": []
  },
  {
   "cell_type": "code",
   "execution_count": null,
   "metadata": {},
   "outputs": [],
   "source": []
  },
  {
   "cell_type": "code",
   "execution_count": null,
   "metadata": {},
   "outputs": [],
   "source": []
  },
  {
   "cell_type": "code",
   "execution_count": null,
   "metadata": {},
   "outputs": [],
   "source": []
  },
  {
   "cell_type": "code",
   "execution_count": null,
   "metadata": {},
   "outputs": [],
   "source": []
  },
  {
   "cell_type": "code",
   "execution_count": null,
   "metadata": {},
   "outputs": [],
   "source": []
  },
  {
   "cell_type": "code",
   "execution_count": null,
   "metadata": {},
   "outputs": [],
   "source": []
  }
 ],
 "metadata": {
  "kernelspec": {
   "display_name": "Python 3",
   "language": "python",
   "name": "python3"
  },
  "language_info": {
   "codemirror_mode": {
    "name": "ipython",
    "version": 3
   },
   "file_extension": ".py",
   "mimetype": "text/x-python",
   "name": "python",
   "nbconvert_exporter": "python",
   "pygments_lexer": "ipython3",
   "version": "3.7.3"
  }
 },
 "nbformat": 4,
 "nbformat_minor": 2
}
