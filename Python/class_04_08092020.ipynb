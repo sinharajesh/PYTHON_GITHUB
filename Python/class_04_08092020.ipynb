{
 "cells": [
  {
   "cell_type": "markdown",
   "metadata": {},
   "source": [
    "# Data Types in Python"
   ]
  },
  {
   "cell_type": "markdown",
   "metadata": {},
   "source": [
    "Fundamental Data types\n",
    "   - integers\n",
    "   - floats\n",
    "   - complex\n",
    "   - Boolean\n",
    "   - None\n",
    "   - String"
   ]
  },
  {
   "cell_type": "markdown",
   "metadata": {},
   "source": [
    "# Numbers \n",
    "    - int\n",
    "    - float\n",
    "    - complex"
   ]
  },
  {
   "cell_type": "markdown",
   "metadata": {},
   "source": [
    "# Integers"
   ]
  },
  {
   "cell_type": "code",
   "execution_count": 14,
   "metadata": {},
   "outputs": [
    {
     "name": "stdout",
     "output_type": "stream",
     "text": [
      "64664\n",
      "10 <class 'int'>\n",
      "size of a =  28\n",
      "\n",
      "40000 <class 'int'>\n",
      "size of b =  28\n",
      "\n",
      "999999999999999999999999999999999999999999999999999999999999999999 <class 'int'>\n",
      "size of c =  56\n"
     ]
    }
   ],
   "source": [
    "# int - any real number without the decimal point\n",
    "# 10, 0, -10   - Decimal format - 0-9\n",
    "\n",
    "# Integers can be represented in binary, octal or hexadecimal values, decimal\n",
    "\n",
    "# Binary representation of 10 - 0b1010\n",
    "# a = 0b1010\n",
    "# print(a)    # Decimal equivalent - binary to decimal conversion is automatic\n",
    "\n",
    "# Converting from deocimal to binary\n",
    "# Conversion of 765 into binary format\n",
    "# print(bin(765))\n",
    "\n",
    "# bin - should be preceded by 0b, 0B, allowed digits are 0&1, Any format to binary - bin()\n",
    "\n",
    "# Octal representation of 4012 - 0o7654\n",
    "# a = 0o7654\n",
    "# print(a)    # Decimal equivalent - octal to decimal conversion is automatic\n",
    "\n",
    "# Converting from deocimal to octal\n",
    "# Conversion of 9875 into octal format\n",
    "# print(oct(9875))\n",
    "# print(oct(0o764))\n",
    "# print(oct(0b1010))\n",
    "# print(oct(0xfc98))\n",
    "\n",
    "# oct - should be preceded by 0o, 0O, allowed digits are 0 to 7, Any format to octal - oct()\n",
    "\n",
    "# hexadecimal representation of 10 - 0xfc98\n",
    "a = 0xfc98\n",
    "print(a)    # Decimal equivalent - octal to hexadecimal conversion is automatic\n",
    "\n",
    "# Converting from deocimal to hexadecimal\n",
    "# Conversion of 176230 into hexadecimal format\n",
    "# print(hex(64664))\n",
    "# print(hex(0o764))\n",
    "# a = eval(hex(0b10100010001001))\n",
    "# print(a, type(a))\n",
    "# print(hex(0xfc98))\n",
    "\n",
    "# hex - should be preceded by 0x, 0X, allowed digits are 0 to 9 & a/A to f/F, Any format to hexadecimal - hex()\n",
    "\n",
    "# Note- only integer values can be represented in these format, not a any other number\n",
    "\n",
    "# Note:- Do not have the concept of size in python, we have only int type no short or long type\n",
    "\n",
    "import sys\n",
    "a = 10\n",
    "print(a, type(a))\n",
    "print('size of a = ',sys.getsizeof(a))\n",
    "print()\n",
    "b = 40000\n",
    "print(b, type(b))\n",
    "print('size of b = ',sys.getsizeof(b))\n",
    "print()\n",
    "c = 999999999999999999999999999999999999999999999999999999999999999999\n",
    "print(c, type(c))\n",
    "print('size of c = ',sys.getsizeof(c))\n",
    "\n",
    "# int - 8, short 16 and long  32, 64- the memory alocation\n",
    "\n"
   ]
  },
  {
   "cell_type": "markdown",
   "metadata": {},
   "source": [
    "# Float"
   ]
  },
  {
   "cell_type": "code",
   "execution_count": null,
   "metadata": {},
   "outputs": [],
   "source": [
    "# Float can be represented only in decimal format\n",
    "# Any value with a decimal point is a float\n",
    "10.0, 10.20, -10.20, 0.001\n",
    "\n",
    "# We don't have any concept of double in float, every decimal point value is float type"
   ]
  },
  {
   "cell_type": "markdown",
   "metadata": {},
   "source": [
    "# Complex"
   ]
  },
  {
   "cell_type": "code",
   "execution_count": 19,
   "metadata": {},
   "outputs": [
    {
     "name": "stdout",
     "output_type": "stream",
     "text": [
      "(10+20j) <class 'complex'>\n",
      "10.0\n",
      "20.0\n"
     ]
    },
    {
     "data": {
      "text/plain": [
       "0j"
      ]
     },
     "execution_count": 19,
     "metadata": {},
     "output_type": "execute_result"
    }
   ],
   "source": [
    "# Any number in the format of a+bj - a is real and b is imaginary\n",
    "a = 10 + 20j\n",
    "print(a, type(a))\n",
    "print(a.real)\n",
    "print(a.imag)\n",
    "\n",
    "complex()\n",
    "\n",
    "# Upcasting\n",
    "# help(complex)\n"
   ]
  },
  {
   "cell_type": "code",
   "execution_count": 23,
   "metadata": {},
   "outputs": [
    {
     "name": "stdout",
     "output_type": "stream",
     "text": [
      "Enter your age: 28\n",
      "28.0 <class 'float'>\n"
     ]
    }
   ],
   "source": [
    "age = float(input('Enter your age: '))\n",
    "print(age, type(age))"
   ]
  },
  {
   "cell_type": "markdown",
   "metadata": {},
   "source": [
    "# Boolean"
   ]
  },
  {
   "cell_type": "code",
   "execution_count": 32,
   "metadata": {},
   "outputs": [
    {
     "data": {
      "text/plain": [
       "'True'"
      ]
     },
     "execution_count": 32,
     "metadata": {},
     "output_type": "execute_result"
    }
   ],
   "source": [
    "# Which is having only two values - True & False\n",
    "\n",
    "# Boolean to int\n",
    "# True = 1\n",
    "# False = 0\n",
    "\n",
    "# # Boolean to float\n",
    "# True = 1.0\n",
    "# False = 0.0\n",
    "\n",
    "# # Boolean to coplex\n",
    "# True = 1 + 0j\n",
    "# False = 0+0j\n",
    "\n",
    "# print(complex(True, False))\n",
    "\n",
    "# # string to boolean\n",
    "# True = rest all is True\n",
    "# False = \"\"\n",
    "\n",
    "\n",
    "# str(True)"
   ]
  },
  {
   "cell_type": "markdown",
   "metadata": {},
   "source": [
    "# Operators in Python\n",
    "    - Arithmetic\n",
    "    - Comparison \n",
    "    - Equality\n",
    "    - Logical\n",
    "    - Bitwise\n",
    "    - Assignment\n",
    "    - Compound assignment\n",
    "    - Membership operator\n",
    "    - Identity operator\n",
    "    - Ternary"
   ]
  },
  {
   "cell_type": "markdown",
   "metadata": {},
   "source": [
    "### Arithmetic Operators in Python - (+, -, \\*, / (True Division - Float Division), // (Floor Division), % Modulo, ** Exponent"
   ]
  },
  {
   "cell_type": "code",
   "execution_count": 44,
   "metadata": {},
   "outputs": [
    {
     "name": "stdout",
     "output_type": "stream",
     "text": [
      "1\n",
      "2\n",
      "(0.3448275862068966+4.137931034482759j)\n"
     ]
    }
   ],
   "source": [
    "# Arithemtic operator are applicable on allnumbers types\n",
    "# Exception - Modulo operator and floor division does not work on the complex numbers\n",
    "\n",
    "# True division - Floating pount after division - Float division\n",
    "# print(10/2)\n",
    "# print(10/3)\n",
    "\n",
    "# Floor Division - Floor value - quotient - int value\n",
    "# Special case, will return float quotient value if any one or both numbers are float\n",
    "# print(10//2)\n",
    "# print(10//3)\n",
    "# print(10.0//3)\n",
    "\n",
    "# Modulo Operator = % - always gives you the remainder\n",
    "print(10%3)\n",
    "print(10%4)\n",
    "\n",
    "print((10+20j)/(5-2j))\n"
   ]
  },
  {
   "cell_type": "markdown",
   "metadata": {},
   "source": [
    "# Comparison Operator - <, <=, >, >="
   ]
  },
  {
   "cell_type": "code",
   "execution_count": 67,
   "metadata": {},
   "outputs": [
    {
     "name": "stdout",
     "output_type": "stream",
     "text": [
      "<class 'int'>\n",
      "A\n",
      "p\n"
     ]
    }
   ],
   "source": [
    "# Compariosn between int and float is posssible\n",
    "# Compariosn between other data types is not possible\n",
    "# Compariosn between compelx to complex is not possible\n",
    "# print(10<20)\n",
    "# print(10<10.20)\n",
    "# print(10<10+20j)\n",
    "# print(5+5j<10+20j)\n",
    "# print(66<\"A\")\n",
    "# print('Python' < 'python')\n",
    "# print([100,20,30] <[100,50,4])\n",
    "\n",
    "# print('A'<= 65)\n",
    "\n",
    "\n",
    "\n",
    "\n",
    "# to get the ASCII equivalent of any character - ord('only one char')\n",
    "print(type(ord('A')))\n",
    "# print(ord('p'))\n",
    "\n",
    "\n",
    "# to get the character equivalent of any ASCII value - chr(num)\n",
    "print(chr(65))\n",
    "print(chr(112))"
   ]
  },
  {
   "cell_type": "markdown",
   "metadata": {},
   "source": [
    "# Equality --> ==, !="
   ]
  },
  {
   "cell_type": "code",
   "execution_count": 68,
   "metadata": {},
   "outputs": [
    {
     "name": "stdout",
     "output_type": "stream",
     "text": [
      "True\n",
      "True\n"
     ]
    }
   ],
   "source": [
    "# Equality comparison between different data type is possible\n",
    "# Equality operator compares the values only\n",
    "print(ord('A') == 65)\n",
    "print('A' == 'A')\n",
    "\n"
   ]
  },
  {
   "cell_type": "markdown",
   "metadata": {},
   "source": [
    "# Logical operators - and, or, not\n",
    "\n"
   ]
  },
  {
   "cell_type": "code",
   "execution_count": 73,
   "metadata": {},
   "outputs": [
    {
     "name": "stdout",
     "output_type": "stream",
     "text": [
      "\n",
      "20\n",
      "0\n",
      "0\n",
      "10\n",
      "0.0\n"
     ]
    }
   ],
   "source": [
    "# Truth Table - and\n",
    "# If any one value is False then result is False\n",
    "# True and True = True\n",
    "# True and False = False\n",
    "# False and True = False\n",
    "# False and False = False\n",
    "\n",
    "# Truth Table - or\n",
    "# If any one value is True then result is True\n",
    "# True or True = True\n",
    "# True or False = True\n",
    "# False or True = True\n",
    "# False or False = False\n",
    "\n",
    "# Truth table of not\n",
    "# not True = False\n",
    "# not False = True\n",
    "\n",
    "\n",
    "# LOgical operator - works on the logic - logic should always be evaluated as True or False\n",
    "# (10<20) and ('True' != 'True')\n",
    "\n",
    "# A and B returns A if A is False else B\n",
    "print(\"\" and 0)\n",
    "print(10 and 20)\n",
    "print(0 and 0.0)\n",
    "\n",
    "# A or B returns A if A is True else B\n",
    "print(\"\" or 0)\n",
    "print(10 or 20)\n",
    "print(0 or 0.0)"
   ]
  },
  {
   "cell_type": "markdown",
   "metadata": {},
   "source": [
    "# Bitwie Operator - &, |, ^, ~,<<, >>"
   ]
  },
  {
   "cell_type": "code",
   "execution_count": 89,
   "metadata": {},
   "outputs": [
    {
     "name": "stdout",
     "output_type": "stream",
     "text": [
      "7360\n",
      "7\n",
      "7\n"
     ]
    }
   ],
   "source": [
    "# These all operators works only on bits - 0(False) and 1(True)\n",
    "# These operator works only on integer, \n",
    "# All integer values are converted into bits representation and then bit by bit operation happens\n",
    "\n",
    "# bitwise and Truth Table\n",
    "# 1 & 1 = 1\n",
    "# 1 & 0 = 0\n",
    "# 0 & 1 = 0\n",
    "# 0 & 0 = 0\n",
    "\n",
    "# bitwise or Truth Table\n",
    "# 1 | 1 = 1\n",
    "# 1 | 0 = 1\n",
    "# 0 | 1 = 1\n",
    "# 0 | 0 = 0\n",
    "\n",
    "# bitwise xor Truth Table\n",
    "# 1 ^ 1 = 0\n",
    "# 1 ^ 0 = 1\n",
    "# 0 ^ 1 = 1\n",
    "# 0 ^ 0 = 0\n",
    "\n",
    "# print(23 & 400)\n",
    "\n",
    "# print(bin(400))\n",
    "\n",
    "# 23  = 000010111\n",
    "# 400 = 110010000\n",
    "# ------------------\n",
    "# &   = 10000\n",
    "# print(0b10000)\n",
    "\n",
    "# |   = 110010111\n",
    "# print(0b110010111)\n",
    "# print(23|400)\n",
    "\n",
    "# ^   = 110000111\n",
    "# print(0b110000111)\n",
    "# print(23 ^ 400)\n",
    "\n",
    "# ~ -bitwise negation - ~num = -(num+1)\n",
    "# print(~10)\n",
    "# print(~-9)\n",
    "# print(~False)\n",
    "\n",
    "# bitwise left shift <<, bitwise right shift - >>\n",
    "# these operators takes two operands - first one the number which you want to shift and second is the number by how many bits you want to shift\n",
    "\n",
    "# shift 230 by 5 bits towards LHS\n",
    "print(230 << 5)\n",
    "\n",
    "# Step1 - convert 230 into bonary equivalent\n",
    "# 230 = 11100110\n",
    "\n",
    "# Step2 - Write the binary equivalent in 32/64 bit representation\n",
    "# 230 = 00000000000000000000000011100110\n",
    "\n",
    "# step3 - remove 5 bits from LHS and add 5 0's in the right hand side\n",
    "# 230 = 00000000000000000001110011000000\n",
    "\n",
    "# Step4 - use print(0bresultant bits)\n",
    "# print(0b00000000000000000001110011000000)\n",
    "\n",
    "\n",
    "# shift 230 by 5 bits towards RHS\n",
    "print(230 >> 5)\n",
    "\n",
    "# Step1 - convert 230 into bonary equivalent\n",
    "# 230 = 11100110\n",
    "\n",
    "# Step2 - Write the binary equivalent in 32/64 bit representation\n",
    "# 230 = 00000000000000000000000011100110\n",
    "\n",
    "# step3 - remove 5 bits from RHS and add 5 0's in the left hand side\n",
    "# 230 = 00000000000000000000000000000111\n",
    "\n",
    "# Step4 - use print(0bresultant bits)\n",
    "print(0b00000000000000000000000000000111)\n",
    "\n"
   ]
  },
  {
   "cell_type": "markdown",
   "metadata": {},
   "source": [
    "# Assignments Operator - =\n",
    "\n",
    "\n",
    "\n"
   ]
  },
  {
   "cell_type": "code",
   "execution_count": 92,
   "metadata": {},
   "outputs": [
    {
     "name": "stdout",
     "output_type": "stream",
     "text": [
      "10\n"
     ]
    }
   ],
   "source": [
    "a = 10\n",
    "print(a)"
   ]
  },
  {
   "cell_type": "code",
   "execution_count": 97,
   "metadata": {},
   "outputs": [
    {
     "name": "stdout",
     "output_type": "stream",
     "text": [
      "25\n"
     ]
    }
   ],
   "source": [
    "# Compound assignments - +=, -=, *=, /=, //=, %=,**=, &=, |=, ^=, <<=,>>=, ~=\n",
    "    # a = 10\n",
    "    # we want to increment a by 5 and the result I want to assign to a agian\n",
    "# a = 10\n",
    "# a = a+5\n",
    "# print(a)\n",
    "\n",
    "a += 5\n",
    "print(a)"
   ]
  },
  {
   "cell_type": "markdown",
   "metadata": {},
   "source": [
    "# Membership operator - in, not in"
   ]
  },
  {
   "cell_type": "code",
   "execution_count": 102,
   "metadata": {},
   "outputs": [
    {
     "name": "stdout",
     "output_type": "stream",
     "text": [
      "False\n",
      "True\n",
      "True\n",
      "True\n",
      "True\n"
     ]
    }
   ],
   "source": [
    "# these checks whether an element is part of the seq or mapping type or not\n",
    "    # It works on str, list, tuple, set, frozenset, dictionary, bytes, bytearray, range\n",
    "    \n",
    "print('p' in 'Python')\n",
    "print(100 in [10,20,100])\n",
    "print(10 in {10,20,30})\n",
    "print(1 in {1:100, 2:200, 3:300})  # Always checks the key\n",
    "print(9 in range(10))\n"
   ]
  },
  {
   "cell_type": "markdown",
   "metadata": {},
   "source": [
    "# Identity operator - is, is not"
   ]
  },
  {
   "cell_type": "code",
   "execution_count": 107,
   "metadata": {},
   "outputs": [
    {
     "name": "stdout",
     "output_type": "stream",
     "text": [
      "True\n",
      "4499707584\n",
      "4499707584\n",
      "False\n",
      "True\n",
      "4555375344\n",
      "4555374896\n"
     ]
    }
   ],
   "source": [
    "# Returns True of id is same for both the operand else returns False\n",
    "a = 10\n",
    "b = 10\n",
    "print(a is b)\n",
    "print(id(a))\n",
    "print(id(b))\n",
    "\n",
    "\n",
    "x = 1000\n",
    "y = 1000\n",
    "print(x is y)\n",
    "print(x == y)\n",
    "print(id(x))\n",
    "print(id(y))\n",
    "\n",
    "\n",
    "# Object reusability - that object shoild be reused in case if it is already existing in tghe memeory (but for limited values only)\n",
    "int - -5 - 256\n",
    "str - A - Z, a- z, 0-9, _\n",
    "None\n",
    "True, False\n",
    "\n",
    "# Rest all object does not follow object reusability \n",
    "\n",
    "\n",
    "\n"
   ]
  },
  {
   "cell_type": "code",
   "execution_count": 110,
   "metadata": {},
   "outputs": [
    {
     "name": "stdout",
     "output_type": "stream",
     "text": [
      "Enter 1st Number: 100200\n",
      "Enter 2nd Number: 300000\n",
      "Enter 3rd Number: 345678\n",
      "345678\n"
     ]
    }
   ],
   "source": [
    "# Ternary Operator - expr1 if cond esle expr2\n",
    "# expr1 if cond1 else expr2 if cond2 else expr3 \n",
    "\n",
    "a = int(input('Enter 1st Number: '))\n",
    "b = int(input('Enter 2nd Number: '))\n",
    "c = int(input('Enter 3rd Number: '))\n",
    "print(a if a>b and a>c else b if b>c else c)\n",
    "\n",
    "# cond?expr:expr1"
   ]
  },
  {
   "cell_type": "code",
   "execution_count": null,
   "metadata": {},
   "outputs": [],
   "source": []
  },
  {
   "cell_type": "code",
   "execution_count": null,
   "metadata": {},
   "outputs": [],
   "source": []
  },
  {
   "cell_type": "code",
   "execution_count": null,
   "metadata": {},
   "outputs": [],
   "source": []
  },
  {
   "cell_type": "code",
   "execution_count": null,
   "metadata": {},
   "outputs": [],
   "source": []
  },
  {
   "cell_type": "code",
   "execution_count": null,
   "metadata": {},
   "outputs": [],
   "source": []
  },
  {
   "cell_type": "code",
   "execution_count": null,
   "metadata": {},
   "outputs": [],
   "source": []
  },
  {
   "cell_type": "code",
   "execution_count": null,
   "metadata": {},
   "outputs": [],
   "source": []
  },
  {
   "cell_type": "code",
   "execution_count": null,
   "metadata": {},
   "outputs": [],
   "source": []
  }
 ],
 "metadata": {
  "kernelspec": {
   "display_name": "Python 3",
   "language": "python",
   "name": "python3"
  },
  "language_info": {
   "codemirror_mode": {
    "name": "ipython",
    "version": 3
   },
   "file_extension": ".py",
   "mimetype": "text/x-python",
   "name": "python",
   "nbconvert_exporter": "python",
   "pygments_lexer": "ipython3",
   "version": "3.7.3"
  }
 },
 "nbformat": 4,
 "nbformat_minor": 2
}
