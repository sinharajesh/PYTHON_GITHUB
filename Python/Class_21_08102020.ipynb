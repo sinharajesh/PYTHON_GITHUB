{
 "cells": [
  {
   "cell_type": "code",
   "execution_count": 1,
   "metadata": {},
   "outputs": [
    {
     "name": "stdout",
     "output_type": "stream",
     "text": [
      "{'email': 'tom_latham019@gmail.com', 'Phone': 1987654321, 'City': 'California'}\n"
     ]
    }
   ],
   "source": [
    "# Initialize a dictionary \"emp_info\" with below details\n",
    "# In - emp_info['Tom']\n",
    "# Out - {'email':'tom_latham019@gmail.com', 'Phone': +1987654321, 'City': 'California'}\n",
    "\n",
    "# In - emp_info['Kathy']\n",
    "# Out - {'email':'kathy_abram897@gmail.com', 'Phone': +1887654321, 'City': 'New York'}\n",
    "\n",
    "\n",
    "\n",
    "emp_info = {'Tom' : {'email':'tom_latham019@gmail.com', 'Phone': +1987654321, 'City': 'California'}, \n",
    "           'Kathy' : {'email':'kathy_abram897@gmail.com', 'Phone': +1887654321, 'City': 'New York'}}\n",
    "print(emp_info['Tom'])\n"
   ]
  },
  {
   "cell_type": "code",
   "execution_count": 11,
   "metadata": {},
   "outputs": [
    {
     "name": "stdout",
     "output_type": "stream",
     "text": [
      "{'emp1': {'e_name': 'John', 'e_id': 'SG101', 'e_sal': '$10,000'}, 'emp2': {'e_name': 'Smith', 'e_id': 'SG102', 'e_sal': '$9,000'}, 'emp3': {'e_name': 'Peter', 'e_id': 'SG103', 'e_sal': '$9,500'}}\n"
     ]
    }
   ],
   "source": [
    "# Create a dictionary out of below inputs\n",
    "# lst1 = ['emp1', 'emp2', 'emp3']\n",
    "# emp_key = ['e_name', 'e_id', 'e_sal']\n",
    "# emp1_val = ['John', 'SG101', '$10,000']\n",
    "# emp2_val = ['Smith', 'SG102', '$9,000']\n",
    "# emp3_val = ['Peter', 'SG103', '$9,500']\n",
    "\n",
    "# Expected Output:- {'emp1':{'e_name':'John', 'e_id':'SG101', 'e_sal':$10,000}, \n",
    "#                    'emp2':{'e_name':'Smith', 'e_id':'SG102', 'e_sal':$9,000}, \n",
    "#                    'emp3':{'e_name':'Peter', 'e_id':'SG103', 'e_sal':$9,500}}\n",
    "\n",
    "# lst1 = ['emp1', 'emp2', 'emp3']\n",
    "# emp_key = ['e_name', 'e_id', 'e_sal']\n",
    "# emp1_val = ['John', 'SG101', '$10,000']\n",
    "# emp2_val = ['Smith', 'SG102', '$9,000']\n",
    "# emp3_val = ['Peter', 'SG103', '$9,500']\n",
    "\n",
    "# d1 = dict(zip(emp_key, emp1_val))\n",
    "# d2 = dict(zip(emp_key, emp2_val))\n",
    "# d3 = dict(zip(emp_key, emp3_val))\n",
    "\n",
    "# dict(zip(lst1, (d1,d2,d3)))\n",
    "\n",
    "\n",
    "lst1 = ['emp1', 'emp2', 'emp3']\n",
    "emp_key = ['e_name', 'e_id', 'e_sal']\n",
    "emp1_val = ['John', 'SG101', '$10,000']\n",
    "emp2_val = ['Smith', 'SG102', '$9,000']\n",
    "emp3_val = ['Peter', 'SG103', '$9,500']\n",
    "emp_val = [emp1_val, emp2_val, emp3_val]\n",
    "out_dict = {}\n",
    "for i in range(len(lst1)):\n",
    "    in_dict = {}\n",
    "    for j in range(len(emp_key)):\n",
    "        in_dict[emp_key[j]] = emp_val[i][j]\n",
    "    out_dict[lst1[i]] = in_dict\n",
    "print(out_dict)\n",
    "\n",
    "\n"
   ]
  },
  {
   "cell_type": "code",
   "execution_count": 12,
   "metadata": {},
   "outputs": [
    {
     "name": "stdout",
     "output_type": "stream",
     "text": [
      "80\n"
     ]
    }
   ],
   "source": [
    "# Acess the value of key 'history'\n",
    "\n",
    "sampleDict = { \n",
    "   \"class\":{ \n",
    "      \"student\":{ \n",
    "         \"name\":\"Mike\",\n",
    "         \"marks\":{ \n",
    "            \"physics\":70,\n",
    "            \"history\":80\n",
    "         }\n",
    "      }\n",
    "   }\n",
    "}\n",
    "\n",
    "print(sampleDict['class']['student']['marks']['history'])"
   ]
  },
  {
   "cell_type": "code",
   "execution_count": 15,
   "metadata": {},
   "outputs": [
    {
     "data": {
      "text/plain": [
       "{'Kelly': {'designation': 'Application Developer', 'salary': 8000},\n",
       " 'Emma': {'designation': 'Application Developer', 'salary': 8000},\n",
       " 'John': {'designation': 'Application Developer', 'salary': 8000}}"
      ]
     },
     "execution_count": 15,
     "metadata": {},
     "output_type": "execute_result"
    }
   ],
   "source": [
    "# Initialize dictionary with default values. Inputs are:-\n",
    "# employees = ['Kelly', 'Emma', 'John']\n",
    "# defaults = {\"designation\": 'Application Developer', \"salary\": 8000}\n",
    "\n",
    "#Expected output:- {'Kelly': {'designation': 'Application Developer', 'salary': 8000}, \n",
    "#                   'Emma': {'designation': 'Application Developer', 'salary': 8000}, \n",
    "#                   'John': {'designation': 'Application Developer', 'salary': 8000}}\n",
    "\n",
    "employees = ['Kelly', 'Emma', 'John']\n",
    "defaults = {\"designation\": 'Application Developer', \"salary\": 8000}\n",
    "\n",
    "d.fromkeys(employees,defaults)\n"
   ]
  },
  {
   "cell_type": "code",
   "execution_count": 26,
   "metadata": {},
   "outputs": [
    {
     "name": "stdout",
     "output_type": "stream",
     "text": [
      "Enter the dictionary value for reverse Lookup:  3\n"
     ]
    },
    {
     "data": {
      "text/plain": [
       "[]"
      ]
     },
     "execution_count": 26,
     "metadata": {},
     "output_type": "execute_result"
    }
   ],
   "source": [
    "# Write a function reverseLookup(dictionary, value) that takes in a dictionary \n",
    "# and a value as arguments and returns a sorted list of all keys that contains the value. \n",
    "# The function will return an empty list if no match is found.\n",
    "\n",
    "# In - reverseLookup({'a':1, 'b':2, 'c':2}, 1)\n",
    "# Out - ['a']\n",
    "# In - reverseLookup({'a':1, 'b':2, 'c':2}, 2)\n",
    "# Out - ['b', 'c']\n",
    "# In - reverseLookup({'a':1, 'b':2, 'c':2}, 3)\n",
    "# Out - []\n",
    "\n",
    "# def reverseLoopup(d, val):\n",
    "#     key_lst = list(d.keys())\n",
    "#     val_lst = list(d.values())\n",
    "#     out_lst = []\n",
    "#     ind = -1\n",
    "#     for i in val_lst:\n",
    "#         try:\n",
    "#             ind = val_lst.index(val, ind+1)\n",
    "#         except ValueError:\n",
    "#             break\n",
    "#         out_lst.append(key_lst[ind])\n",
    "#     out_lst.sort()\n",
    "#     return out_lst\n",
    "# print(reverseLoopup({'a':1, 'b':2, 'c':2}, 3))\n",
    "\n",
    "# ---------------------------------------------------------------------------\n",
    "\n",
    "# def reverseLookup(dict,val):\n",
    "#     lst = [i for i in dict.keys() if dict[i] == val]\n",
    "#     lst.sort()\n",
    "#     return lst\n",
    "# print(reverseLoopup({'a':1, 'b':2, 'c':2}, 1))\n",
    "\n",
    "# ---------------------------------------------------------------------------\n",
    "\n",
    "# def reverseLookup(dictionary,value) : \n",
    "#     invert_sampleDict={}\n",
    "#     sorted_dictionary={k: dictionary[k] for k in sorted(dictionary)}\n",
    "#     for k,v in d.items() :\n",
    "#         invert_sampleDict.setdefault(v, []).append(k) \n",
    "#     return invert_sampleDict.get(value,[])\n",
    "\n",
    "# ---------------------------------------------------------------------------\n",
    "\n",
    "# def reverseLookup(d):\n",
    "#     val = eval(input('Enter the dictionary value for reverse Lookup:  '))\n",
    "#     v = list(d.values())\n",
    "#     k = list(d.keys())\n",
    "    \n",
    "#     l = []\n",
    "#     for i in range(len(v)):\n",
    "#         if val == v[i]:\n",
    "#             l.append(k[i])\n",
    "#     return l\n",
    "\n",
    "# In = {'a':1, 'b':2, 'c':2}\n",
    "# reverseLookup(In)\n",
    "\n",
    "# ---------------------------------------------------------------------------\n",
    "\n",
    "# keys_list = list(dicinput.keys())\n",
    "#     values_list = list(dicinput.values())\n",
    "#     print([keys_list[i] for i in range(len(values_list))  if values_list[i]==value])\n",
    "    \n",
    "    \n",
    "# ---------------------------------------------------------------------------\n",
    "\n",
    "# def reverseLookup(d,v):\n",
    "#     lst =[]\n",
    "#     for i in d.keys():\n",
    "#         if d[i] == v:\n",
    "#             lst.append(i)\n",
    "#     print(lst)\n",
    "            \n",
    "# d = eval(input('enter a dictionary'))\n",
    "# v = eval(input('enter a value'))\n",
    "# reverseLookup(d,v)\n",
    "\n",
    "# ---------------------------------------------------------------------------\n",
    "\n",
    "# def reverseLookup(dictionary, lookup_value):\n",
    "#     keys = []\n",
    "#     for key, value in dictionary.items():\n",
    "#         if value == lookup_value:\n",
    "#             keys.append(key)\n",
    "    \n",
    "#     return keys\n",
    "\n",
    "# print(reverseLookup({'a':1, 'b':2, 'c':2}, 1))\n",
    "# print(reverseLookup({'a':1, 'b':2, 'c':2}, 2))\n",
    "# print(reverseLookup({'a':1, 'b':2, 'c':2}, 3))"
   ]
  },
  {
   "cell_type": "code",
   "execution_count": 28,
   "metadata": {},
   "outputs": [
    {
     "data": {
      "text/plain": [
       "{2: ['a', 'c'], 1: ['b', 'd']}"
      ]
     },
     "execution_count": 28,
     "metadata": {},
     "output_type": "execute_result"
    }
   ],
   "source": [
    "# Write a function invertDictionary(d) that takes in a dictionary as argument and return a dictionary that inverts the keys and the values of the original dictionary.\n",
    "# In - invertDictionary({'a':1, 'b':2, 'c':3, 'd':2})\n",
    "# Out - {1: ['a'], 2: ['b', 'd'], 3: ['c']}\n",
    "# In - invertDictionary({'a':3, 'b':3, 'c':3})\n",
    "# Out - {3: ['a', 'c', 'b']}\n",
    "# In - invertDictionary({'a':2, 'b':1, 'c':2, 'd':1})\n",
    "# Out - {1: ['b', 'd'], 2: ['a', 'c']}\n",
    "\n",
    "\n",
    "def invertDictionary(d):\n",
    "    key_lst = list(d.keys())\n",
    "    val_lst = list(d.values())\n",
    "    out_dict = {}\n",
    "    for i in val_lst:\n",
    "        if i in out_dict:\n",
    "            out_dict[i].append(key_lst[val_lst.index(i)])\n",
    "            val_lst[val_lst.index(i)] = None\n",
    "        elif i == None:\n",
    "            continue\n",
    "        else:\n",
    "            out_dict[i] = [key_lst[val_lst.index(i)]]\n",
    "            val_lst[val_lst.index(i)] = None\n",
    "    return out_dict\n",
    "\n",
    "invertDictionary({'a':2, 'b':1, 'c':2, 'd':1})\n",
    "\n",
    "# ---------------------------------------------------------------------------\n",
    "\n",
    "# def invertDictionary(dictionary):\n",
    "#     inverted_dictionary = {}\n",
    "#     for key, value in dictionary.items():\n",
    "#         if inverted_dictionary.get(value) == None:\n",
    "#             inverted_dictionary[value] = list(key)\n",
    "#         else:\n",
    "#             inverted_dictionary[value].append(key)\n",
    "        \n",
    "#     return inverted_dictionary\n",
    "\n",
    "# print(invertDictionary({'a':1, 'b':2, 'c':3, 'd':2}))\n",
    "# print(invertDictionary({'a':3, 'b':3, 'c':3}))\n",
    "# print(invertDictionary({'a':2, 'b':1, 'c':2, 'd':1}))\n",
    "\n",
    "# ---------------------------------------------------------------------------\n",
    "\n",
    "# def invertDictionary(dict):\n",
    "#     dict_rev = {}\n",
    "#     for j in dict.keys():\n",
    "#         if dict[j] in dict_rev.keys():\n",
    "#             dict_rev[dict[j]].append(j)\n",
    "#         else:\n",
    "#             dict_rev[dict[j]] = [j]\n",
    "#     return sorted(dict_rev.items())\n",
    "\n",
    "# ---------------------------------------------------------------------------\n",
    "\n",
    "# def invertDictionary(d) : \n",
    "#     invert_sampleDict={}\n",
    "#     for k,v in d.items() :\n",
    "#         invert_sampleDict.setdefault(v, []).append(k)\n",
    "#     invert_sampleDict = {k: invert_sampleDict[k] for k in sorted(invert_sampleDict)}\n",
    "#     return invert_sampleDict\n",
    "\n",
    "# #Initialize Dictionary\n",
    "# print(\"Solution A : \")\n",
    "# d = {'a':1, 'b':2, 'c':3, 'd':2}\n",
    "# print(\"Values in sampleDict Dictionary before invert  : \\n\",d)\n",
    "# invert_sampleDict1=invertDictionary(d)\n",
    "# print(\"Values in sampleDict Dictionary before invert  : \\n\",invert_sampleDict1)\n",
    "\n",
    "# ---------------------------------------------------------------------------\n",
    "\n",
    "# def reverseLookup(d):\n",
    "#     v = list(d.values())\n",
    "#     k = list(d.keys())\n",
    "    \n",
    "#     i = 0\n",
    "#     l = []\n",
    "    \n",
    "#     for i in v:\n",
    "#         if v.count(i) > 1:\n",
    "#             print(v.count(i))\n",
    "#             l.append(k[v.index(i)])\n",
    "\n",
    "#     return l\n",
    "\n",
    "# In = {'a':1, 'b':2, 'c':3, 'd':2}\n",
    "# rev = reverseLookup(In)\n",
    "# print(rev)\n",
    "\n",
    "# ---------------------------------------------------------------------------\n",
    "\n",
    "# def invertDictionary(d):\n",
    "#     inv_map = {}\n",
    "#     for k, v in d.items():\n",
    "#         inv_map[v] = inv_map.get(v, []) + [k]\n",
    "#     print(inv_map)\n",
    "    \n",
    "# d= {'a':2, 'b':1, 'c':2, 'd':1}\n",
    "# invertDictionary(d)\n",
    "\n",
    "# ---------------------------------------------------------------------------\n",
    "\n",
    "# def invertDictionary(input_dictionary):\n",
    "#     inverted_dictionary = {}\n",
    "#     for key, value in input_dictionary.items():\n",
    "#         if inverted_dictionary.get(value) == None:\n",
    "#             inverted_dictionary[value] = list(key)\n",
    "#         else:\n",
    "#             inverted_dictionary[value].append(key)\n",
    "        \n",
    "#     return inverted_dictionary\n"
   ]
  },
  {
   "cell_type": "code",
   "execution_count": 29,
   "metadata": {},
   "outputs": [
    {
     "data": {
      "text/plain": [
       "{0: 1, 3: 2, 7: 3, 12: 4}"
      ]
     },
     "execution_count": 29,
     "metadata": {},
     "output_type": "execute_result"
    }
   ],
   "source": [
    "# Write a function that converts a sparse vector into a dictionary as described above.\n",
    "# In - convertVector([1, 0, 0, 2, 0, 0, 0, 3, 0, 0, 0, 0, 4])\n",
    "# Out - {0: 1, 3: 2, 7: 3, 12: 4}\n",
    "# In - convertVector([1, 0, 1 , 0, 2, 0, 1, 0, 0, 1, 0])\n",
    "# Out - {0: 1, 2: 1, 4: 2, 6: 1, 9: 1}\n",
    "# In - convertVector([0, 0, 0, 0, 0])\n",
    "# Out - {}\n",
    "\n",
    "\n",
    "# def convertVector(numbers):\n",
    "#     pos = -1\n",
    "#     out_dict = {}\n",
    "#     for num in numbers:\n",
    "#         if num != 0:\n",
    "#             try:\n",
    "#                 pos = numbers.index(num, pos+1)\n",
    "#             except:\n",
    "#                 break\n",
    "#             out_dict[pos] = num\n",
    "#     return out_dict\n",
    "\n",
    "# convertVector([1, 0, 0, 2, 0, 0, 0, 3, 0, 0, 0, 0, 4])\n",
    "\n",
    "# ---------------------------------------------------------------------------\n",
    "\n",
    "def convertVector(sparse_vect):\n",
    "    dict_vect = {}\n",
    "    for i in sparse_vect:\n",
    "        if i != 0:\n",
    "            dict_vect[sparse_vect.index(i)] = i\n",
    "    return dict_vect\n",
    "# ---------------------------------------------------------------------------\n",
    "\n",
    "# def convertVector(spare_vector_list) : \n",
    "#     invert_sampleDict={n: v for n,v in enumerate(spare_vector_list) if v}\n",
    "#     return invert_sampleDict\n",
    "\n",
    "#Sparse vector list\n",
    "# print(\"Solution A : \")\n",
    "# spare_vector_list = [1, 0, 0, 2, 0, 0, 0, 3, 0, 0, 0, 0, 4]\n",
    "# print(\"spare_vector_list before converting into dictionary        : \\n\",spare_vector_list)\n",
    "# invert_sampleDict1=convertVector(spare_vector_list)\n",
    "# print(\"Resulted dictionary after converting the spare_vector_list : \\n\",invert_sampleDict1)\n",
    "\n",
    "# ---------------------------------------------------------------------------\n",
    "\n",
    "# def convertVector(my_list):\n",
    "#     my_dic = dict()\n",
    "#     print({my_list.index(i):i for i in my_list if i!=0})\n",
    "\n",
    "# ---------------------------------------------------------------------------\n",
    "\n",
    "# def convertVector(sparse_vector):\n",
    "#     tuple_list =[]\n",
    "#     for i in range(len(sparse_vector)):\n",
    "#         a,b = (sparse_vector.index(sparse_vector[i], i), sparse_vector[i])\n",
    "#         if b != 0:\n",
    "#             tuple_list.append((a,b))\n",
    "#     return dict(tuple_list)\n",
    "\n",
    "# ---------------------------------------------------------------------------\n",
    "\n",
    "# def convertVector(l):\n",
    "#     cl = l.copy()\n",
    "#     kl = []\n",
    "#     vl = []\n",
    "#     for i in l:\n",
    "#         if i != 0:\n",
    "#             ind = cl.index(i)\n",
    "#             kl.append(ind)\n",
    "#             vl.append(i)\n",
    "#             cl.remove(i)\n",
    "#             cl.insert(i,0)\n",
    "#     cv = dict(zip(kl,vl)) \n",
    "#     return cv\n",
    "\n",
    "# inp = eval(input('Enter a sparse vector: '))\n",
    "# dv = convertVector(inp)\n",
    "# print(dv)\n",
    "\n"
   ]
  },
  {
   "cell_type": "code",
   "execution_count": 37,
   "metadata": {},
   "outputs": [
    {
     "ename": "KeyboardInterrupt",
     "evalue": "",
     "output_type": "error",
     "traceback": [
      "\u001b[0;31m---------------------------------------------------------------------------\u001b[0m",
      "\u001b[0;31mKeyboardInterrupt\u001b[0m                         Traceback (most recent call last)",
      "\u001b[0;32m~/anaconda3/lib/python3.7/site-packages/ipykernel/kernelbase.py\u001b[0m in \u001b[0;36m_input_request\u001b[0;34m(self, prompt, ident, parent, password)\u001b[0m\n\u001b[1;32m    877\u001b[0m             \u001b[0;32mtry\u001b[0m\u001b[0;34m:\u001b[0m\u001b[0;34m\u001b[0m\u001b[0;34m\u001b[0m\u001b[0m\n\u001b[0;32m--> 878\u001b[0;31m                 \u001b[0mident\u001b[0m\u001b[0;34m,\u001b[0m \u001b[0mreply\u001b[0m \u001b[0;34m=\u001b[0m \u001b[0mself\u001b[0m\u001b[0;34m.\u001b[0m\u001b[0msession\u001b[0m\u001b[0;34m.\u001b[0m\u001b[0mrecv\u001b[0m\u001b[0;34m(\u001b[0m\u001b[0mself\u001b[0m\u001b[0;34m.\u001b[0m\u001b[0mstdin_socket\u001b[0m\u001b[0;34m,\u001b[0m \u001b[0;36m0\u001b[0m\u001b[0;34m)\u001b[0m\u001b[0;34m\u001b[0m\u001b[0;34m\u001b[0m\u001b[0m\n\u001b[0m\u001b[1;32m    879\u001b[0m             \u001b[0;32mexcept\u001b[0m \u001b[0mException\u001b[0m\u001b[0;34m:\u001b[0m\u001b[0;34m\u001b[0m\u001b[0;34m\u001b[0m\u001b[0m\n",
      "\u001b[0;32m~/anaconda3/lib/python3.7/site-packages/jupyter_client/session.py\u001b[0m in \u001b[0;36mrecv\u001b[0;34m(self, socket, mode, content, copy)\u001b[0m\n\u001b[1;32m    802\u001b[0m         \u001b[0;32mtry\u001b[0m\u001b[0;34m:\u001b[0m\u001b[0;34m\u001b[0m\u001b[0;34m\u001b[0m\u001b[0m\n\u001b[0;32m--> 803\u001b[0;31m             \u001b[0mmsg_list\u001b[0m \u001b[0;34m=\u001b[0m \u001b[0msocket\u001b[0m\u001b[0;34m.\u001b[0m\u001b[0mrecv_multipart\u001b[0m\u001b[0;34m(\u001b[0m\u001b[0mmode\u001b[0m\u001b[0;34m,\u001b[0m \u001b[0mcopy\u001b[0m\u001b[0;34m=\u001b[0m\u001b[0mcopy\u001b[0m\u001b[0;34m)\u001b[0m\u001b[0;34m\u001b[0m\u001b[0;34m\u001b[0m\u001b[0m\n\u001b[0m\u001b[1;32m    804\u001b[0m         \u001b[0;32mexcept\u001b[0m \u001b[0mzmq\u001b[0m\u001b[0;34m.\u001b[0m\u001b[0mZMQError\u001b[0m \u001b[0;32mas\u001b[0m \u001b[0me\u001b[0m\u001b[0;34m:\u001b[0m\u001b[0;34m\u001b[0m\u001b[0;34m\u001b[0m\u001b[0m\n",
      "\u001b[0;32m~/anaconda3/lib/python3.7/site-packages/zmq/sugar/socket.py\u001b[0m in \u001b[0;36mrecv_multipart\u001b[0;34m(self, flags, copy, track)\u001b[0m\n\u001b[1;32m    469\u001b[0m         \"\"\"\n\u001b[0;32m--> 470\u001b[0;31m         \u001b[0mparts\u001b[0m \u001b[0;34m=\u001b[0m \u001b[0;34m[\u001b[0m\u001b[0mself\u001b[0m\u001b[0;34m.\u001b[0m\u001b[0mrecv\u001b[0m\u001b[0;34m(\u001b[0m\u001b[0mflags\u001b[0m\u001b[0;34m,\u001b[0m \u001b[0mcopy\u001b[0m\u001b[0;34m=\u001b[0m\u001b[0mcopy\u001b[0m\u001b[0;34m,\u001b[0m \u001b[0mtrack\u001b[0m\u001b[0;34m=\u001b[0m\u001b[0mtrack\u001b[0m\u001b[0;34m)\u001b[0m\u001b[0;34m]\u001b[0m\u001b[0;34m\u001b[0m\u001b[0;34m\u001b[0m\u001b[0m\n\u001b[0m\u001b[1;32m    471\u001b[0m         \u001b[0;31m# have first part already, only loop while more to receive\u001b[0m\u001b[0;34m\u001b[0m\u001b[0;34m\u001b[0m\u001b[0;34m\u001b[0m\u001b[0m\n",
      "\u001b[0;32mzmq/backend/cython/socket.pyx\u001b[0m in \u001b[0;36mzmq.backend.cython.socket.Socket.recv\u001b[0;34m()\u001b[0m\n",
      "\u001b[0;32mzmq/backend/cython/socket.pyx\u001b[0m in \u001b[0;36mzmq.backend.cython.socket.Socket.recv\u001b[0;34m()\u001b[0m\n",
      "\u001b[0;32mzmq/backend/cython/socket.pyx\u001b[0m in \u001b[0;36mzmq.backend.cython.socket._recv_copy\u001b[0;34m()\u001b[0m\n",
      "\u001b[0;32m~/anaconda3/lib/python3.7/site-packages/zmq/backend/cython/checkrc.pxd\u001b[0m in \u001b[0;36mzmq.backend.cython.checkrc._check_rc\u001b[0;34m()\u001b[0m\n",
      "\u001b[0;31mKeyboardInterrupt\u001b[0m: ",
      "\nDuring handling of the above exception, another exception occurred:\n",
      "\u001b[0;31mKeyboardInterrupt\u001b[0m                         Traceback (most recent call last)",
      "\u001b[0;32m<ipython-input-37-e45c956a9fef>\u001b[0m in \u001b[0;36m<module>\u001b[0;34m\u001b[0m\n\u001b[1;32m     66\u001b[0m     \u001b[0;32mreturn\u001b[0m \u001b[0ml\u001b[0m\u001b[0;34m\u001b[0m\u001b[0;34m\u001b[0m\u001b[0m\n\u001b[1;32m     67\u001b[0m \u001b[0;34m\u001b[0m\u001b[0m\n\u001b[0;32m---> 68\u001b[0;31m \u001b[0minp\u001b[0m \u001b[0;34m=\u001b[0m \u001b[0meval\u001b[0m\u001b[0;34m(\u001b[0m\u001b[0minput\u001b[0m\u001b[0;34m(\u001b[0m\u001b[0;34m'Enter a dictionary to convert in sparse vector: '\u001b[0m\u001b[0;34m)\u001b[0m\u001b[0;34m)\u001b[0m\u001b[0;34m\u001b[0m\u001b[0;34m\u001b[0m\u001b[0m\n\u001b[0m\u001b[1;32m     69\u001b[0m \u001b[0mdv\u001b[0m \u001b[0;34m=\u001b[0m \u001b[0mconvertDictionary\u001b[0m\u001b[0;34m(\u001b[0m\u001b[0minp\u001b[0m\u001b[0;34m)\u001b[0m\u001b[0;34m\u001b[0m\u001b[0;34m\u001b[0m\u001b[0m\n\u001b[1;32m     70\u001b[0m \u001b[0mprint\u001b[0m\u001b[0;34m(\u001b[0m\u001b[0mdv\u001b[0m\u001b[0;34m)\u001b[0m\u001b[0;34m\u001b[0m\u001b[0;34m\u001b[0m\u001b[0m\n",
      "\u001b[0;32m~/anaconda3/lib/python3.7/site-packages/ipykernel/kernelbase.py\u001b[0m in \u001b[0;36mraw_input\u001b[0;34m(self, prompt)\u001b[0m\n\u001b[1;32m    851\u001b[0m             \u001b[0mself\u001b[0m\u001b[0;34m.\u001b[0m\u001b[0m_parent_ident\u001b[0m\u001b[0;34m,\u001b[0m\u001b[0;34m\u001b[0m\u001b[0;34m\u001b[0m\u001b[0m\n\u001b[1;32m    852\u001b[0m             \u001b[0mself\u001b[0m\u001b[0;34m.\u001b[0m\u001b[0m_parent_header\u001b[0m\u001b[0;34m,\u001b[0m\u001b[0;34m\u001b[0m\u001b[0;34m\u001b[0m\u001b[0m\n\u001b[0;32m--> 853\u001b[0;31m             \u001b[0mpassword\u001b[0m\u001b[0;34m=\u001b[0m\u001b[0;32mFalse\u001b[0m\u001b[0;34m,\u001b[0m\u001b[0;34m\u001b[0m\u001b[0;34m\u001b[0m\u001b[0m\n\u001b[0m\u001b[1;32m    854\u001b[0m         )\n\u001b[1;32m    855\u001b[0m \u001b[0;34m\u001b[0m\u001b[0m\n",
      "\u001b[0;32m~/anaconda3/lib/python3.7/site-packages/ipykernel/kernelbase.py\u001b[0m in \u001b[0;36m_input_request\u001b[0;34m(self, prompt, ident, parent, password)\u001b[0m\n\u001b[1;32m    881\u001b[0m             \u001b[0;32mexcept\u001b[0m \u001b[0mKeyboardInterrupt\u001b[0m\u001b[0;34m:\u001b[0m\u001b[0;34m\u001b[0m\u001b[0;34m\u001b[0m\u001b[0m\n\u001b[1;32m    882\u001b[0m                 \u001b[0;31m# re-raise KeyboardInterrupt, to truncate traceback\u001b[0m\u001b[0;34m\u001b[0m\u001b[0;34m\u001b[0m\u001b[0;34m\u001b[0m\u001b[0m\n\u001b[0;32m--> 883\u001b[0;31m                 \u001b[0;32mraise\u001b[0m \u001b[0mKeyboardInterrupt\u001b[0m\u001b[0;34m\u001b[0m\u001b[0;34m\u001b[0m\u001b[0m\n\u001b[0m\u001b[1;32m    884\u001b[0m             \u001b[0;32melse\u001b[0m\u001b[0;34m:\u001b[0m\u001b[0;34m\u001b[0m\u001b[0;34m\u001b[0m\u001b[0m\n\u001b[1;32m    885\u001b[0m                 \u001b[0;32mbreak\u001b[0m\u001b[0;34m\u001b[0m\u001b[0;34m\u001b[0m\u001b[0m\n",
      "\u001b[0;31mKeyboardInterrupt\u001b[0m: "
     ]
    }
   ],
   "source": [
    "# Write a function that converts a dictionary back to its sparse vector representation.\n",
    "# In - convertDictionary({0: 1, 3: 2, 7: 3, 12: 4})\n",
    "# Out - [1, 0, 0, 2, 0, 0, 0, 3, 0, 0, 0, 0, 4]\n",
    "# In - convertDictionary({0: 1, 2: 1, 4: 2, 6: 1, 9: 1})\n",
    "# Out - [1, 0, 1, 0, 2, 0, 1, 0, 0, 1]\n",
    "# In - convertDictionary({})\n",
    "# Out - []\n",
    "\n",
    "# def convertDictionary(dictionary): \n",
    "#     key_lst = list(dictionary.keys())\n",
    "#     val_lst = list(dictionary.values())\n",
    "#     max_key = max(key_lst)\n",
    "#     out_lst = [0] * (max_key+1)\n",
    "#     pos = -1\n",
    "#     for ind in key_lst:\n",
    "#         try:\n",
    "#             pos = key_lst.index(ind, pos+1)\n",
    "#         except ValueError:\n",
    "#             break\n",
    "#         out_lst[ind] = val_lst[pos]\n",
    "#     return out_lst\n",
    "\n",
    "# convertDictionary({0: 1, 3: 2, 7: 3, 12: 4})\n",
    "\n",
    "# ---------------------------------------------------------------------------\n",
    "\n",
    "def convertDictionary(my_dic):\n",
    "    out_list = []\n",
    "    if bool(my_dic): \n",
    "        for i in range(list(my_dic.keys())[-1]+1):\n",
    "            if my_dic.get(i, '-1')=='-1':\n",
    "                out_list.append(0)\n",
    "            else:\n",
    "                out_list.append(my_dic.get(i, '-1'))\n",
    "    print(out_list)\n",
    "\n",
    "# ---------------------------------------------------------------------------\n",
    "\n",
    "# def convertDictionary(sampleDict) :\n",
    "#     if(bool(sampleDict)) :\n",
    "#         return [sampleDict.get(i,0) for i in range(0,max(sampleDict)+1)]\n",
    "#     else :\n",
    "#         return []\n",
    "\n",
    "# #Sparse vector list\n",
    "# print(\"Solution A : \")\n",
    "# sampleDict = {0: 1, 2: 1, 4: 2, 6: 1, 9: 1}\n",
    "# print(\"Dictionary before converting into spare_vector_list        : \\n\",sampleDict)\n",
    "# spare_vector_list2=convertDictionary(sampleDict)\n",
    "# print(\"Resulted spare_vector_list after converting the dictionary : \\n\",spare_vector_list2)\n",
    "\n",
    "# ---------------------------------------------------------------------------\n",
    "\n",
    "# def convertDictionary(l):\n",
    "#     k = list(l.keys())\n",
    "#     v = list(l.values())\n",
    "#     l = []\n",
    "#     if len(k) > 0:\n",
    "#         for i in range(k[-1]+1):\n",
    "#             l.insert(i,0)\n",
    "#         x = 0\n",
    "#         for j in k:\n",
    "#             l.pop()\n",
    "#             l.insert(j,v[x])\n",
    "#             x += 1\n",
    "#     return l\n",
    "\n",
    "# inp = eval(input('Enter a dictionary to convert in sparse vector: '))\n",
    "# dv = convertDictionary(inp)\n",
    "# print(dv)\n",
    "\n",
    "# ---------------------------------------------------------------------------\n",
    "\n",
    "# def convertDictionary(input_dictionary):\n",
    "#     max_length = max(input_dictionary.keys()) if len(input_dictionary) > 0 else 0\n",
    "#     return [input_dictionary.get(i, 0) for i in range(max_length+1) if max_length > 0]\n",
    "    \n",
    "\n",
    "# print(convertDictionary({0: 1, 3: 2, 7: 3, 12: 4}))\n",
    "# print(convertDictionary({0: 1, 2: 1, 4: 2, 6: 1, 9: 1}))\n",
    "# print(convertDictionary({}))\n",
    "\n",
    "# ---------------------------------------------------------------------------\n",
    "\n",
    "# def convertDictionary(input_dictionary):\n",
    "#     max_length = max(input_dictionary.keys()) if len(input_dictionary) > 0 else 0\n",
    "#     return [input_dictionary.get(i, 0) for i in range(max_length+1) if max_length > 0]\n",
    "\n",
    "# ---------------------------------------------------------------------------\n",
    "\n",
    "def convertDictionary(dict_vect):\n",
    "    vect = []\n",
    "    if dict_vect == {}:\n",
    "        return vect\n",
    "    else:\n",
    "        for i in range (0,max(dict_vect.keys())+1):\n",
    "            if i in dict_vect.keys():\n",
    "                vect.append(dict_vect[i])\n",
    "            else:\n",
    "                vect.append(0)\n",
    "        return vect\n",
    "\n",
    "# ---------------------------------------------------------------------------\n",
    "\n",
    "\n",
    "\n",
    "# ---------------------------------------------------------------------------\n"
   ]
  },
  {
   "cell_type": "code",
   "execution_count": 38,
   "metadata": {},
   "outputs": [
    {
     "data": {
      "text/plain": [
       "{'A': 'U', 'T': 'A', 'C': 'G', 'G': 'C'}"
      ]
     },
     "execution_count": 38,
     "metadata": {},
     "output_type": "execute_result"
    }
   ],
   "source": [
    "# In gene expression, mRNA is transcribed from a DNA template. \n",
    "# The 4 nucleotide bases of A, T, C, G corresponds to the U, A, G, C bases of the mRNA. \n",
    "# Write a function that returns the mRNA transcript given the sequence of a DNA strand.\n",
    "\n",
    "# Use a dictionary to provide the mapping of DNA to RNA bases.\n",
    "\n",
    "dict(zip(list('ATCG'), list('UAGC')))\n",
    "\n",
    "\n"
   ]
  },
  {
   "cell_type": "code",
   "execution_count": 49,
   "metadata": {},
   "outputs": [
    {
     "name": "stdout",
     "output_type": "stream",
     "text": [
      "{'A': 4, 'T': 5, 'C': 8, 'G': 3}\n"
     ]
    }
   ],
   "source": [
    "# Write a function which takes a word as input and returns a dictionary with letters as key and no of time letters are repeated as value.\n",
    "# In - count_letter('google.com')\n",
    "# Out - {'g': 2, 'o': 3, 'l': 1, 'e': 1, '.': 1, 'c': 1, 'm': 1}\n",
    "\n",
    "def count_letter(s):\n",
    "    out_dict ={}\n",
    "    out_dict = out_dict.fromkeys(list('ATCG'), 0)\n",
    "    for i in s:\n",
    "        if i in out_dict:\n",
    "            out_dict[i] += 1\n",
    "        else:\n",
    "            out_dict[i] = 1\n",
    "    return out_dict\n",
    "print(count_letter(\"CTATCGGCACCCTTTCAGCA\"))\n",
    "        \n",
    "\n",
    "\n"
   ]
  },
  {
   "cell_type": "code",
   "execution_count": null,
   "metadata": {},
   "outputs": [],
   "source": [
    "# A DNA strand consisting of the 4 nucleotide bases is usually represented with a string of letters: A,T, C, G. \n",
    "# Write a function that computes the base composition of a given DNA sequence.\n",
    "\n",
    "# In - baseComposition(\"CTATCGGCACCCTTTCAGCA\")\n",
    "# Out - {'A': 4, 'C': 8, 'T': 5,  'G': 3 }\n",
    "    \n",
    "# In - baseComposition(\"AGT\")\n",
    "# Out - {'A': 1, 'C': 0, 'T': 1,  'G': 1 }"
   ]
  },
  {
   "cell_type": "markdown",
   "metadata": {},
   "source": [
    "# Function"
   ]
  },
  {
   "cell_type": "code",
   "execution_count": 50,
   "metadata": {},
   "outputs": [
    {
     "data": {
      "text/plain": [
       "6"
      ]
     },
     "execution_count": 50,
     "metadata": {},
     "output_type": "execute_result"
    }
   ],
   "source": [
    "# Define a function calls addNumber(x, y) that takes in two number and returns the sum of the two numbers.\n",
    "\n",
    "\n",
    "def addNumber(x, y): \n",
    "    return x+y\n",
    "addNumber(2, 4)"
   ]
  },
  {
   "cell_type": "code",
   "execution_count": 51,
   "metadata": {},
   "outputs": [
    {
     "data": {
      "text/plain": [
       "13"
      ]
     },
     "execution_count": 51,
     "metadata": {},
     "output_type": "execute_result"
    }
   ],
   "source": [
    "# Define a function calls subtractNumber(x, y) that takes in two numbers and returns the difference of the two numbers.\n",
    "\n",
    "def subtractNumber(x, y): \n",
    "    return x-y\n",
    "subtractNumber(20, 7)"
   ]
  },
  {
   "cell_type": "code",
   "execution_count": 53,
   "metadata": {},
   "outputs": [
    {
     "name": "stdout",
     "output_type": "stream",
     "text": [
      "4.0\n",
      "243.0\n",
      "28.274333882308138\n"
     ]
    }
   ],
   "source": [
    "# Python provides many built-in modules with many useful functions. \n",
    "# One such module is the math module. The math module provides many useful functions such as sqrt(x), pow(x, y), ceil(x), floor(x) etc. \n",
    "# You will need to do a \"import math\" before you are allowed to use the functions within the math module.\n",
    "import math\n",
    "\n",
    "# Calculate the square root of 16 and stores it in the variable a\n",
    "print(math.sqrt(16))\n",
    "\n",
    "# Calculate 3 to the power of 5 and stores it in the variable b\n",
    "print(math.pow(3,5))\n",
    "\n",
    "# Calculate area of circle with radius = 3.0 by making use of the math.pi constant and store it in the variable c\n",
    "print(math.pi*3.0*3.0)\n"
   ]
  },
  {
   "cell_type": "code",
   "execution_count": 54,
   "metadata": {},
   "outputs": [
    {
     "data": {
      "text/plain": [
       "'82.40'"
      ]
     },
     "execution_count": 54,
     "metadata": {},
     "output_type": "execute_result"
    }
   ],
   "source": [
    "# Write a function to convert temperature from Celsius to Fahrenheit scale.\n",
    "# oC to oF Conversion: Multipy by 9, then divide by 5, then add 32.\n",
    "\n",
    "# Note: Return a string of 2 decimal places.\n",
    "# In - Cel2Fah(28.0)\n",
    "# Out - '82.40'\n",
    "# In - Cel2Fah(0.00)\n",
    "# Out - '32.00'\n",
    "\n",
    "def Cel2Fah(temp): \n",
    "    out_temp = ((temp*9)/5)+32\n",
    "    return '{:.2f}'.format(out_temp)\n",
    "Cel2Fah(28.0)\n",
    "\n"
   ]
  },
  {
   "cell_type": "code",
   "execution_count": 55,
   "metadata": {},
   "outputs": [
    {
     "data": {
      "text/plain": [
       "'27.5'"
      ]
     },
     "execution_count": 55,
     "metadata": {},
     "output_type": "execute_result"
    }
   ],
   "source": [
    "# Write a function to compute the BMI of a person.\n",
    "#     BMI = weight(kg)  /  ( height(m)*height(m) )\n",
    "\n",
    "# Note: Return a string of 1 decimal place.\n",
    "# In - BMI(63, 1.7)\n",
    "# Out - '21.8'\n",
    "# In - BMI(110, 2)\n",
    "# Out - '27.5'\n",
    "\n",
    "def BMI(weight, height): \n",
    "    out_ind = weight / (height*height)\n",
    "    return '{:.1f}'.format(out_ind)\n",
    "BMI(110, 2)"
   ]
  },
  {
   "cell_type": "code",
   "execution_count": 57,
   "metadata": {},
   "outputs": [
    {
     "data": {
      "text/plain": [
       "525"
      ]
     },
     "execution_count": 57,
     "metadata": {},
     "output_type": "execute_result"
    }
   ],
   "source": [
    "# Write a function percent(value, total) that takes in two numbers as arguments, and returns the percentage value as an integer.\n",
    "# In - percent(46, 90)\n",
    "# Out - 51\n",
    "# In - percent(51, 51)\n",
    "# Out - 100\n",
    "# In - percent(63, 12)\n",
    "# Out - 525\n",
    "\n",
    "\n",
    "def percent(val, total):\n",
    "    return int((val*100)/total)\n",
    "\n",
    "percent(63, 12)"
   ]
  },
  {
   "cell_type": "code",
   "execution_count": 58,
   "metadata": {},
   "outputs": [
    {
     "data": {
      "text/plain": [
       "5.0"
      ]
     },
     "execution_count": 58,
     "metadata": {},
     "output_type": "execute_result"
    }
   ],
   "source": [
    "# Write a function to compute the hypotenuse given sides a and b of the triangle.\n",
    "# Hint: You can use math.sqrt(x) to compute the square root of x.\n",
    "# In - hypotenuse(3, 4)\n",
    "# Out - 5\n",
    "# In - hypotenuse(5, 12)\n",
    "# Out - 13\n",
    "\n",
    "import math\n",
    "def hypotenuse(a, b): \n",
    "    return math.sqrt(pow(a,2)+pow(b,2))\n",
    "hypotenuse(3, 4)"
   ]
  },
  {
   "cell_type": "code",
   "execution_count": 60,
   "metadata": {},
   "outputs": [
    {
     "data": {
      "text/plain": [
       "9"
      ]
     },
     "execution_count": 60,
     "metadata": {},
     "output_type": "execute_result"
    }
   ],
   "source": [
    "# Write a function getSumOfLastDigits() that takes in a list of positive numbers and returns the sum of all the last digits in the list.\n",
    "# getSumOfLastDigits([2, 3, 4])\n",
    "# 9\n",
    "# getSumOfLastDigits([1, 23, 456])\n",
    "# 10\n",
    "\n",
    "def getSumOfLastDigits(numList): \n",
    "    total = 0\n",
    "    for num in numList:\n",
    "        total = total + int(str(num)[-1])\n",
    "    return total\n",
    "getSumOfLastDigits([2, 23, 234])\n"
   ]
  },
  {
   "cell_type": "code",
   "execution_count": 61,
   "metadata": {},
   "outputs": [
    {
     "data": {
      "text/plain": [
       "'My name is Lim. I am 20 years old.'"
      ]
     },
     "execution_count": 61,
     "metadata": {},
     "output_type": "execute_result"
    }
   ],
   "source": [
    "# Write a function that uses a default value.\n",
    "# In - introduce('Lim', 20)\n",
    "# Out - 'My name is Lim. I am 20 years old.'\n",
    "# In - introduce('Ahmad')\n",
    "# Out - 'My name is Ahmad. My age is secret.'\n",
    "\n",
    "def introduce(name, age=0):\n",
    "    msg = \"My name is %s. \" % name\n",
    "    if age == 0:\n",
    "        msg += \"My age is secret.\"\n",
    "    else:\n",
    "        msg += \"I am {} years old.\".format(age)\n",
    "    return msg \n",
    "introduce('Lim', 20)"
   ]
  },
  {
   "cell_type": "code",
   "execution_count": 64,
   "metadata": {},
   "outputs": [
    {
     "data": {
      "text/plain": [
       "True"
      ]
     },
     "execution_count": 64,
     "metadata": {},
     "output_type": "execute_result"
    }
   ],
   "source": [
    "# Write a function isEquilateral(x, y, z) that accepts the 3 sides of a triangle as arguments. \n",
    "# The program should return True if it is an equilateral triangle.\n",
    "\n",
    "# In - isEquilateral(2, 4, 3)\n",
    "# False - False\n",
    "# In - isEquilateral(3, 3, 3)\n",
    "# Out - True\n",
    "# In - isEquilateral(-3, -3, -3)\n",
    "# Out - False\n",
    "\n",
    "def isEquilateral(x, y, z): \n",
    "    if x>0 and y>0 and z>0:\n",
    "        return True if x==y==z else False\n",
    "    else:\n",
    "        return False\n",
    "isEquilateral(3, 3, 3)"
   ]
  },
  {
   "cell_type": "code",
   "execution_count": null,
   "metadata": {},
   "outputs": [],
   "source": [
    "# For a quadratic equation in the form of ax2+bx+c, the discriminant, D is b2-4ac. Write a function to compute the discriminant, D.\n",
    "# In - quadratic(1, 2, 3)\n",
    "# Out - 'The discriminant is -8.'\n",
    "# In - quadratic(1, 3, 2)\n",
    "# Out - 'The discriminant is 1.'\n",
    "# In - quadratic(1, 4, 4)\n",
    "# Out - 'The discriminant is 0.'\n",
    "\n",
    "def quadratic(a, b, c): \n",
    "\treturn \"The discriminant is {}.\".format((b*b) - (4*a*c))\n",
    "quadratic(1, 2, 3)"
   ]
  },
  {
   "cell_type": "code",
   "execution_count": 65,
   "metadata": {},
   "outputs": [
    {
     "data": {
      "text/plain": [
       "0"
      ]
     },
     "execution_count": 65,
     "metadata": {},
     "output_type": "execute_result"
    }
   ],
   "source": [
    "# Define a function calls addFirstAndLast(x) that takes in a list of numbers and returns the sum of the first and last numbers.\n",
    "# In - addFirstAndLast([])\n",
    "# Out - 0\n",
    "# In - addFirstAndLast([2, 7, 3])\n",
    "# Out - 5\n",
    "# In - addFirstAndLast([10])\n",
    "# Out - 10\n",
    "\n",
    "def addFirstAndLast(x): \n",
    "    if not x:\n",
    "        return 0\n",
    "    elif len(x) == 1:\n",
    "        return x[0]\n",
    "    else:\n",
    "        return x[0]+x[-1]\n",
    "addFirstAndLast([])"
   ]
  },
  {
   "cell_type": "code",
   "execution_count": 68,
   "metadata": {},
   "outputs": [
    {
     "data": {
      "text/plain": [
       "1"
      ]
     },
     "execution_count": 68,
     "metadata": {},
     "output_type": "execute_result"
    }
   ],
   "source": [
    "# In Python, it is possible to pass a function as a argument to another function. \n",
    "# Write a function useFunction(func, num) that takes in a function and a number as arguments. \n",
    "# The useFunction should produce the output shown in the examples given below.\n",
    "\n",
    "# def addOne(x):\n",
    "#   return x + 1\n",
    "# useFunction(addOne, 4)\n",
    "# 25\n",
    "# useFunction(addOne, 9)\n",
    "# 100\n",
    "# useFunction(addOne, 0)\n",
    "# 1\n",
    "\n",
    "def addOne(x):\n",
    "    return x + 1\n",
    "\n",
    "def useFunction(f, val):\n",
    "    return f(val)**2\n",
    "\n",
    "useFunction(addOne, 0)"
   ]
  },
  {
   "cell_type": "code",
   "execution_count": 69,
   "metadata": {},
   "outputs": [
    {
     "name": "stdout",
     "output_type": "stream",
     "text": [
      "A function that computes and returns the final score.\n"
     ]
    }
   ],
   "source": [
    "# getScore.__doc__\n",
    "# 'A function that computes and returns the final score.'\n",
    "\n",
    "def getScore(data):\n",
    "    '''A function that computes and returns the final score.'''\n",
    "    return score \n",
    "\n",
    "print(getScore.__doc__)"
   ]
  },
  {
   "cell_type": "markdown",
   "metadata": {},
   "source": [
    "# Regular Expression"
   ]
  },
  {
   "cell_type": "code",
   "execution_count": 70,
   "metadata": {},
   "outputs": [
    {
     "name": "stdout",
     "output_type": "stream",
     "text": [
      "cat\n"
     ]
    }
   ],
   "source": [
    "#Write the regular expression and use proper method which gives output as:- 'cat' in str.\n",
    "import re\n",
    "str = 'cat mat bat rat'\n",
    "res = re.match(r'c\\w\\w', str)\n",
    "print(res.group())"
   ]
  },
  {
   "cell_type": "code",
   "execution_count": 71,
   "metadata": {},
   "outputs": [
    {
     "name": "stdout",
     "output_type": "stream",
     "text": [
      "rat\n"
     ]
    }
   ],
   "source": [
    "#Write the regular expression and use proper method which gives output as:- 'rat' in str.\n",
    "import re\n",
    "str = 'cat mat bat rat'\n",
    "res = re.search(r'r\\w\\w', str)\n",
    "print(res.group())"
   ]
  },
  {
   "cell_type": "code",
   "execution_count": 72,
   "metadata": {},
   "outputs": [
    {
     "name": "stdout",
     "output_type": "stream",
     "text": [
      "['mat', 'man']\n"
     ]
    }
   ],
   "source": [
    "#Write the regular expression and use proper method which gives output as:- ['mat', 'man'] in str.\n",
    "import re\n",
    "str = 'cat mat bat rat man'\n",
    "res = re.findall(r'm\\w\\w', str)\n",
    "print(res)"
   ]
  },
  {
   "cell_type": "code",
   "execution_count": 73,
   "metadata": {},
   "outputs": [
    {
     "name": "stdout",
     "output_type": "stream",
     "text": [
      "['Python', 's', 'Programming', 'is', 'very', 'easy', 'to', 'learn']\n"
     ]
    }
   ],
   "source": [
    "#Write the regular expression and use proper method which gives output as:- \n",
    "#['Python', 's', 'Programming', 'is', 'very', 'easy', 'to', 'learn'] in str.\n",
    "import re\n",
    "str = \"Python's Programming: is very easy to learn\"\n",
    "res = re.split(r'\\W+', str)\n",
    "print(res)"
   ]
  },
  {
   "cell_type": "code",
   "execution_count": 74,
   "metadata": {},
   "outputs": [
    {
     "name": "stdout",
     "output_type": "stream",
     "text": [
      "Python Programming: is very easy to learn\n"
     ]
    }
   ],
   "source": [
    "#Write the regular expression and use proper method which gives output as:- Python Programming: is very easy to learn in str.\n",
    "import re\n",
    "str = \"Python's Programming: is very easy to learn\"\n",
    "res = re.sub(r\"Python's\", 'Python', str)\n",
    "print(res)"
   ]
  },
  {
   "cell_type": "code",
   "execution_count": 75,
   "metadata": {},
   "outputs": [
    {
     "name": "stdout",
     "output_type": "stream",
     "text": [
      "['peter', 'per', 'picked', 'peck', 'pickled', 'peppers']\n"
     ]
    }
   ],
   "source": [
    "#Write the regular expression and use proper method which Retrieves all words starting with p.\n",
    "#Output:- ['peter', 'per', 'picked', 'peck', 'pickled', 'peppers']\n",
    "import re\n",
    "str = \"peter giper picked a peck of pickled peppers\"\n",
    "res = re.findall(r'p[\\w]*', str)\n",
    "print(res)"
   ]
  },
  {
   "cell_type": "code",
   "execution_count": 76,
   "metadata": {},
   "outputs": [
    {
     "name": "stdout",
     "output_type": "stream",
     "text": [
      "['peter', 'picked', 'peck', 'pickled', 'peppers']\n"
     ]
    }
   ],
   "source": [
    "#Write the regular expression and use proper method which Retrieves all words starting with p except 'per' which is not a separate word.\n",
    "#Output:- ['peter', 'picked', 'peck', 'pickled', 'peppers']\n",
    "import re\n",
    "str = \"peter giper picked a peck of pickled peppers\"\n",
    "res = re.findall(r'\\bp[\\w]*\\b', str)\n",
    "print(res)\n"
   ]
  },
  {
   "cell_type": "code",
   "execution_count": 77,
   "metadata": {},
   "outputs": [
    {
     "name": "stdout",
     "output_type": "stream",
     "text": [
      "['8th', '11th']\n"
     ]
    }
   ],
   "source": [
    "#Write the regular expression and use proper method which Retrieves all words starting with a digit.\n",
    "#Output:- ['8th', '11th']\n",
    "import re\n",
    "str = 'The election in delhi will be held on 8th and result for the same will be declared on 11th'\n",
    "res = re.findall(r'\\d[\\w]*', str)\n",
    "print(res)\n"
   ]
  },
  {
   "cell_type": "code",
   "execution_count": 78,
   "metadata": {},
   "outputs": [
    {
     "name": "stdout",
     "output_type": "stream",
     "text": [
      "['peter', 'giper']\n"
     ]
    }
   ],
   "source": [
    "#Write the regular expression and use proper method which Retrieves all words having 5 characters.\n",
    "#Output:- ['peter', 'giper']\n",
    "import re\n",
    "str = \"peter giper picked a peck of pickled peppers\"\n",
    "res = re.findall(r'\\b\\w{5}\\b', str)\n",
    "print(res)"
   ]
  },
  {
   "cell_type": "code",
   "execution_count": 81,
   "metadata": {},
   "outputs": [
    {
     "name": "stdout",
     "output_type": "stream",
     "text": [
      "['Retrieving', 'words', 'having', 'least', 'characters']\n"
     ]
    }
   ],
   "source": [
    "#Write the regular expression and use proper method which Retrieves all words having at least 4 characters.\n",
    "#Output:- ['Retrieving', 'all', 'words', 'having', 'least', 'characters']\n",
    "import re\n",
    "str = \"Retrieving all words having at least 4 characters\"\n",
    "res = re.findall(r'\\b\\w{4,}\\b', str)\n",
    "print(res)\n"
   ]
  },
  {
   "cell_type": "code",
   "execution_count": 82,
   "metadata": {},
   "outputs": [
    {
     "name": "stdout",
     "output_type": "stream",
     "text": [
      "['all', 'words', 'least']\n"
     ]
    }
   ],
   "source": [
    "#Write the regular expression and use proper method which Retrieves all words having at characters between 3 to 5 words.\n",
    "#Output:- ['all', 'words', 'least']\n",
    "import re\n",
    "str = \"Retrieving all words having at least 4 characters\"\n",
    "res = re.findall(r'\\b\\w{3,5}\\b', str)\n",
    "print(res)"
   ]
  },
  {
   "cell_type": "code",
   "execution_count": 88,
   "metadata": {},
   "outputs": [
    {
     "name": "stdout",
     "output_type": "stream",
     "text": [
      "['8', '11']\n"
     ]
    }
   ],
   "source": [
    "#Write the regular expression and use proper method which Retrieves only digits from the string.\n",
    "#Output:- ['8', '11']\n",
    "import re\n",
    "str = 'The election in delhi will be held on 8th and result for the same will be declared on 11th'\n",
    "res = re.findall(r'\\d+', str)\n",
    "print(res)\n"
   ]
  },
  {
   "cell_type": "code",
   "execution_count": 89,
   "metadata": {},
   "outputs": [
    {
     "name": "stdout",
     "output_type": "stream",
     "text": [
      "['characters']\n"
     ]
    }
   ],
   "source": [
    "#Write the regular expression and use proper method which Retrieves last word if starts with c from the given string.\n",
    "#Output:- ['characters']\n",
    "import re\n",
    "str = \"Retrieving all words having at least 4 characters\"\n",
    "res = re.findall(r'\\bc[\\w]*\\Z', str)\n",
    "print(res)\n"
   ]
  },
  {
   "cell_type": "code",
   "execution_count": 90,
   "metadata": {},
   "outputs": [
    {
     "name": "stdout",
     "output_type": "stream",
     "text": [
      "1234567890\n"
     ]
    }
   ],
   "source": [
    "#Retrieving the phone number from a string\n",
    "import re\n",
    "str = \"Learnbay : 1234567890\"\n",
    "res = re.search(r'\\d+', str)\n",
    "print(res.group())"
   ]
  },
  {
   "cell_type": "code",
   "execution_count": 91,
   "metadata": {},
   "outputs": [
    {
     "name": "stdout",
     "output_type": "stream",
     "text": [
      "Learnbay : \n"
     ]
    }
   ],
   "source": [
    "#Etracting name from the string but not number\n",
    "import re\n",
    "str = \"Learnbay : 1234567890\"\n",
    "res = re.search(r'\\D+', str)\n",
    "print(res.group())"
   ]
  },
  {
   "cell_type": "code",
   "execution_count": 92,
   "metadata": {},
   "outputs": [
    {
     "name": "stdout",
     "output_type": "stream",
     "text": [
      "['anil', 'akhil', 'anant', 'ankur']\n"
     ]
    }
   ],
   "source": [
    "#Retrieving name starting with 'an' or 'ak'\n",
    "import re\n",
    "str = 'anil akhil anant abhi arun arati arundhati abhijit ankur'\n",
    "res = re.findall(r'a[nk][\\w]*',str)\n",
    "print(res)"
   ]
  },
  {
   "cell_type": "code",
   "execution_count": null,
   "metadata": {},
   "outputs": [],
   "source": []
  },
  {
   "cell_type": "code",
   "execution_count": null,
   "metadata": {},
   "outputs": [],
   "source": []
  },
  {
   "cell_type": "code",
   "execution_count": null,
   "metadata": {},
   "outputs": [],
   "source": []
  },
  {
   "cell_type": "code",
   "execution_count": null,
   "metadata": {},
   "outputs": [],
   "source": []
  }
 ],
 "metadata": {
  "kernelspec": {
   "display_name": "Python 3",
   "language": "python",
   "name": "python3"
  },
  "language_info": {
   "codemirror_mode": {
    "name": "ipython",
    "version": 3
   },
   "file_extension": ".py",
   "mimetype": "text/x-python",
   "name": "python",
   "nbconvert_exporter": "python",
   "pygments_lexer": "ipython3",
   "version": "3.7.3"
  }
 },
 "nbformat": 4,
 "nbformat_minor": 2
}
