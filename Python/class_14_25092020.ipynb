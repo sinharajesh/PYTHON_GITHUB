{
 "cells": [
  {
   "cell_type": "code",
   "execution_count": null,
   "metadata": {},
   "outputs": [],
   "source": [
    "# Exception handling in python\n",
    "    Type of Error\n",
    "    What is an exception\n",
    "    Why exception required\n",
    "    How to handle th eexception\n",
    "    User defined exceptions\n",
    "# Regular Expression in Python"
   ]
  },
  {
   "cell_type": "code",
   "execution_count": null,
   "metadata": {},
   "outputs": [],
   "source": [
    "# Debugging - the process of removing the bugs from your application\n",
    "\n",
    "# Type of Error in a program\n",
    "    Compile time Error\n",
    "    Run time Error\n",
    "    Logical Error"
   ]
  },
  {
   "cell_type": "code",
   "execution_count": 4,
   "metadata": {},
   "outputs": [
    {
     "ename": "IndentationError",
     "evalue": "unexpected indent (<ipython-input-4-7606b3a981e2>, line 7)",
     "output_type": "error",
     "traceback": [
      "\u001b[0;36m  File \u001b[0;32m\"<ipython-input-4-7606b3a981e2>\"\u001b[0;36m, line \u001b[0;32m7\u001b[0m\n\u001b[0;31m    print(a)\u001b[0m\n\u001b[0m    ^\u001b[0m\n\u001b[0;31mIndentationError\u001b[0m\u001b[0;31m:\u001b[0m unexpected indent\n"
     ]
    }
   ],
   "source": [
    "a = 10\n",
    "b = 20\n",
    "c = a+b\n",
    "print(c)\n",
    "if a>b:\n",
    "    print(c)\n",
    "        print(a)"
   ]
  },
  {
   "cell_type": "code",
   "execution_count": null,
   "metadata": {},
   "outputs": [],
   "source": [
    "# Runtime Errors - caught at the run time and by PVM,Interpreter, NameError, TypeError, ValueError, FileNotFoundError,\n",
    "OverflowError, ZeroDivisionError etc\n",
    ", \n",
    "a = 10\n",
    "b = 20\n",
    "c = a+b\n",
    "print(c)\n",
    "print(d)"
   ]
  },
  {
   "cell_type": "code",
   "execution_count": null,
   "metadata": {},
   "outputs": [],
   "source": [
    "# Logical Errors - arises due to logic"
   ]
  },
  {
   "cell_type": "markdown",
   "metadata": {},
   "source": [
    "# Exceptions"
   ]
  },
  {
   "cell_type": "code",
   "execution_count": 5,
   "metadata": {},
   "outputs": [
    {
     "name": "stdout",
     "output_type": "stream",
     "text": [
      "Enter first Number: 10\n",
      "Enter second Number: 0\n"
     ]
    },
    {
     "ename": "ZeroDivisionError",
     "evalue": "division by zero",
     "output_type": "error",
     "traceback": [
      "\u001b[0;31m---------------------------------------------------------------------------\u001b[0m",
      "\u001b[0;31mZeroDivisionError\u001b[0m                         Traceback (most recent call last)",
      "\u001b[0;32m<ipython-input-5-aca1464b7f40>\u001b[0m in \u001b[0;36m<module>\u001b[0;34m\u001b[0m\n\u001b[1;32m      1\u001b[0m \u001b[0ma\u001b[0m \u001b[0;34m=\u001b[0m \u001b[0mint\u001b[0m\u001b[0;34m(\u001b[0m\u001b[0minput\u001b[0m\u001b[0;34m(\u001b[0m\u001b[0;34m'Enter first Number: '\u001b[0m\u001b[0;34m)\u001b[0m\u001b[0;34m)\u001b[0m\u001b[0;34m\u001b[0m\u001b[0;34m\u001b[0m\u001b[0m\n\u001b[1;32m      2\u001b[0m \u001b[0mb\u001b[0m \u001b[0;34m=\u001b[0m \u001b[0mint\u001b[0m\u001b[0;34m(\u001b[0m\u001b[0minput\u001b[0m\u001b[0;34m(\u001b[0m\u001b[0;34m'Enter second Number: '\u001b[0m\u001b[0;34m)\u001b[0m\u001b[0;34m)\u001b[0m\u001b[0;34m\u001b[0m\u001b[0;34m\u001b[0m\u001b[0m\n\u001b[0;32m----> 3\u001b[0;31m \u001b[0mc\u001b[0m \u001b[0;34m=\u001b[0m \u001b[0ma\u001b[0m\u001b[0;34m/\u001b[0m\u001b[0mb\u001b[0m\u001b[0;34m\u001b[0m\u001b[0;34m\u001b[0m\u001b[0m\n\u001b[0m\u001b[1;32m      4\u001b[0m \u001b[0mprint\u001b[0m\u001b[0;34m(\u001b[0m\u001b[0mc\u001b[0m\u001b[0;34m)\u001b[0m\u001b[0;34m\u001b[0m\u001b[0;34m\u001b[0m\u001b[0m\n",
      "\u001b[0;31mZeroDivisionError\u001b[0m: division by zero"
     ]
    }
   ],
   "source": [
    "# Those error which can be handled using exception handling concept are called exceptions.\n",
    "\n",
    "a = int(input('Enter first Number: '))\n",
    "b = int(input('Enter second Number: '))\n",
    "c = a/b\n",
    "print(c)"
   ]
  },
  {
   "cell_type": "code",
   "execution_count": null,
   "metadata": {},
   "outputs": [],
   "source": [
    "# BaseException\n",
    "\n",
    "# Exception\n",
    "\n",
    "# ArithmeticError - ZeroDivisionError, FloatingPointError, OverFlowError\n",
    "# AssertionError\n",
    "# SyntaxError\n",
    "# TypeError\n",
    "# EoFError\n",
    "# RuntimeError\n",
    "# ImportError\n",
    "# NameError\n",
    "# AttributeError\n",
    "\n",
    "\n",
    "\n",
    "\n"
   ]
  },
  {
   "cell_type": "markdown",
   "metadata": {},
   "source": [
    "What problem may arise if we don't handle the exception"
   ]
  },
  {
   "cell_type": "code",
   "execution_count": 18,
   "metadata": {},
   "outputs": [
    {
     "name": "stdout",
     "output_type": "stream",
     "text": [
      "Enter 2 numbers separated by space:- 10 0\n",
      "Division is not possible\n",
      "Executing Finally\n"
     ]
    }
   ],
   "source": [
    "f = open('my_exception.txt', 'w')\n",
    "a,b = [int(i) for i in input('Enter 2 numbers separated by space:- ').split()]\n",
    "try:\n",
    "    c = a/b\n",
    "except:\n",
    "    print('Division is not possible')\n",
    "else: \n",
    "    f.write(f'The division result is {c}')\n",
    "\n",
    "finally:\n",
    "    print('Executing Finally')\n",
    "    f.close()"
   ]
  },
  {
   "cell_type": "code",
   "execution_count": null,
   "metadata": {},
   "outputs": [],
   "source": [
    "# try, except, else,finally"
   ]
  },
  {
   "cell_type": "code",
   "execution_count": 20,
   "metadata": {},
   "outputs": [
    {
     "ename": "SyntaxError",
     "evalue": "unexpected EOF while parsing (<ipython-input-20-104236e2fab2>, line 7)",
     "output_type": "error",
     "traceback": [
      "\u001b[0;36m  File \u001b[0;32m\"<ipython-input-20-104236e2fab2>\"\u001b[0;36m, line \u001b[0;32m7\u001b[0m\n\u001b[0;31m    \u001b[0m\n\u001b[0m    ^\u001b[0m\n\u001b[0;31mSyntaxError\u001b[0m\u001b[0;31m:\u001b[0m unexpected EOF while parsing\n"
     ]
    }
   ],
   "source": [
    "# use try block - should be used only for that part of the code which you are expecting to raise the error\n",
    "\n",
    "a = 10\n",
    "b = 0\n",
    "try:\n",
    "    c = a/b\n",
    "except:\n",
    "    print('Number can not be divided by zero')\n",
    "else:\n",
    "    print(c)\n",
    "finally:\n",
    "    print('Executing finally block')\n",
    "    del a\n",
    "    del b\n",
    "    try:\n",
    "        del c\n",
    "    except:\n",
    "        print('Some Error')\n",
    "\n"
   ]
  },
  {
   "cell_type": "code",
   "execution_count": null,
   "metadata": {},
   "outputs": [],
   "source": [
    "1. except ExceptionClassName:\n",
    "2. except ExceptionClassName as e:\n",
    "3. except (ExceptionClassName1, ExceptionClassName2, ExceptionClassName3 ...):\n",
    "4. except Exception class 1:\n",
    "   except Exception class 2:\n",
    "    ...\n",
    "5. except:"
   ]
  },
  {
   "cell_type": "code",
   "execution_count": 23,
   "metadata": {},
   "outputs": [
    {
     "name": "stdout",
     "output_type": "stream",
     "text": [
      "Number can not be duivided by zero\n",
      "Executing finally block\n",
      "Some Error\n"
     ]
    }
   ],
   "source": [
    "# Order is important - child class exception should always come first and then parent class exceptions\n",
    "\n",
    "a = 10\n",
    "b = 0\n",
    "try:\n",
    "    c = a/b\n",
    "except ZeroDivisionError:\n",
    "    print('Number can not be duivided by zero')\n",
    "    \n",
    "except ArithmeticError:\n",
    "    print('Some Arithmetic Error is raised')\n",
    "else:\n",
    "    print(c)\n",
    "finally:\n",
    "    print('Executing finally block')\n",
    "    del a\n",
    "    del b\n",
    "    try:\n",
    "        del c\n",
    "    except:\n",
    "        print('Some Error')"
   ]
  },
  {
   "cell_type": "code",
   "execution_count": 24,
   "metadata": {},
   "outputs": [
    {
     "name": "stdout",
     "output_type": "stream",
     "text": [
      "The Error is  division by zero\n",
      "Executing finally block\n",
      "Some Error\n"
     ]
    }
   ],
   "source": [
    "a = 10\n",
    "b = 0\n",
    "try:\n",
    "    c = a/b\n",
    "except (ZeroDivisionError,ArithmeticError) as e:\n",
    "    print('The Error is ', e)\n",
    "    \n",
    "\n",
    "else:\n",
    "    print(c)\n",
    "finally:\n",
    "    print('Executing finally block')\n",
    "    del a\n",
    "    del b\n",
    "    try:\n",
    "        del c\n",
    "    except:\n",
    "        print('Some Error')"
   ]
  },
  {
   "cell_type": "code",
   "execution_count": 32,
   "metadata": {},
   "outputs": [
    {
     "name": "stdout",
     "output_type": "stream",
     "text": [
      "unsupported operand type(s) for /: 'int' and 'str'\n",
      "Executing finally block\n",
      "Some Error\n"
     ]
    }
   ],
   "source": [
    "a = 10\n",
    "b = 'A'\n",
    "try:\n",
    "    c = a/b\n",
    "except ZeroDivisionError:\n",
    "    print('Number can not be duivided by zero')\n",
    "    \n",
    "except ArithmeticError:\n",
    "    print('Some Arithmetic Error is raised')\n",
    "except Exception as e:\n",
    "    print(e)\n",
    "else:\n",
    "    print(c)\n",
    "finally:\n",
    "    print('Executing finally block')\n",
    "    del a\n",
    "    del b\n",
    "    try:\n",
    "        del c\n",
    "    except:\n",
    "        print('Some Error')"
   ]
  },
  {
   "cell_type": "code",
   "execution_count": null,
   "metadata": {},
   "outputs": [],
   "source": [
    "# class My_Exception_Name(Exception):\n",
    "#     def __init__(self, arg):\n",
    "#         self.msg = arg\n",
    "        \n",
    "# raise My_Exception_Name('msg')\n",
    "\n",
    "# try:\n",
    "#     code which is generating the Error you are expecting\n",
    "# excpet My_Exception_Name as e:\n",
    "#     print(e)"
   ]
  },
  {
   "cell_type": "code",
   "execution_count": 31,
   "metadata": {},
   "outputs": [
    {
     "name": "stdout",
     "output_type": "stream",
     "text": [
      "Name =  ABC Balance is  4500\n",
      "Name =  XYZ Balance is  200\n",
      "Balance amount is less than 2000\n"
     ]
    }
   ],
   "source": [
    "class My_Exception_Name(Exception):\n",
    "    def __init__(self, arg):\n",
    "        self.msg = arg\n",
    "        \n",
    "def check_balance(d):\n",
    "    for k,v in d.items():\n",
    "        print('Name = ', k, 'Balance is ', v)\n",
    "        if v<2000:\n",
    "            raise My_Exception_Name('Balance amount is less than 2000')\n",
    "\n",
    "cust_details = {'ABC':4500, 'XYZ':200, 'MNO':1900}\n",
    "\n",
    "try:\n",
    "    check_balance(cust_details)\n",
    "except My_Exception_Name as e:\n",
    "    print(e)\n",
    "\n",
    "            \n",
    "            \n",
    "            \n",
    "            "
   ]
  },
  {
   "cell_type": "markdown",
   "metadata": {},
   "source": [
    "# Regular Expresion"
   ]
  },
  {
   "cell_type": "code",
   "execution_count": null,
   "metadata": {},
   "outputs": [],
   "source": [
    "# Rgeular Expression\n",
    "1. A regular expression is a string which contains:-\n",
    "    - Special Symbol\n",
    "    - Characters to find and\n",
    "    - extract the information needed by us from the given data.\n",
    "\n",
    "2. Regular Expression helps us:-\n",
    "    - to search \n",
    "    - to match\n",
    "    - to find and\n",
    "    - to split information as per our requirements.\n",
    "    \n",
    "Sequence characters in regular expression:-\n",
    "    1. \\d - any digit from 0 to 9\n",
    "    2. \\D - any non-digit -\n",
    "    3. \\s - white space e.g.:- \\t,\\n,\\r,\\v,\\f\n",
    "    4. \\S - non white space character\n",
    "    5. \\w - any alphanumeric character e.g.:- (A to Z, a to z, 0 to 9)\n",
    "    6. \\W - any non alphanumeric character\n",
    "    7. \\b - represents a space around words\n",
    "    8. \\A - matches only at the start of the string\n",
    "    9. \\Z - matches only at the end of the string\n",
    "\n",
    "Characters represents more than one character to be matched in the string is called Quantifiers.\n",
    "    1. + - represents 1 or more repetitions of the preceding regex exp\n",
    "    2. * - 0 or more repetitions of the preceding regex exp\n",
    "    3. ? - 0 or 1 repetitions of the preceding regex exp\n",
    "    4. {m} - exactly m occurences\n",
    "    5. {m,n} - from m to n. m defaults to 0 n to infinity. Always goes for higher bound i.e n and then m\n",
    "    \n",
    "Special Characters in regex:-\n",
    "    1. \\ - Escape special character\n",
    "    2. . - matches any character except new line\n",
    "    3. ^ - matches begining of the string\n",
    "    4. $ - matches ending of a string\n",
    "    5. [...] - Denotes set of possible charcaters. e.g. [6p-t]matches any characters from 6,p,q,r,s or t.\n",
    "    6. [^...] - Matches every characters except the ones inside brackets. e.g [^6p-t]matches every characters\n",
    "    except 6,p,q,r,s or t.\n",
    "    7. (...) - Matches the regular expression inside the parenthesis and the result can be captured.\n",
    "    8. R|S - Matches the regex either R or S."
   ]
  },
  {
   "cell_type": "code",
   "execution_count": null,
   "metadata": {},
   "outputs": [],
   "source": [
    "import re\n",
    "reg = r'c\\w\\w'\n",
    "\\n,\\t,\\v,\\f,\\,\\w"
   ]
  },
  {
   "cell_type": "code",
   "execution_count": 33,
   "metadata": {},
   "outputs": [
    {
     "name": "stdout",
     "output_type": "stream",
     "text": [
      "This is \n",
      " Python class\n"
     ]
    }
   ],
   "source": [
    "s = 'This is \\n Python class'\n",
    "print(s)"
   ]
  },
  {
   "cell_type": "code",
   "execution_count": 34,
   "metadata": {},
   "outputs": [
    {
     "name": "stdout",
     "output_type": "stream",
     "text": [
      "This is \\n Python class\n"
     ]
    }
   ],
   "source": [
    "s = r'This is \\n Python class'\n",
    "print(s)"
   ]
  },
  {
   "cell_type": "code",
   "execution_count": 35,
   "metadata": {},
   "outputs": [
    {
     "name": "stdout",
     "output_type": "stream",
     "text": [
      "['cat', 'can', 'cap', 'cp9']\n"
     ]
    }
   ],
   "source": [
    "import re\n",
    "mystr = 'cat mat rat hat bat can cap cp9 c&5'\n",
    "reg = r'c\\w\\w'\n",
    "# Find all the occurrences of above pattern\n",
    "print(re.findall(reg, mystr))    # returns a list"
   ]
  },
  {
   "cell_type": "code",
   "execution_count": null,
   "metadata": {},
   "outputs": [],
   "source": [
    "# search - returns a match object, so to get the output we need to apply group()\n",
    "# match - returns a match object, so to get the output we need to apply group()\n",
    "# findall - returns a list object\n",
    "# split - returns a list object\n",
    "# sub - returns a string object"
   ]
  },
  {
   "cell_type": "code",
   "execution_count": 45,
   "metadata": {},
   "outputs": [
    {
     "ename": "AttributeError",
     "evalue": "'NoneType' object has no attribute 'span'",
     "output_type": "error",
     "traceback": [
      "\u001b[0;31m---------------------------------------------------------------------------\u001b[0m",
      "\u001b[0;31mAttributeError\u001b[0m                            Traceback (most recent call last)",
      "\u001b[0;32m<ipython-input-45-0d329d24fdb0>\u001b[0m in \u001b[0;36m<module>\u001b[0;34m\u001b[0m\n\u001b[1;32m      4\u001b[0m \u001b[0mmystr\u001b[0m \u001b[0;34m=\u001b[0m \u001b[0;34m'cat mat rat hat bat can cap cp9 c&5'\u001b[0m\u001b[0;34m\u001b[0m\u001b[0;34m\u001b[0m\u001b[0m\n\u001b[1;32m      5\u001b[0m \u001b[0mreg\u001b[0m \u001b[0;34m=\u001b[0m \u001b[0;34mr'b\\w\\w'\u001b[0m\u001b[0;34m\u001b[0m\u001b[0;34m\u001b[0m\u001b[0m\n\u001b[0;32m----> 6\u001b[0;31m \u001b[0mprint\u001b[0m\u001b[0;34m(\u001b[0m\u001b[0mre\u001b[0m\u001b[0;34m.\u001b[0m\u001b[0mmatch\u001b[0m\u001b[0;34m(\u001b[0m\u001b[0mreg\u001b[0m\u001b[0;34m,\u001b[0m \u001b[0mmystr\u001b[0m\u001b[0;34m)\u001b[0m\u001b[0;34m.\u001b[0m\u001b[0mspan\u001b[0m\u001b[0;34m(\u001b[0m\u001b[0;34m)\u001b[0m\u001b[0;34m)\u001b[0m\u001b[0;34m\u001b[0m\u001b[0;34m\u001b[0m\u001b[0m\n\u001b[0m",
      "\u001b[0;31mAttributeError\u001b[0m: 'NoneType' object has no attribute 'span'"
     ]
    }
   ],
   "source": [
    "# match() - it returns the match object if reg expression is found in the begining lese it returns None\n",
    "\n",
    "import re\n",
    "mystr = 'cat mat rat hat bat can cap cp9 c&5'\n",
    "reg = r'b\\w\\w'\n",
    "print(re.match(reg, mystr).span())"
   ]
  },
  {
   "cell_type": "code",
   "execution_count": 44,
   "metadata": {},
   "outputs": [
    {
     "name": "stdout",
     "output_type": "stream",
     "text": [
      "None\n"
     ]
    }
   ],
   "source": [
    "# search() - it returns the match object of the first occurrnec of the reg expression in the string\n",
    "\n",
    "import re\n",
    "mystr = 'cat mat rat hat bat can cap cp9 c&5 bag'\n",
    "reg = r'z\\w\\w'\n",
    "print(re.search(reg, mystr))"
   ]
  },
  {
   "cell_type": "code",
   "execution_count": 46,
   "metadata": {},
   "outputs": [
    {
     "name": "stdout",
     "output_type": "stream",
     "text": [
      "['cat', 'can', 'cap', 'cp9']\n"
     ]
    }
   ],
   "source": [
    "# findall()- returns the list object\n",
    "import re\n",
    "mystr = 'cat mat rat hat bat can cap cp9 c&5 bag'\n",
    "reg = r'c\\w\\w'\n",
    "print(re.findall(reg, mystr))"
   ]
  },
  {
   "cell_type": "code",
   "execution_count": 49,
   "metadata": {},
   "outputs": [
    {
     "name": "stdout",
     "output_type": "stream",
     "text": [
      "['cat mat rat hat ', 't can cap cp9 c&5 ', 'g']\n"
     ]
    }
   ],
   "source": [
    "# split()- returns the list object\n",
    "import re\n",
    "mystr = 'cat mat rat hat bat can cap cp9 c&5 bag'\n",
    "reg = r'b\\w'\n",
    "print(re.split(reg, mystr))"
   ]
  },
  {
   "cell_type": "code",
   "execution_count": 51,
   "metadata": {},
   "outputs": [
    {
     "name": "stdout",
     "output_type": "stream",
     "text": [
      "z98wjhegfw mat rat hat bat z98wjhegfw z98wjhegfw z98wjhegfw c&5 bag\n"
     ]
    }
   ],
   "source": [
    "# re.sub(reg, new_str, s) - \n",
    "import re\n",
    "mystr = 'cat mat rat hat bat can cap cp9 c&5 bag'\n",
    "reg = r'c\\w\\w'\n",
    "print(re.sub(reg, 'z98wjhegfw' ,mystr))\n",
    "\n"
   ]
  },
  {
   "cell_type": "code",
   "execution_count": null,
   "metadata": {},
   "outputs": [],
   "source": []
  },
  {
   "cell_type": "code",
   "execution_count": null,
   "metadata": {},
   "outputs": [],
   "source": []
  },
  {
   "cell_type": "code",
   "execution_count": null,
   "metadata": {},
   "outputs": [],
   "source": []
  },
  {
   "cell_type": "code",
   "execution_count": null,
   "metadata": {},
   "outputs": [],
   "source": []
  },
  {
   "cell_type": "code",
   "execution_count": null,
   "metadata": {},
   "outputs": [],
   "source": []
  },
  {
   "cell_type": "code",
   "execution_count": null,
   "metadata": {},
   "outputs": [],
   "source": []
  },
  {
   "cell_type": "code",
   "execution_count": null,
   "metadata": {},
   "outputs": [],
   "source": []
  },
  {
   "cell_type": "code",
   "execution_count": null,
   "metadata": {},
   "outputs": [],
   "source": []
  },
  {
   "cell_type": "code",
   "execution_count": null,
   "metadata": {},
   "outputs": [],
   "source": []
  },
  {
   "cell_type": "code",
   "execution_count": null,
   "metadata": {},
   "outputs": [],
   "source": []
  },
  {
   "cell_type": "code",
   "execution_count": null,
   "metadata": {},
   "outputs": [],
   "source": []
  },
  {
   "cell_type": "code",
   "execution_count": null,
   "metadata": {},
   "outputs": [],
   "source": []
  },
  {
   "cell_type": "code",
   "execution_count": null,
   "metadata": {},
   "outputs": [],
   "source": []
  },
  {
   "cell_type": "code",
   "execution_count": null,
   "metadata": {},
   "outputs": [],
   "source": []
  },
  {
   "cell_type": "code",
   "execution_count": null,
   "metadata": {},
   "outputs": [],
   "source": []
  },
  {
   "cell_type": "code",
   "execution_count": null,
   "metadata": {},
   "outputs": [],
   "source": []
  },
  {
   "cell_type": "code",
   "execution_count": null,
   "metadata": {},
   "outputs": [],
   "source": []
  },
  {
   "cell_type": "code",
   "execution_count": null,
   "metadata": {},
   "outputs": [],
   "source": []
  },
  {
   "cell_type": "code",
   "execution_count": null,
   "metadata": {},
   "outputs": [],
   "source": []
  },
  {
   "cell_type": "code",
   "execution_count": null,
   "metadata": {},
   "outputs": [],
   "source": []
  },
  {
   "cell_type": "code",
   "execution_count": null,
   "metadata": {},
   "outputs": [],
   "source": []
  },
  {
   "cell_type": "code",
   "execution_count": null,
   "metadata": {},
   "outputs": [],
   "source": []
  },
  {
   "cell_type": "code",
   "execution_count": null,
   "metadata": {},
   "outputs": [],
   "source": []
  },
  {
   "cell_type": "code",
   "execution_count": null,
   "metadata": {},
   "outputs": [],
   "source": []
  },
  {
   "cell_type": "code",
   "execution_count": null,
   "metadata": {},
   "outputs": [],
   "source": []
  },
  {
   "cell_type": "code",
   "execution_count": null,
   "metadata": {},
   "outputs": [],
   "source": []
  },
  {
   "cell_type": "code",
   "execution_count": null,
   "metadata": {},
   "outputs": [],
   "source": []
  },
  {
   "cell_type": "code",
   "execution_count": null,
   "metadata": {},
   "outputs": [],
   "source": []
  },
  {
   "cell_type": "code",
   "execution_count": null,
   "metadata": {},
   "outputs": [],
   "source": []
  },
  {
   "cell_type": "code",
   "execution_count": null,
   "metadata": {},
   "outputs": [],
   "source": []
  }
 ],
 "metadata": {
  "kernelspec": {
   "display_name": "Python 3",
   "language": "python",
   "name": "python3"
  },
  "language_info": {
   "codemirror_mode": {
    "name": "ipython",
    "version": 3
   },
   "file_extension": ".py",
   "mimetype": "text/x-python",
   "name": "python",
   "nbconvert_exporter": "python",
   "pygments_lexer": "ipython3",
   "version": "3.7.3"
  }
 },
 "nbformat": 4,
 "nbformat_minor": 2
}
