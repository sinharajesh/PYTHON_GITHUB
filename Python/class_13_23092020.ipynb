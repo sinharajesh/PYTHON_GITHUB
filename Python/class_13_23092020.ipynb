{
 "cells": [
  {
   "cell_type": "code",
   "execution_count": null,
   "metadata": {},
   "outputs": [],
   "source": [
    "# File handling in Python\n",
    "#     Text, binary\n",
    "#     methods - read, write, seek, tell, read(n), readline, readlines(), writelines(list)\n",
    "#     mode - r, w, a, r+, w+, a+\n",
    "#     with statement\n",
    "#     1-2 program\n",
    "    "
   ]
  },
  {
   "cell_type": "code",
   "execution_count": null,
   "metadata": {},
   "outputs": [],
   "source": [
    "# File handling - \n",
    "    # Text file\n",
    "    # Binary file"
   ]
  },
  {
   "cell_type": "code",
   "execution_count": null,
   "metadata": {},
   "outputs": [],
   "source": [
    "# 1. open a file\n",
    "# 2. the operation on file\n",
    "# 3. close the file"
   ]
  },
  {
   "cell_type": "code",
   "execution_count": null,
   "metadata": {},
   "outputs": [],
   "source": [
    "# To open a file\n",
    "# f = open('File_name_with_extension', 'mode')\n",
    "# f.close()"
   ]
  },
  {
   "cell_type": "code",
   "execution_count": 11,
   "metadata": {},
   "outputs": [],
   "source": [
    "# read mode - r\n",
    "    # if file exist then it will open a file into read mode and places the cursor at the begining of the file\n",
    "    # if file does not exist then it will give FileNotFoundError.\n",
    "    # Then you are allowed only to read from the file, not allowed to write into the file.\n",
    "\n",
    "# If file does not exist\n",
    "# f = open('f1.py', 'r')\n",
    "# f.close()\n",
    "\n",
    "# If file exist\n",
    "# f = open('my_math.py', 'r')\n",
    "# print(f.tell())\n",
    "# print(f.read())\n",
    "# print(f.tell())\n",
    "# print('Reading again')\n",
    "# f.seek(100)\n",
    "# print(f.read())\n",
    "# f.close()\n",
    "\n",
    "# trying to write into the file after opening the file into read mode\n",
    "# f = open('my_math.py', 'r')\n",
    "# f.write('\\n\\nHello')\n",
    "# f.close()\n"
   ]
  },
  {
   "cell_type": "code",
   "execution_count": 17,
   "metadata": {},
   "outputs": [
    {
     "name": "stdout",
     "output_type": "stream",
     "text": [
      "131\n"
     ]
    }
   ],
   "source": [
    "# write mode - w\n",
    "    # if file exist then it will open a file into write mode and deletes the content of the file\n",
    "    # if file does not exist then it will create a file with this name\n",
    "    # Then you are allowed only to write into the file, not allowed to read from the file.\n",
    "    \n",
    "# If file does not exist\n",
    "# f = open('f1.py', 'w')\n",
    "# f.close()\n",
    "\n",
    "# If file is existing then\n",
    "f = open('my_math.py', 'w')\n",
    "f.write('if file exist then it will open a file into write mode and deletes the content of the file')\n",
    "f.seek(45)\n",
    "f.write('# Then you are allowed only to write into the file, not allowed to read from the file.')\n",
    "# f.read()\n",
    "print(f.tell())\n",
    "f.close()\n"
   ]
  },
  {
   "cell_type": "code",
   "execution_count": 19,
   "metadata": {},
   "outputs": [
    {
     "name": "stdout",
     "output_type": "stream",
     "text": [
      "131\n"
     ]
    }
   ],
   "source": [
    "# Append - a\n",
    "    # if file exist then it will open a file into write mode and places the cursor at the end of the file\n",
    "    # if file does not exist then it will create a file with this name\n",
    "    # Then you are allowed only to write into the file, not allowed to read from the file.\n",
    "    \n",
    "# If file does not exist\n",
    "# f = open('f2.py', 'a')\n",
    "# f.close()\n",
    "\n",
    "# If file is existing then\n",
    "# f = open('my_math.py', 'a')\n",
    "# print(f.tell())\n",
    "# f.close()"
   ]
  },
  {
   "cell_type": "code",
   "execution_count": 20,
   "metadata": {},
   "outputs": [
    {
     "name": "stdout",
     "output_type": "stream",
     "text": [
      "0\n",
      "86\n",
      "if file exist then it will open a file into w# Then you are allowed only to write into the file, not allowed to read from the file.\n",
      "\n",
      "Then you are allowed only to write into the file, not allowed to read from the file.\n"
     ]
    }
   ],
   "source": [
    "# read and write mode - r+\n",
    "    # if file exist then it will open a file into read mode and places the cursor at the begining of the file\n",
    "    # if file does not exist then it will give FileNotFoundError.\n",
    "    # Then you are allowed to read and write both\n",
    "    \n",
    "# f = open('my_math.py', 'r+')\n",
    "# print(f.tell())\n",
    "# f.seek(len(f.read()))\n",
    "# print(f.write('\\n\\nThen you are allowed only to write into the file, not allowed to read from the file.'))\n",
    "# f.seek(0)\n",
    "# print(f.read())\n",
    "# f.close()\n",
    "\n"
   ]
  },
  {
   "cell_type": "code",
   "execution_count": null,
   "metadata": {},
   "outputs": [],
   "source": [
    "# my_str = 'if file exist then it will open a file into w # Then you are allowed only to write into the file, not allowed to read from the file.'"
   ]
  },
  {
   "cell_type": "code",
   "execution_count": 21,
   "metadata": {},
   "outputs": [
    {
     "name": "stdout",
     "output_type": "stream",
     "text": [
      "\n",
      "Writing into the file first\n",
      "# if file exist then it will open a file into write mode and deletes the content of the file\n"
     ]
    }
   ],
   "source": [
    "# write and read mode - w+\n",
    "    # if file exist then it will open a file into write mode and deletes the content of the file\n",
    "    # if file does not exist then it will create a file with this name\n",
    "    # Then you are allowed only to write and read from the file\n",
    "\n",
    "# f = open('my_math.py', 'w+')\n",
    "# print(f.read())\n",
    "# print('Writing into the file first')\n",
    "# f.write('# if file exist then it will open a file into write mode and deletes the content of the file')\n",
    "# f.seek(0)\n",
    "# print(f.read())\n",
    "# f.close()\n"
   ]
  },
  {
   "cell_type": "code",
   "execution_count": 22,
   "metadata": {},
   "outputs": [
    {
     "name": "stdout",
     "output_type": "stream",
     "text": [
      "# if file exist then it will open a file into write mode and deletes the content of the file\n",
      "\n",
      "# if file does not exist then it will create a file with this name\n"
     ]
    }
   ],
   "source": [
    "# Append and read - a+\n",
    "    # if file exist then it will open a file into write mode and places the cursor at the end of the file\n",
    "    # if file does not exist then it will create a file with this name\n",
    "    # you are allowed only to write and read both\n",
    "    \n",
    "# f = open('my_math.py', 'a+')\n",
    "# f.write('\\n\\n# if file does not exist then it will create a file with this name')\n",
    "# f.seek(0)\n",
    "# print(f.read())\n",
    "# f.close()"
   ]
  },
  {
   "cell_type": "code",
   "execution_count": null,
   "metadata": {},
   "outputs": [],
   "source": [
    "# Binary files - images, pdf, audio\n",
    "# read - rb\n",
    "# write - wb\n",
    "# append - ab\n",
    "# read and write - r+b/rb+\n",
    "# write and read - w+b/wb+\n",
    "# append and read - a+b/ab+"
   ]
  },
  {
   "cell_type": "code",
   "execution_count": 31,
   "metadata": {},
   "outputs": [],
   "source": [
    "#  read(n), readline, readlines(), writelines(list)\n",
    "# f = open('abc.txt', 'r+')\n",
    "# s = f.read()\n",
    "# print(s, type(s))\n",
    "# f.close()\n",
    "\n",
    "# f = open('abc.txt', 'r+')\n",
    "# s = f.read(100)\n",
    "# print(s, type(s))\n",
    "# f.close()\n",
    "\n",
    "\n",
    "# f = open('abc.txt', 'r+')\n",
    "# s = f.readline()\n",
    "# print(s, type(s))\n",
    "# s = f.readline()\n",
    "# print(s, type(s))\n",
    "# f.close()\n",
    "\n",
    "# f = open('abc.txt', 'r+')\n",
    "# lst = f.readlines()\n",
    "# print(lst, type(lst))\n",
    "# f.close()\n",
    "\n",
    "# f = open('f1.py', 'w+')\n",
    "# f.write('# if file exist then it will open a file into write mode and places the cursor at the end of the file')\n",
    "# f.close()\n",
    "\n",
    "\n",
    "f = open('f2.py', 'w+')\n",
    "f.writelines(['ABC\\n','XYZ','MNO\\n','PQR\\n'])\n",
    "f.close()\n",
    "\n",
    "\n"
   ]
  },
  {
   "cell_type": "code",
   "execution_count": 34,
   "metadata": {},
   "outputs": [],
   "source": [
    "# f = open('abc.txt', 'r')\n",
    "# for line in f.readlines():\n",
    "#     print(line)\n",
    "# f.write('ABC')\n",
    "\n",
    "# f.close()"
   ]
  },
  {
   "cell_type": "code",
   "execution_count": 32,
   "metadata": {},
   "outputs": [
    {
     "name": "stdout",
     "output_type": "stream",
     "text": [
      "ABC <class 'str'>\n",
      " <class 'str'>\n"
     ]
    }
   ],
   "source": [
    "# f = open('f2.py', 'r+')\n",
    "# s = f.readline()\n",
    "# print(s, type(s))\n",
    "# s = f.readline()\n",
    "# print(s, type(s))\n",
    "# f.close()\n",
    "f.closed"
   ]
  },
  {
   "cell_type": "code",
   "execution_count": 40,
   "metadata": {},
   "outputs": [
    {
     "name": "stdout",
     "output_type": "stream",
     "text": [
      "# if file exist then it will open a file into write mode and deletes the content of the file\n",
      "\n",
      "\n",
      "\n",
      "# if file does not exist then it will create a file with this name\n",
      "\n",
      "\n",
      "\n",
      "Lorem Ipsum is simply dummy text of the printing and typesetting industry. \n",
      "\n",
      "Lorem Ipsum has been the industry's standard dummy text ever since the 1500s, when an unknown printer took a galley of type and scrambled it to make a type specimen book. \n",
      "\n",
      "It has survived not only five centuries, but also the leap into electronic typesetting, remaining essentially unchanged. \n",
      "\n",
      "It was popularised in the 1960s with the release of Letraset sheets containing Lorem Ipsum passages, and more recently with desktop publishing software like Aldus PageMaker including versions of Lorem Ipsum.\n",
      "\n",
      "\n",
      "\n",
      "It is a long established fact that a reader will be distracted by the readable content of a page when looking at its layout. \n",
      "\n",
      "The point of using Lorem Ipsum is that it has a more-or-less normal distribution of letters, as opposed to using 'Content here, content here', making it look like readable English. \n",
      "\n",
      "Many desktop publishing packages and web page editors now use Lorem Ipsum as their default model text, and a search for 'lorem ipsum' will uncover many web sites still in their infancy. \n",
      "\n",
      "Various versions have evolved over the years, sometimes by accident, sometimes on purpose (injected humour and the like).\n",
      "\n",
      "\n",
      "\n",
      "True\n"
     ]
    }
   ],
   "source": [
    "with open('abc.txt', 'r') as f:\n",
    "    for line in f.readlines():\n",
    "        print(line)\n",
    "#     f.write('ABC')\n",
    "print(f.closed)\n",
    "    "
   ]
  },
  {
   "cell_type": "code",
   "execution_count": null,
   "metadata": {},
   "outputs": [],
   "source": [
    "# open, no of char,no words, no of lines.\n",
    "\n",
    "# open python.png and copy the content in new.png file"
   ]
  },
  {
   "cell_type": "code",
   "execution_count": null,
   "metadata": {},
   "outputs": [],
   "source": []
  },
  {
   "cell_type": "code",
   "execution_count": null,
   "metadata": {},
   "outputs": [],
   "source": []
  },
  {
   "cell_type": "code",
   "execution_count": null,
   "metadata": {},
   "outputs": [],
   "source": []
  },
  {
   "cell_type": "code",
   "execution_count": null,
   "metadata": {},
   "outputs": [],
   "source": []
  },
  {
   "cell_type": "code",
   "execution_count": null,
   "metadata": {},
   "outputs": [],
   "source": []
  },
  {
   "cell_type": "code",
   "execution_count": null,
   "metadata": {},
   "outputs": [],
   "source": []
  },
  {
   "cell_type": "code",
   "execution_count": null,
   "metadata": {},
   "outputs": [],
   "source": []
  },
  {
   "cell_type": "code",
   "execution_count": null,
   "metadata": {},
   "outputs": [],
   "source": []
  },
  {
   "cell_type": "code",
   "execution_count": null,
   "metadata": {},
   "outputs": [],
   "source": []
  },
  {
   "cell_type": "code",
   "execution_count": null,
   "metadata": {},
   "outputs": [],
   "source": []
  },
  {
   "cell_type": "code",
   "execution_count": null,
   "metadata": {},
   "outputs": [],
   "source": []
  },
  {
   "cell_type": "code",
   "execution_count": null,
   "metadata": {},
   "outputs": [],
   "source": []
  },
  {
   "cell_type": "code",
   "execution_count": null,
   "metadata": {},
   "outputs": [],
   "source": []
  },
  {
   "cell_type": "code",
   "execution_count": null,
   "metadata": {},
   "outputs": [],
   "source": []
  },
  {
   "cell_type": "code",
   "execution_count": null,
   "metadata": {},
   "outputs": [],
   "source": []
  },
  {
   "cell_type": "code",
   "execution_count": null,
   "metadata": {},
   "outputs": [],
   "source": []
  },
  {
   "cell_type": "code",
   "execution_count": null,
   "metadata": {},
   "outputs": [],
   "source": []
  },
  {
   "cell_type": "code",
   "execution_count": null,
   "metadata": {},
   "outputs": [],
   "source": []
  },
  {
   "cell_type": "code",
   "execution_count": null,
   "metadata": {},
   "outputs": [],
   "source": []
  },
  {
   "cell_type": "code",
   "execution_count": null,
   "metadata": {},
   "outputs": [],
   "source": []
  },
  {
   "cell_type": "code",
   "execution_count": null,
   "metadata": {},
   "outputs": [],
   "source": []
  },
  {
   "cell_type": "code",
   "execution_count": null,
   "metadata": {},
   "outputs": [],
   "source": []
  },
  {
   "cell_type": "code",
   "execution_count": null,
   "metadata": {},
   "outputs": [],
   "source": []
  },
  {
   "cell_type": "code",
   "execution_count": null,
   "metadata": {},
   "outputs": [],
   "source": []
  }
 ],
 "metadata": {
  "kernelspec": {
   "display_name": "Python 3",
   "language": "python",
   "name": "python3"
  },
  "language_info": {
   "codemirror_mode": {
    "name": "ipython",
    "version": 3
   },
   "file_extension": ".py",
   "mimetype": "text/x-python",
   "name": "python",
   "nbconvert_exporter": "python",
   "pygments_lexer": "ipython3",
   "version": "3.7.3"
  }
 },
 "nbformat": 4,
 "nbformat_minor": 2
}
