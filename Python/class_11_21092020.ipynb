{
 "cells": [
  {
   "cell_type": "code",
   "execution_count": 6,
   "metadata": {},
   "outputs": [
    {
     "name": "stdout",
     "output_type": "stream",
     "text": [
      "Enter a number or a sequence of number: (10,20,30)\n",
      "Enter a number or a sequence of number: [10,20,30]\n",
      "{'x': (10, 20, 30), 'y': [10, 20, 30]} <class 'dict'>\n",
      "120\n",
      "\n"
     ]
    }
   ],
   "source": [
    "def var_len_func(**var):\n",
    "    print(var, type(var))\n",
    "    total = 0\n",
    "    for i in var:\n",
    "        for j in range(len(var[i])):\n",
    "            total += var[i][j]\n",
    "    print(total)\n",
    "    print()\n",
    "\n",
    "    \n",
    "a = eval(input('Enter a number or a sequence of number: ')) \n",
    "b = eval(input('Enter a number or a sequence of number: ')) \n",
    "var_len_func(x = a, y = b)"
   ]
  },
  {
   "cell_type": "code",
   "execution_count": 8,
   "metadata": {},
   "outputs": [
    {
     "name": "stdout",
     "output_type": "stream",
     "text": [
      "Name:  ABC\n",
      "Mob:  9876543210\n",
      "Street:-  Satyam Street\n",
      "City:-  Bengaluru\n",
      "State:-  Karnataka\n",
      "Pin:  560103\n",
      "Email:  abc@gmail.com\n"
     ]
    }
   ],
   "source": [
    "def contact_info(name, mob):\n",
    "    print('Name: ', name)\n",
    "    print('Mob: ', mob)\n",
    "\n",
    "def address_info(street,city, state, pin, **kwvars):\n",
    "    contact_info(kwvars['name1'], kwvars['phone'])\n",
    "    print('Street:- ', street)\n",
    "    print('City:- ', city)\n",
    "    print('State:- ', state)\n",
    "    print('Pin: ', pin)\n",
    "    \n",
    "def email(email, **kwargs):\n",
    "    address_info(kwargs['street'], kwargs['city'], kwargs['state'], kwargs['pin'], name1 = kwargs['name'], phone = kwargs['mob'])\n",
    "    print('Email: ',email)\n",
    "\n",
    "email(email = 'abc@gmail.com', street = 'Satyam Street', city = 'Bengaluru', state = 'Karnataka', pin = 560103, name = 'ABC', mob = 9876543210)\n",
    "\n",
    "\n",
    "\n",
    "\n",
    "\n",
    "\n"
   ]
  },
  {
   "cell_type": "code",
   "execution_count": 36,
   "metadata": {},
   "outputs": [
    {
     "name": "stdout",
     "output_type": "stream",
     "text": [
      "1500\n"
     ]
    }
   ],
   "source": [
    "# Anonymous function - a function without name - lambda\n",
    "# Filter, map, reduce etc\n",
    "\n",
    "# lambda arg1, arg2, ...: expr   --> return value is expr, you don't have to write the return statment explicitly\n",
    "\n",
    "# s = lambda num : num ** 2\n",
    "# print(s(4))\n",
    "\n",
    "\n",
    "# def is_even(num): True if num is even else False\n",
    "    \n",
    "# seq = [10,11,12,13,14,15,16,17,18,19]\n",
    "# filter(is_even, seq):\n",
    "#     returna list of all even numbers\n",
    "\n",
    "# def is_even(num):\n",
    "#     return True if num % 2 == 0 else False\n",
    "\n",
    "seq = [10,11,12,13,14,1500,16,17,18,19]\n",
    "\n",
    "# def filter_num(is_even, seq):\n",
    "#     out = []\n",
    "#     for i in seq:\n",
    "#         if is_even(i) == True:\n",
    "#             out.append(i) \n",
    "#     return out\n",
    "\n",
    "# print(filter_num(is_even,seq))\n",
    "\n",
    "\n",
    "# filter - filters a seq based on some condition, returns a filter object - \n",
    "# Syntax:- filter(func, seq)\n",
    "\n",
    "# list(filter(lambda num:num%2, seq))\n",
    "\n",
    "\n",
    "# map - mapping every value of an existing seq to a set of values - returns map object\n",
    "# Synatx -map(func, seq)\n",
    "\n",
    "# print(list(map(lambda num:num*2 if num%2 == 0 else num, seq)))\n",
    "\n",
    "# print(list(filter(lambda num:num%2 == 0, map(lambda num:num*2 if num%2 == 0 else num, seq))))\n",
    "\n",
    "\n",
    "# reduce - sum, prod, max, min \n",
    "\n",
    "# print(sum([10,20,30]))\n",
    "\n",
    "from functools import reduce\n",
    "# s = reduce(lambda x,y:x+y, seq)\n",
    "# print(s)\n",
    "\n",
    "max = reduce(lambda x,y:x if x>y else y, seq)\n",
    "print(max)\n",
    "\n",
    "\n",
    "\n",
    "# sum , max, min"
   ]
  },
  {
   "cell_type": "code",
   "execution_count": 40,
   "metadata": {},
   "outputs": [],
   "source": [
    "# def add(n1,n2):\n",
    "#     return n1+n2\n",
    "# s = add(10,20)\n",
    "# print(add)"
   ]
  },
  {
   "cell_type": "code",
   "execution_count": 39,
   "metadata": {},
   "outputs": [],
   "source": [
    "# s = lambda num:num*2,num*3, num*4\n",
    "# print(s(5))"
   ]
  },
  {
   "cell_type": "code",
   "execution_count": 37,
   "metadata": {},
   "outputs": [],
   "source": [
    "# print(dir(__builtins__))"
   ]
  },
  {
   "cell_type": "code",
   "execution_count": 38,
   "metadata": {},
   "outputs": [],
   "source": [
    "# print(dir())"
   ]
  },
  {
   "cell_type": "code",
   "execution_count": null,
   "metadata": {},
   "outputs": [],
   "source": [
    "#os, sys, math, random, functools, numpy, pandas, matplotlib, seaborn, time, datetime"
   ]
  },
  {
   "cell_type": "code",
   "execution_count": 49,
   "metadata": {},
   "outputs": [],
   "source": [
    "# import math\n",
    "# print(dir(math))"
   ]
  },
  {
   "cell_type": "code",
   "execution_count": 48,
   "metadata": {},
   "outputs": [],
   "source": [
    "# import os\n",
    "# print(dir(os))"
   ]
  },
  {
   "cell_type": "code",
   "execution_count": 47,
   "metadata": {},
   "outputs": [],
   "source": [
    "# import numpy\n",
    "# print(dir(numpy))"
   ]
  },
  {
   "cell_type": "markdown",
   "metadata": {},
   "source": [
    "# Scope and Namespace"
   ]
  },
  {
   "cell_type": "code",
   "execution_count": null,
   "metadata": {},
   "outputs": [],
   "source": [
    "L - Local, E - Extended, G - Global, B - Builtins"
   ]
  },
  {
   "cell_type": "code",
   "execution_count": null,
   "metadata": {},
   "outputs": [],
   "source": [
    "# Namespace - container _ LOCAL containser, Extended Container, Global Container, Builtin- Container"
   ]
  },
  {
   "cell_type": "code",
   "execution_count": 50,
   "metadata": {},
   "outputs": [
    {
     "name": "stdout",
     "output_type": "stream",
     "text": [
      "100\n"
     ]
    }
   ],
   "source": [
    "from math import pi\n",
    "x = 100\n",
    "def f1():\n",
    "    print(x)\n",
    "f1()"
   ]
  },
  {
   "cell_type": "code",
   "execution_count": 51,
   "metadata": {},
   "outputs": [
    {
     "name": "stdout",
     "output_type": "stream",
     "text": [
      "100\n"
     ]
    }
   ],
   "source": [
    "from math import pi\n",
    "x = 100\n",
    "def f1():\n",
    "    def f2():\n",
    "        print(x)\n",
    "    f2()\n",
    "f1()"
   ]
  },
  {
   "cell_type": "code",
   "execution_count": 54,
   "metadata": {},
   "outputs": [
    {
     "name": "stdout",
     "output_type": "stream",
     "text": [
      "3.141592653589793\n"
     ]
    },
    {
     "ename": "NameError",
     "evalue": "name 'm' is not defined",
     "output_type": "error",
     "traceback": [
      "\u001b[0;31m---------------------------------------------------------------------------\u001b[0m",
      "\u001b[0;31mNameError\u001b[0m                                 Traceback (most recent call last)",
      "\u001b[0;32m<ipython-input-54-a2974e1a3b71>\u001b[0m in \u001b[0;36m<module>\u001b[0;34m\u001b[0m\n\u001b[1;32m      7\u001b[0m     \u001b[0mf2\u001b[0m\u001b[0;34m(\u001b[0m\u001b[0;34m)\u001b[0m\u001b[0;34m\u001b[0m\u001b[0;34m\u001b[0m\u001b[0m\n\u001b[1;32m      8\u001b[0m \u001b[0mf1\u001b[0m\u001b[0;34m(\u001b[0m\u001b[0;34m)\u001b[0m\u001b[0;34m\u001b[0m\u001b[0;34m\u001b[0m\u001b[0m\n\u001b[0;32m----> 9\u001b[0;31m \u001b[0mprint\u001b[0m\u001b[0;34m(\u001b[0m\u001b[0mm\u001b[0m\u001b[0;34m)\u001b[0m\u001b[0;34m\u001b[0m\u001b[0;34m\u001b[0m\u001b[0m\n\u001b[0m",
      "\u001b[0;31mNameError\u001b[0m: name 'm' is not defined"
     ]
    }
   ],
   "source": [
    "from math import pi\n",
    "x = 100\n",
    "def f1():\n",
    "    def f2():\n",
    "        m = 200\n",
    "        print(pi)\n",
    "    f2()\n",
    "f1()\n",
    "print(m)"
   ]
  },
  {
   "cell_type": "code",
   "execution_count": null,
   "metadata": {},
   "outputs": [],
   "source": [
    "# Modules in Python\n",
    "    # Builtin module - os, sys, math, random, datetime, \n",
    "    # User defined module - extension - .py"
   ]
  },
  {
   "cell_type": "code",
   "execution_count": 3,
   "metadata": {},
   "outputs": [
    {
     "name": "stdout",
     "output_type": "stream",
     "text": [
      "['In', 'Out', '_', '__', '___', '__builtin__', '__builtins__', '__doc__', '__loader__', '__name__', '__package__', '__spec__', '_dh', '_i', '_i1', '_i2', '_i3', '_ih', '_ii', '_iii', '_oh', 'exit', 'get_ipython', 'm', 'my_math', 'quit']\n",
      "150\n"
     ]
    }
   ],
   "source": [
    "import my_math\n",
    "print(dir())\n",
    "print(my_math.my_add(10,20,30,40,50))"
   ]
  },
  {
   "cell_type": "code",
   "execution_count": 5,
   "metadata": {},
   "outputs": [
    {
     "name": "stdout",
     "output_type": "stream",
     "text": [
      "['In', 'Out', '_', '__', '___', '__builtin__', '__builtins__', '__doc__', '__loader__', '__name__', '__package__', '__spec__', '_dh', '_i', '_i1', '_i2', '_i3', '_i4', '_i5', '_ih', '_ii', '_iii', '_oh', 'exit', 'get_ipython', 'm', 'my_add', 'quit']\n",
      "150\n",
      "240000\n"
     ]
    }
   ],
   "source": [
    "import my_math as m\n",
    "print(dir())\n",
    "print(m.my_add(10,20,30,40,50))\n",
    "print(m.my_prod(10,20,30,40))"
   ]
  },
  {
   "cell_type": "code",
   "execution_count": 3,
   "metadata": {},
   "outputs": [
    {
     "name": "stdout",
     "output_type": "stream",
     "text": [
      "['In', 'Out', '_', '__', '___', '__builtin__', '__builtins__', '__doc__', '__loader__', '__name__', '__package__', '__spec__', '_dh', '_i', '_i1', '_i2', '_i3', '_ih', '_ii', '_iii', '_oh', 'exit', 'get_ipython', 'ma', 'mp', 'quit']\n",
      "100\n",
      "240000\n"
     ]
    }
   ],
   "source": [
    "from my_math import my_add as ma, my_prod as mp\n",
    "print(dir())\n",
    "print(ma(10,20,30,40))\n",
    "print(mp(10,20,30,40))"
   ]
  },
  {
   "cell_type": "code",
   "execution_count": 2,
   "metadata": {},
   "outputs": [
    {
     "name": "stdout",
     "output_type": "stream",
     "text": [
      "['In', 'Out', '_', '__', '___', '__builtin__', '__builtins__', '__doc__', '__loader__', '__name__', '__package__', '__spec__', '_dh', '_i', '_i1', '_i2', '_ih', '_ii', '_iii', '_oh', 'exit', 'get_ipython', 'math', 'numpy', 'quit']\n",
      "\n",
      "\n",
      "\n",
      "\n",
      "\n",
      "2.0\n"
     ]
    }
   ],
   "source": [
    "print(dir())\n",
    "print('\\n\\n\\n\\n')\n",
    "\n",
    "\n",
    "import math as m\n",
    "import numpy as np\n",
    "print(m.sqrt(4))"
   ]
  },
  {
   "cell_type": "code",
   "execution_count": null,
   "metadata": {},
   "outputs": [],
   "source": []
  },
  {
   "cell_type": "code",
   "execution_count": null,
   "metadata": {},
   "outputs": [],
   "source": []
  },
  {
   "cell_type": "code",
   "execution_count": null,
   "metadata": {},
   "outputs": [],
   "source": []
  },
  {
   "cell_type": "code",
   "execution_count": null,
   "metadata": {},
   "outputs": [],
   "source": []
  },
  {
   "cell_type": "code",
   "execution_count": null,
   "metadata": {},
   "outputs": [],
   "source": []
  },
  {
   "cell_type": "code",
   "execution_count": null,
   "metadata": {},
   "outputs": [],
   "source": []
  },
  {
   "cell_type": "code",
   "execution_count": null,
   "metadata": {},
   "outputs": [],
   "source": []
  }
 ],
 "metadata": {
  "kernelspec": {
   "display_name": "Python 3",
   "language": "python",
   "name": "python3"
  }
 },
 "nbformat": 4,
 "nbformat_minor": 2
}
