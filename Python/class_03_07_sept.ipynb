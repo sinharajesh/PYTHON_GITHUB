{
 "cells": [
  {
   "cell_type": "markdown",
   "metadata": {},
   "source": [
    "# Comments in python"
   ]
  },
  {
   "cell_type": "code",
   "execution_count": null,
   "metadata": {},
   "outputs": [],
   "source": [
    "# Is for proper documentation\n",
    "# To remove unneccessary code "
   ]
  },
  {
   "cell_type": "code",
   "execution_count": null,
   "metadata": {},
   "outputs": [],
   "source": [
    "# Commenting a single line of code requires to keep  single # in front of the line"
   ]
  },
  {
   "cell_type": "code",
   "execution_count": 2,
   "metadata": {},
   "outputs": [],
   "source": [
    "a = 100\n",
    "# print(a)"
   ]
  },
  {
   "cell_type": "code",
   "execution_count": null,
   "metadata": {},
   "outputs": [],
   "source": [
    "# Installing Anaconda, Anaconda\n",
    "# Basics and Introduction\n",
    "# Get familiar with version control, Git\n",
    "# and GitHub.\n",
    "# Basic Github Commands.\n",
    "# Introduction to Jupyter Notebook\n",
    "# environment. Basics Jupyter\n",
    "# notebook Commands.\n",
    "# Programming language basics."
   ]
  },
  {
   "cell_type": "code",
   "execution_count": null,
   "metadata": {},
   "outputs": [],
   "source": [
    "# Taking input from user - input()"
   ]
  },
  {
   "cell_type": "code",
   "execution_count": 5,
   "metadata": {},
   "outputs": [
    {
     "name": "stdout",
     "output_type": "stream",
     "text": [
      "Enter a integer value: 100\n",
      "100 <class 'int'>\n"
     ]
    }
   ],
   "source": [
    "# Taking int input from user\n",
    "a = int(input('Enter a integer value: '))\n",
    "print(a, type(a))"
   ]
  },
  {
   "cell_type": "code",
   "execution_count": 6,
   "metadata": {},
   "outputs": [
    {
     "name": "stdout",
     "output_type": "stream",
     "text": [
      "Enter a integer value: 100.20\n",
      "100.2 <class 'float'>\n"
     ]
    }
   ],
   "source": [
    "# Taking int float from user\n",
    "a = float(input('Enter a integer value: '))\n",
    "print(a, type(a))"
   ]
  },
  {
   "cell_type": "code",
   "execution_count": 12,
   "metadata": {},
   "outputs": [
    {
     "name": "stdout",
     "output_type": "stream",
     "text": [
      "Enter a integer value: 100\n",
      "(100+0j) <class 'complex'>\n",
      "Enter a integer value: 100\n",
      "Enter a integer value: 200\n",
      "(100+200j) <class 'complex'>\n"
     ]
    }
   ],
   "source": [
    "# Taking int complex num from user with real part\n",
    "a = complex(input('Enter a integer value: '))\n",
    "print(a, type(a))\n",
    "print()\n",
    "# # Taking int complex num from user with real part and imaginary\n",
    "a = complex(float(input('Enter a integer value: ')), float(input('Enter a integer value: ')))\n",
    "print(a, type(a))\n",
    "\n",
    "\n",
    "# Complex num - a+bj\n",
    "# a is real\n",
    "# b is imaginary\n",
    "# j = sqrt of -1\n",
    "\n",
    "# complex(10, 20)\n",
    "# complex(10)"
   ]
  },
  {
   "cell_type": "code",
   "execution_count": null,
   "metadata": {},
   "outputs": [],
   "source": [
    "# Type casting - int, float, complex, boolean and string  - fundamental\n",
    "# list, tuple, set, dict, bytes, bytearray, frozenset, range  for generating the respective data  - derived"
   ]
  },
  {
   "cell_type": "code",
   "execution_count": 35,
   "metadata": {},
   "outputs": [],
   "source": [
    "# int()\n",
    "# print(int(10))\n",
    "# print(int(10.20))\n",
    "# print(int('10'))\n",
    "# print(int(True))\n",
    "# print(int(0b10101))\n",
    "# print(int(0o76554))\n",
    "# print(int(0xfc98d))\n",
    "\n",
    "\n",
    "# print(int('10.20'))\n",
    "# print(int('True'))\n",
    "# print(int('0b10101'))\n",
    "# print(int('0o76554'))\n",
    "# print(int('0xfc98d'))\n",
    "# print(int(10+20j))\n",
    "\n",
    "# print(int(float('10')))\n",
    "\n",
    "\n",
    "# a = int('100.20')\n",
    "# print(a, type(a))\n",
    "\n",
    "# two level of conversion is not possible\n",
    "\n",
    "# 0b10101"
   ]
  },
  {
   "cell_type": "code",
   "execution_count": 28,
   "metadata": {},
   "outputs": [],
   "source": [
    "# float()\n",
    "# print(float(10))\n",
    "# print(float(10.20))\n",
    "# print(float('10'))\n",
    "# print(float('10.20'))\n",
    "# print(float(True))\n",
    "# print(float(0b10101))\n",
    "# print(float(0o76554))\n",
    "# print(float(0xfc98d))\n",
    "\n",
    "\n",
    "# \n",
    "# print(float('True'))\n",
    "# print(float('0b10101'))\n",
    "# print(float('0o76554'))\n",
    "# print(float('0xfc98d'))\n",
    "# print(float(10+20j))"
   ]
  },
  {
   "cell_type": "code",
   "execution_count": 36,
   "metadata": {},
   "outputs": [],
   "source": [
    "# complex(real)\n",
    "# print(complex(10))\n",
    "# print(complex('10'))\n",
    "# print(complex('10.20'))\n",
    "# print(complex(10.20))\n",
    "# print(complex(True))\n",
    "# print(complex(0b10101))\n",
    "\n",
    "\n",
    "\n",
    "# complex(real, imag)\n",
    "# print(complex(10,20))\n",
    "# print(complex(10.20,20.30))\n",
    "# print(complex(0,20.30))\n",
    "# print(complex(True,True))\n",
    "# print(complex(0b1010,0o76543))\n",
    "\n",
    "\n",
    "\n",
    "\n",
    "\n",
    "# print(complex('10',20))\n",
    "\n",
    "# print(complex(10, '20'))"
   ]
  },
  {
   "cell_type": "code",
   "execution_count": 39,
   "metadata": {},
   "outputs": [
    {
     "name": "stdout",
     "output_type": "stream",
     "text": [
      "True\n",
      "True\n",
      "True\n",
      "True\n",
      "True\n",
      "True\n",
      "True\n"
     ]
    }
   ],
   "source": [
    "# bool() - True / False\n",
    "# print(bool(0))\n",
    "# print(bool(0.0))\n",
    "# print(bool(0.0+0j))\n",
    "# print(bool(''))\n",
    "# print(bool(None))\n",
    "# print(bool([]))\n",
    "# print(bool(()))\n",
    "# print(bool({}))\n",
    "\n",
    "print(bool(-1))\n",
    "print(bool(0.1))\n",
    "print(bool(0.1+0j))\n",
    "print(bool(' '))\n",
    "# print(bool(None))\n",
    "print(bool([0,]))\n",
    "print(bool((0,)))\n",
    "print(bool({0,}))      \n"
   ]
  },
  {
   "cell_type": "code",
   "execution_count": 40,
   "metadata": {},
   "outputs": [
    {
     "name": "stdout",
     "output_type": "stream",
     "text": [
      " ENter any value: 10+20j\n",
      "10+20j <class 'str'>\n"
     ]
    }
   ],
   "source": [
    "a = input(' ENter any value: ')\n",
    "print(a, type(a))"
   ]
  },
  {
   "cell_type": "code",
   "execution_count": 44,
   "metadata": {},
   "outputs": [
    {
     "name": "stdout",
     "output_type": "stream",
     "text": [
      "Enter a list: [10,20,30]\n",
      "[10, 20, 30] <class 'list'>\n"
     ]
    }
   ],
   "source": [
    "# For taking any derived data type from the user as input do the type casting using eval function\n",
    "\n",
    "lst = eval(input('Enter a list: '))\n",
    "print(lst, type(lst))"
   ]
  },
  {
   "cell_type": "code",
   "execution_count": 43,
   "metadata": {},
   "outputs": [
    {
     "data": {
      "text/plain": [
       "['P', 'y', 't', 'h', 'o', 'n']"
      ]
     },
     "execution_count": 43,
     "metadata": {},
     "output_type": "execute_result"
    }
   ],
   "source": [
    "list('Python')"
   ]
  },
  {
   "cell_type": "code",
   "execution_count": 45,
   "metadata": {},
   "outputs": [
    {
     "name": "stdout",
     "output_type": "stream",
     "text": [
      "Enter a list: (10,20,30)\n",
      "(10, 20, 30) <class 'tuple'>\n"
     ]
    }
   ],
   "source": [
    "tpl = eval(input('Enter a list: '))\n",
    "print(tpl, type(tpl))"
   ]
  },
  {
   "cell_type": "code",
   "execution_count": 46,
   "metadata": {},
   "outputs": [
    {
     "name": "stdout",
     "output_type": "stream",
     "text": [
      "Enter a list: {1:100,2:200,3:300}\n",
      "{1: 100, 2: 200, 3: 300} <class 'dict'>\n"
     ]
    }
   ],
   "source": [
    "d = eval(input('Enter a list: '))\n",
    "print(d, type(d))"
   ]
  },
  {
   "cell_type": "code",
   "execution_count": null,
   "metadata": {},
   "outputs": [],
   "source": [
    "# Printing the output and format the output"
   ]
  },
  {
   "cell_type": "code",
   "execution_count": 48,
   "metadata": {},
   "outputs": [
    {
     "data": {
      "text/plain": [
       "int"
      ]
     },
     "execution_count": 48,
     "metadata": {},
     "output_type": "execute_result"
    }
   ],
   "source": [
    "# type(eval('10'))"
   ]
  },
  {
   "cell_type": "code",
   "execution_count": 49,
   "metadata": {},
   "outputs": [
    {
     "name": "stdout",
     "output_type": "stream",
     "text": [
      "10\n"
     ]
    }
   ],
   "source": [
    "print(10)"
   ]
  },
  {
   "cell_type": "code",
   "execution_count": 50,
   "metadata": {},
   "outputs": [
    {
     "name": "stdout",
     "output_type": "stream",
     "text": [
      "10 20 30\n"
     ]
    }
   ],
   "source": [
    "print(10,20,30)"
   ]
  },
  {
   "cell_type": "code",
   "execution_count": 55,
   "metadata": {},
   "outputs": [
    {
     "name": "stdout",
     "output_type": "stream",
     "text": [
      "10-->20-->30-->40\n"
     ]
    }
   ],
   "source": [
    "print(10,20,30,40, sep = '-->')"
   ]
  },
  {
   "cell_type": "code",
   "execution_count": 57,
   "metadata": {},
   "outputs": [
    {
     "name": "stdout",
     "output_type": "stream",
     "text": [
      "10\n",
      "20\n",
      "30\n",
      "40\n"
     ]
    }
   ],
   "source": [
    "print(10, end = '\\n')\n",
    "print(20, end = '\\n')\n",
    "print(30, end = '\\n')\n",
    "print(40, end = '\\n')"
   ]
  },
  {
   "cell_type": "code",
   "execution_count": 58,
   "metadata": {},
   "outputs": [
    {
     "name": "stdout",
     "output_type": "stream",
     "text": [
      "10\t20\t30\t40\t"
     ]
    }
   ],
   "source": [
    "print(10, end = '\\t')\n",
    "print(20, end = '\\t')\n",
    "print(30, end = '\\t')\n",
    "print(40, end = '\\t')"
   ]
  },
  {
   "cell_type": "code",
   "execution_count": 60,
   "metadata": {},
   "outputs": [
    {
     "name": "stdout",
     "output_type": "stream",
     "text": [
      "10\n",
      "\t20\n",
      "\t\t30\n",
      "\t40\n",
      "50\n"
     ]
    }
   ],
   "source": [
    "print(10, end = '\\n\\t')\n",
    "print(20, end = '\\n\\t\\t')\n",
    "print(30, end = '\\n\\t')\n",
    "print(40, end = '\\n')\n",
    "print(50)\n",
    "\n",
    "# 10\n",
    "#     20\n",
    "#         30\n",
    "#     40\n",
    "# 50"
   ]
  },
  {
   "cell_type": "code",
   "execution_count": 64,
   "metadata": {},
   "outputs": [
    {
     "name": "stdout",
     "output_type": "stream",
     "text": [
      "Enter 1st number10\n",
      "Enter 2nd number20\n",
      "The sum of 10 and 20 is 30\n",
      "The sum of 10 and 20 is 30\n"
     ]
    }
   ],
   "source": [
    "a = int(input('Enter 1st number'))\n",
    "b = int(input('Enter 2nd number'))\n",
    "c = a+b\n",
    "'The sum of {} and {} is {}'.format(a,b,c)\n",
    "print(f'The sum of {a} and {b} is {c}')"
   ]
  },
  {
   "cell_type": "code",
   "execution_count": null,
   "metadata": {},
   "outputs": [],
   "source": [
    "# Data types in Python:-\n",
    "Fundamental - int, float, complex, boolean, strings, None\n",
    "Derived - List, tuple, set, frozenset, dictionary, bytes, bytearray, range\n",
    "\n",
    "\n",
    "# Mutable - Modify - list, set, dictionary, bytearray\n",
    "# Immutable - not modify - rest all are immutable"
   ]
  },
  {
   "cell_type": "code",
   "execution_count": null,
   "metadata": {},
   "outputs": [],
   "source": []
  },
  {
   "cell_type": "code",
   "execution_count": null,
   "metadata": {},
   "outputs": [],
   "source": []
  },
  {
   "cell_type": "code",
   "execution_count": null,
   "metadata": {},
   "outputs": [],
   "source": []
  },
  {
   "cell_type": "code",
   "execution_count": null,
   "metadata": {},
   "outputs": [],
   "source": []
  },
  {
   "cell_type": "code",
   "execution_count": null,
   "metadata": {},
   "outputs": [],
   "source": []
  },
  {
   "cell_type": "code",
   "execution_count": null,
   "metadata": {},
   "outputs": [],
   "source": []
  }
 ],
 "metadata": {
  "kernelspec": {
   "display_name": "Python 3",
   "language": "python",
   "name": "python3"
  },
  "language_info": {
   "codemirror_mode": {
    "name": "ipython",
    "version": 3
   },
   "file_extension": ".py",
   "mimetype": "text/x-python",
   "name": "python",
   "nbconvert_exporter": "python",
   "pygments_lexer": "ipython3",
   "version": "3.7.3"
  }
 },
 "nbformat": 4,
 "nbformat_minor": 2
}
