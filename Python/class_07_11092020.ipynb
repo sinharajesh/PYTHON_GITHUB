{
 "cells": [
  {
   "cell_type": "markdown",
   "metadata": {},
   "source": [
    "# Dictionary, range"
   ]
  },
  {
   "cell_type": "code",
   "execution_count": 77,
   "metadata": {},
   "outputs": [
    {
     "data": {
      "text/plain": [
       "{2: 4, 4: 16, 6: 36, 8: 64}"
      ]
     },
     "execution_count": 77,
     "metadata": {},
     "output_type": "execute_result"
    }
   ],
   "source": [
    "lst = ['ABC', 23, 100.00]\n",
    "\n",
    "\n",
    "# Dictionary is used to represent the structured data\n",
    "d = {'emp1':{'name':'ABC', 'age':23, 'sal':10000.00}, 'emp2':{'name':'XYZ', 'age':24, 'sal':8000.00}, 'emp1':{'name':'ABC', 'age':23, 'sal':15000.00}}\n",
    "# print(d)\n",
    "\n",
    "\n",
    "# Dictionary - Propertirs\n",
    "# 1. IS a collection of key value pair\n",
    "# 2. A key, value par is called item\n",
    "# 3. items are separated by comma\n",
    "# 4. key and value are separated by :\n",
    "# 5. key can not be duplicated whereas value can be dulicated\n",
    "# 6. key can not be mutable, it will be only immutable whereas values can be any type\n",
    "# 7. all the items should be kept inside \"{}\" separated by comma.\n",
    "# 8. Dictinary is not a seq so indexing and slicing is not allowed, concatenation and repetition is alsoi  ot aloowed\n",
    "# 9. membership operator then it checks for the keya dnreturns True if key is present in the dict\n",
    "# 10.identity operation is possible\n",
    "# 11. Dictionary is Mutable.\n",
    "\n",
    "# tpl1 = (10,20,30)\n",
    "# tpl2 = (10,20,30)\n",
    "# print(tpl1 is tpl2)\n",
    "\n",
    "\n",
    "# d = {tpl1:100, tpl2 :200}\n",
    "# print(d[tpl1])\n",
    "\n",
    "# tpl1 = ('name', 'age', 'sal') \n",
    "# d = {tpl1: ('ABC', 23, 10000.00)}\n",
    "\n",
    "\n",
    "# Creation of dictionary\n",
    "# If you know the values\n",
    "# d = {'emp1':{'name':'ABC', 'age':23, 'sal':10000.00}, 'emp2':{'name':'XYZ', 'age':24, 'sal':8000.00}, 'emp1':{'name':'ABC', 'age':23, 'sal':15000.00}}\n",
    "# print(d)\n",
    "\n",
    "# using eval function\n",
    "# d1 = eval(input('ENter a dictionary: '))\n",
    "# print(d1)\n",
    "\n",
    "# using dict function\n",
    "# dict function takes a seq of inner seq where inner seq will have pair of values out of taht pair the first value will be key and second value will be value\n",
    "# d = dict([(1,100),(2.9,2900),('a','Python')])\n",
    "# print(d)\n",
    "\n",
    "# d = dict(zip([1, 20.30, 'a'], (100,2900, 'Python')))\n",
    "# print(d)\n",
    "\n",
    "# d1 = d      # Aliasing\n",
    "# print(d1 is d)\n",
    "\n",
    "# d2 = d.copy()\n",
    "# print(d2 is d)\n",
    "\n",
    "# Accessing a value inside a dictionary - we use square bracket notation\n",
    "d = {'emp1':{'name':'ABC', 'age':23, 'sal':10000.00}, 'emp2':{'name':'XYZ', 'age':24, 'sal':8000.00}, 'emp3':{'name':'MNO', 'age':25, 'sal':20000.00}}\n",
    "# print(d['emp2']['age'])\n",
    "\n",
    "# Update a dictionary\n",
    "# If key is not available\n",
    "# print('before operation ', id(d))\n",
    "# d['emp4'] = {'name':'PQR', 'age':29, 'sal':28000.00}\n",
    "# print('After operation ', id(d))\n",
    "# print(d)\n",
    "\n",
    "# If key ia avilable\n",
    "# print(d)\n",
    "# print('before operation ', id(d))\n",
    "# d['emp1'] = {'name':'PQR', 'age':29, 'sal':28000.00}\n",
    "# # print(d)\n",
    "# print('After operation ', id(d))\n",
    "\n",
    "# Methods on the dictionary\n",
    "# print(dir(dict))\n",
    "\n",
    "# 'clear', 'copy', \n",
    "\n",
    "# 'get', 'setdefault', 'update',\n",
    "\n",
    "# get - if key is present\n",
    "# print(d.get('emp1'))\n",
    "# Return the value for key if key is in the dictionary, else default.\n",
    "\n",
    "# get - if key is not present\n",
    "# print(d.get('emp1', 'This key is not present'))\n",
    "# Return the value for key if key is in the dictionary, else default.\n",
    "# print(d)\n",
    "\n",
    "# print(d.get('emp5', 'This key is not present'))\n",
    "# Return the value for key if key is in the dictionary, else default.\n",
    "# print(d)\n",
    "\n",
    "# print(d.setdefault('emp1', 'This is key is not present'))# - if key is not present\n",
    "# print(d.get('emp1', 'This key is not present'))\n",
    "# Insert key with a value of default if key is not in the dictionary. else returns the value for the key\n",
    "# print(d)\n",
    "# \n",
    "# print(d.setdefault('emp5', 'This key is not present'))\n",
    "# Insert key with a value of default if key is not in the dictionary. else returns the value for the key\n",
    "# print(d)\n",
    "\n",
    "\n",
    "# update is dic is similar as exted in list\n",
    "# print(d)\n",
    "# d1 = {11:11000, 22:22000, 33:33000}\n",
    "# Updating d1 into d\n",
    "# d.update(d1)\n",
    "# print(d)\n",
    "# print(d1)\n",
    "\n",
    "# 'pop', 'popitem',\n",
    "\n",
    "#pop\n",
    "# remove specified key and return the corresponding value.\n",
    "# If key is not found, d is returned if given, otherwise KeyError is raised\n",
    "# print(d.pop('emp1'))\n",
    "# print(d)\n",
    "\n",
    "# print(d.pop('emp5','This ey is not present'))\n",
    "\n",
    "\n",
    "# popitem - \n",
    "# print(d)\n",
    "# d.popitem()\n",
    "# d.popitem()\n",
    "# d.popitem()\n",
    "# print(d)\n",
    "# d.popitem()\n",
    "\n",
    "#  'items', 'keys',    'values'\n",
    "# to check all the keys inside a dictionary\n",
    "# print(d.keys())\n",
    "# for i in d.keys():\n",
    "#     print(i, d[i])\n",
    "\n",
    "# to check all the values inside a dictionary\n",
    "# print(d.values())\n",
    "# for i in d.values():\n",
    "#     print(i)\n",
    "\n",
    "# to check all the items inside a dictionary\n",
    "# print(d.items())\n",
    "# for i in d.items():\n",
    "#     print(i)\n",
    "\n",
    "\n",
    "# 'fromkeys', \n",
    "# d1 = d2.fromkeys([1,2,3,4], 10)\n",
    "# print(d1)\n",
    "\n",
    "# Create a new dictionary with keys from iterable and values set to value.\n",
    "\n",
    "# Clear method ckears a dictionary and leaves empty dictionary behind\n",
    "# d.clear()\n",
    "# print(d)\n",
    "\n",
    "\n",
    "# Dictionary comprehension - \n",
    "\n",
    "# {i:i**2 for i in range(2,10,2)}\n"
   ]
  },
  {
   "cell_type": "code",
   "execution_count": 84,
   "metadata": {},
   "outputs": [
    {
     "name": "stdout",
     "output_type": "stream",
     "text": [
      "[-10, -9, -8, -7, -6, -5, -4, -3, -2, -1, 0, 1, 2, 3, 4, 5, 6, 7, 8, 9, 10, 11, 12, 13, 14, 15, 16, 17, 18, 19]\n",
      "[10, 9, 8, 7, 6, 5, 4, 3, 2, 1, 0, -1, -2, -3, -4, -5, -6, -7, -8, -9, -10, -11, -12, -13, -14, -15, -16, -17, -18, -19]\n",
      "[10, 8, 6, 4, 2, 0, -2, -4, -6, -8, -10, -12, -14, -16, -18]\n",
      "[-10, -7, -4, -1, 2, 5, 8, 11, 14, 17]\n"
     ]
    }
   ],
   "source": [
    "# range() - for loop\n",
    "\n",
    "# range(start, stop, step)  used to generate a seq of numbers in forward or backward direction on a pattern\n",
    "# range(stop)\n",
    "\n",
    "\n",
    "# start defaulrt - 0\n",
    "# stop value is provided by user\n",
    "# step - 1\n",
    "\n",
    "# step can be +ve or -ve\n",
    "# +ve - seq generation will be done from left to right\n",
    "# -ve - seq generation will be done from right to left\n",
    "\n",
    "#                          -10                                            +10\n",
    "#                  --------------------------------------------------------------------------> +ve\n",
    "\n",
    "# -inf -------------------------------------------------0-------------------------------------------------+inf\n",
    "\n",
    "\n",
    "#                  <-------------------------------------------------------------------------- -ve\n",
    "\n",
    "# step 1 - it will be a continuous number generation in the range\n",
    "# step 2 - every 2nd num\n",
    "# step 3 - every 3rd num\n",
    "\n",
    "# returns range object - list, or run the loop to fetvh the value\n",
    "\n",
    "# print(list(range(-10,20)))\n",
    "# # print(list(range(-10,20, -1)))\n",
    "# print(list(range(10, -20, -1)))\n",
    "\n",
    "# print(list(range(10, -20, -2)))\n",
    "\n",
    "# print(list(range(-10,20,3)))\n",
    "\n",
    "\n",
    "\n",
    "\n",
    "\n",
    "\n"
   ]
  },
  {
   "cell_type": "code",
   "execution_count": 90,
   "metadata": {},
   "outputs": [
    {
     "name": "stdout",
     "output_type": "stream",
     "text": [
      "{40, 10, 20, 30}\n",
      "{100, 40, 10, 20, 30}\n"
     ]
    }
   ],
   "source": [
    "# Set - is a collection of values and it is not a seq\n",
    "# Set is not an ordered collection\n",
    "# Does not supports indexing and slicing\n",
    "# set is a collection of unique values\n",
    "# set is mutable\n",
    "\n",
    "\n",
    "s = {10,20,30,40, 40}\n",
    "print(s)\n",
    "\n",
    "s.add(100)\n",
    "print(s)"
   ]
  },
  {
   "cell_type": "code",
   "execution_count": 91,
   "metadata": {},
   "outputs": [
    {
     "name": "stdout",
     "output_type": "stream",
     "text": [
      "frozenset({40, 10, 50, 20, 30})\n"
     ]
    },
    {
     "ename": "AttributeError",
     "evalue": "'frozenset' object has no attribute 'add'",
     "output_type": "error",
     "traceback": [
      "\u001b[0;31m---------------------------------------------------------------------------\u001b[0m",
      "\u001b[0;31mAttributeError\u001b[0m                            Traceback (most recent call last)",
      "\u001b[0;32m<ipython-input-91-ee856c922292>\u001b[0m in \u001b[0;36m<module>\u001b[0;34m\u001b[0m\n\u001b[1;32m      2\u001b[0m \u001b[0md\u001b[0m \u001b[0;34m=\u001b[0m \u001b[0mfrozenset\u001b[0m\u001b[0;34m(\u001b[0m\u001b[0;34m[\u001b[0m\u001b[0;36m10\u001b[0m\u001b[0;34m,\u001b[0m\u001b[0;36m20\u001b[0m\u001b[0;34m,\u001b[0m\u001b[0;36m30\u001b[0m\u001b[0;34m,\u001b[0m\u001b[0;36m40\u001b[0m\u001b[0;34m,\u001b[0m\u001b[0;36m50\u001b[0m\u001b[0;34m,\u001b[0m\u001b[0;36m10\u001b[0m\u001b[0;34m,\u001b[0m\u001b[0;36m20\u001b[0m\u001b[0;34m,\u001b[0m\u001b[0;36m40\u001b[0m\u001b[0;34m]\u001b[0m\u001b[0;34m)\u001b[0m\u001b[0;34m\u001b[0m\u001b[0;34m\u001b[0m\u001b[0m\n\u001b[1;32m      3\u001b[0m \u001b[0mprint\u001b[0m\u001b[0;34m(\u001b[0m\u001b[0md\u001b[0m\u001b[0;34m)\u001b[0m\u001b[0;34m\u001b[0m\u001b[0;34m\u001b[0m\u001b[0m\n\u001b[0;32m----> 4\u001b[0;31m \u001b[0md\u001b[0m\u001b[0;34m.\u001b[0m\u001b[0madd\u001b[0m\u001b[0;34m(\u001b[0m\u001b[0;36m111\u001b[0m\u001b[0;34m)\u001b[0m\u001b[0;34m\u001b[0m\u001b[0;34m\u001b[0m\u001b[0m\n\u001b[0m\u001b[1;32m      5\u001b[0m \u001b[0mprint\u001b[0m\u001b[0;34m(\u001b[0m\u001b[0md\u001b[0m\u001b[0;34m)\u001b[0m\u001b[0;34m\u001b[0m\u001b[0;34m\u001b[0m\u001b[0m\n",
      "\u001b[0;31mAttributeError\u001b[0m: 'frozenset' object has no attribute 'add'"
     ]
    }
   ],
   "source": [
    "# frozeset - immutable set\n",
    "d = frozenset([10,20,30,40,50,10,20,40])\n",
    "print(d)\n",
    "# d.add(111)\n",
    "# print(d)"
   ]
  },
  {
   "cell_type": "code",
   "execution_count": 98,
   "metadata": {},
   "outputs": [
    {
     "name": "stdout",
     "output_type": "stream",
     "text": [
      "bytearray(b'\\n\\x14\\x1e(')\n"
     ]
    },
    {
     "ename": "ValueError",
     "evalue": "byte must be in range(0, 256)",
     "output_type": "error",
     "traceback": [
      "\u001b[0;31m---------------------------------------------------------------------------\u001b[0m",
      "\u001b[0;31mValueError\u001b[0m                                Traceback (most recent call last)",
      "\u001b[0;32m<ipython-input-98-fdf25a33c7fe>\u001b[0m in \u001b[0;36m<module>\u001b[0;34m\u001b[0m\n\u001b[1;32m     10\u001b[0m \u001b[0mba\u001b[0m \u001b[0;34m=\u001b[0m \u001b[0mbytearray\u001b[0m\u001b[0;34m(\u001b[0m\u001b[0;34m[\u001b[0m\u001b[0;36m10\u001b[0m\u001b[0;34m,\u001b[0m\u001b[0;36m20\u001b[0m\u001b[0;34m,\u001b[0m\u001b[0;36m30\u001b[0m\u001b[0;34m,\u001b[0m\u001b[0;36m40\u001b[0m\u001b[0;34m]\u001b[0m\u001b[0;34m)\u001b[0m\u001b[0;34m\u001b[0m\u001b[0;34m\u001b[0m\u001b[0m\n\u001b[1;32m     11\u001b[0m \u001b[0mprint\u001b[0m\u001b[0;34m(\u001b[0m\u001b[0mba\u001b[0m\u001b[0;34m)\u001b[0m\u001b[0;34m\u001b[0m\u001b[0;34m\u001b[0m\u001b[0m\n\u001b[0;32m---> 12\u001b[0;31m \u001b[0mba\u001b[0m\u001b[0;34m[\u001b[0m\u001b[0;36m0\u001b[0m\u001b[0;34m]\u001b[0m \u001b[0;34m=\u001b[0m \u001b[0;36m260\u001b[0m\u001b[0;34m\u001b[0m\u001b[0;34m\u001b[0m\u001b[0m\n\u001b[0m\u001b[1;32m     13\u001b[0m \u001b[0mprint\u001b[0m\u001b[0;34m(\u001b[0m\u001b[0mba\u001b[0m\u001b[0;34m)\u001b[0m\u001b[0;34m\u001b[0m\u001b[0;34m\u001b[0m\u001b[0m\n",
      "\u001b[0;31mValueError\u001b[0m: byte must be in range(0, 256)"
     ]
    }
   ],
   "source": [
    "# bytes and bytearray - seq and they are used to store the digital information - images, audio, pdf etc\n",
    "\n",
    "# bytes is immutable and accpets the values from 0 to 256   - immutable\n",
    "# b = bytes([10,20,30,40])\n",
    "# print(b)\n",
    "# b[0] = 100\n",
    "\n",
    "\n",
    "# bytearray is mutable and accpets the values from 0 to 256   - mutable\n",
    "# ba = bytearray([10,20,30,40])\n",
    "# print(ba)\n",
    "# ba[0] = 260\n",
    "# print(ba)"
   ]
  },
  {
   "cell_type": "code",
   "execution_count": null,
   "metadata": {},
   "outputs": [],
   "source": [
    "# Function"
   ]
  },
  {
   "cell_type": "code",
   "execution_count": null,
   "metadata": {},
   "outputs": [],
   "source": [
    "Object reusability \n",
    "# int 0 - 256\n"
   ]
  },
  {
   "cell_type": "code",
   "execution_count": null,
   "metadata": {},
   "outputs": [],
   "source": []
  },
  {
   "cell_type": "code",
   "execution_count": null,
   "metadata": {},
   "outputs": [],
   "source": []
  },
  {
   "cell_type": "code",
   "execution_count": null,
   "metadata": {},
   "outputs": [],
   "source": []
  },
  {
   "cell_type": "code",
   "execution_count": null,
   "metadata": {},
   "outputs": [],
   "source": []
  },
  {
   "cell_type": "code",
   "execution_count": null,
   "metadata": {},
   "outputs": [],
   "source": []
  },
  {
   "cell_type": "code",
   "execution_count": null,
   "metadata": {},
   "outputs": [],
   "source": []
  },
  {
   "cell_type": "code",
   "execution_count": null,
   "metadata": {},
   "outputs": [],
   "source": []
  },
  {
   "cell_type": "code",
   "execution_count": null,
   "metadata": {},
   "outputs": [],
   "source": []
  },
  {
   "cell_type": "code",
   "execution_count": null,
   "metadata": {},
   "outputs": [],
   "source": []
  },
  {
   "cell_type": "code",
   "execution_count": null,
   "metadata": {},
   "outputs": [],
   "source": []
  },
  {
   "cell_type": "code",
   "execution_count": null,
   "metadata": {},
   "outputs": [],
   "source": []
  },
  {
   "cell_type": "code",
   "execution_count": null,
   "metadata": {},
   "outputs": [],
   "source": []
  },
  {
   "cell_type": "code",
   "execution_count": null,
   "metadata": {},
   "outputs": [],
   "source": []
  },
  {
   "cell_type": "code",
   "execution_count": null,
   "metadata": {},
   "outputs": [],
   "source": []
  },
  {
   "cell_type": "code",
   "execution_count": null,
   "metadata": {},
   "outputs": [],
   "source": []
  },
  {
   "cell_type": "code",
   "execution_count": null,
   "metadata": {},
   "outputs": [],
   "source": []
  },
  {
   "cell_type": "code",
   "execution_count": null,
   "metadata": {},
   "outputs": [],
   "source": []
  },
  {
   "cell_type": "code",
   "execution_count": null,
   "metadata": {},
   "outputs": [],
   "source": []
  },
  {
   "cell_type": "code",
   "execution_count": null,
   "metadata": {},
   "outputs": [],
   "source": []
  }
 ],
 "metadata": {
  "kernelspec": {
   "display_name": "Python 3",
   "language": "python",
   "name": "python3"
  },
  "language_info": {
   "codemirror_mode": {
    "name": "ipython",
    "version": 3
   },
   "file_extension": ".py",
   "mimetype": "text/x-python",
   "name": "python",
   "nbconvert_exporter": "python",
   "pygments_lexer": "ipython3",
   "version": "3.7.3"
  }
 },
 "nbformat": 4,
 "nbformat_minor": 2
}
