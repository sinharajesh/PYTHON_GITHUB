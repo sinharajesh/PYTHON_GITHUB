{
 "cells": [
  {
   "cell_type": "markdown",
   "metadata": {},
   "source": [
    "# Function"
   ]
  },
  {
   "cell_type": "code",
   "execution_count": null,
   "metadata": {},
   "outputs": [],
   "source": [
    "# Module - collection of function or a single python file is python module"
   ]
  },
  {
   "cell_type": "code",
   "execution_count": 12,
   "metadata": {},
   "outputs": [
    {
     "name": "stdout",
     "output_type": "stream",
     "text": [
      "1st Number: 200\n",
      "2nd Number: 6\n",
      "(206, 194, 1200, 33, 2)\n"
     ]
    }
   ],
   "source": [
    "# Define a funcion which takes two number as input from the user and returns the sum, diff, product, quotient and remainder\n",
    "def my_math(num1, num2):\n",
    "    sum1 = num1+num2\n",
    "    diff = num1-num2\n",
    "    prod = num1*num2\n",
    "    quo = num1//num2\n",
    "    rem = num1%num2\n",
    "    return sum1, diff, prod, quo, rem\n",
    "\n",
    "n1 = int(input('1st Number: '))\n",
    "n2 = int(input('2nd Number: '))\n",
    "out_tpl = my_math(n1,n2)\n",
    "print(out_tpl)\n",
    "\n",
    "\n",
    "\n"
   ]
  },
  {
   "cell_type": "code",
   "execution_count": 14,
   "metadata": {},
   "outputs": [
    {
     "name": "stdout",
     "output_type": "stream",
     "text": [
      "100\n"
     ]
    }
   ],
   "source": [
    "# Take a list from the user pass it as input to a function called sum_list and find the sum of all elements \n",
    "# in the list. Return the total value as output\n",
    "\n",
    "def sum_lst(lst):\n",
    "    total = 0\n",
    "    for ele in lst:\n",
    "        total += ele\n",
    "    return total\n",
    "t = sum_lst([10,20,30,40])\n",
    "print(t)\n",
    "\n",
    "\n",
    "\n"
   ]
  },
  {
   "cell_type": "code",
   "execution_count": 23,
   "metadata": {},
   "outputs": [
    {
     "data": {
      "text/plain": [
       "False"
      ]
     },
     "execution_count": 23,
     "metadata": {},
     "output_type": "execute_result"
    }
   ],
   "source": [
    "# Define a function to convert 100 degree celsius to degree fahrenhite\n",
    "\n",
    "# C/5 = (f-32)/9\n",
    "# f = (9c/5)+32\n",
    "\n",
    "# def degree_to_fahrenhite(C):\n",
    "#     f = ((9*C)/5)+32\n",
    "#     return f\n",
    "\n",
    "# degree_to_fahrenhite(100)\n",
    "\n",
    "# Define a function which takes a number as inut and return True if number is palindrome else returns False\n",
    "\n",
    "12321\n",
    "\n",
    "\n",
    "def Palindroe(num):\n",
    "    temp = num\n",
    "    rev_num = 0\n",
    "    while num > 0:\n",
    "        lst_dig = num % 10\n",
    "        rev_num = rev_num*10 + lst_dig\n",
    "        num = num//10\n",
    "    return True if temp == rev_num else False\n",
    "Palindroe(12322)"
   ]
  },
  {
   "cell_type": "code",
   "execution_count": null,
   "metadata": {},
   "outputs": [],
   "source": [
    "# Types of argumnets\n",
    "    1. Positional\n",
    "    2. default\n",
    "    3. keyworded\n",
    "    4. variable length(*args) and variable length keyworded(**kwargs)"
   ]
  },
  {
   "cell_type": "code",
   "execution_count": 26,
   "metadata": {},
   "outputs": [
    {
     "ename": "TypeError",
     "evalue": "add() missing 1 required positional argument: 'n6'",
     "output_type": "error",
     "traceback": [
      "\u001b[0;31m---------------------------------------------------------------------------\u001b[0m",
      "\u001b[0;31mTypeError\u001b[0m                                 Traceback (most recent call last)",
      "\u001b[0;32m<ipython-input-26-59d8dc664b5d>\u001b[0m in \u001b[0;36m<module>\u001b[0;34m\u001b[0m\n\u001b[1;32m      4\u001b[0m     \u001b[0mprint\u001b[0m\u001b[0;34m(\u001b[0m\u001b[0mn1\u001b[0m\u001b[0;34m,\u001b[0m \u001b[0mn2\u001b[0m\u001b[0;34m,\u001b[0m \u001b[0mn3\u001b[0m\u001b[0;34m,\u001b[0m\u001b[0mn4\u001b[0m\u001b[0;34m,\u001b[0m\u001b[0mn5\u001b[0m \u001b[0;34m,\u001b[0m\u001b[0mn6\u001b[0m\u001b[0;34m)\u001b[0m\u001b[0;34m\u001b[0m\u001b[0;34m\u001b[0m\u001b[0m\n\u001b[1;32m      5\u001b[0m     \u001b[0mprint\u001b[0m\u001b[0;34m(\u001b[0m\u001b[0mn1\u001b[0m\u001b[0;34m+\u001b[0m\u001b[0mn2\u001b[0m\u001b[0;34m+\u001b[0m\u001b[0mn3\u001b[0m\u001b[0;34m+\u001b[0m\u001b[0mn4\u001b[0m\u001b[0;34m+\u001b[0m\u001b[0mn5\u001b[0m\u001b[0;34m+\u001b[0m\u001b[0mn6\u001b[0m\u001b[0;34m)\u001b[0m\u001b[0;34m\u001b[0m\u001b[0;34m\u001b[0m\u001b[0m\n\u001b[0;32m----> 6\u001b[0;31m \u001b[0madd\u001b[0m\u001b[0;34m(\u001b[0m\u001b[0;36m10\u001b[0m\u001b[0;34m,\u001b[0m \u001b[0;36m100\u001b[0m\u001b[0;34m,\u001b[0m \u001b[0;36m22\u001b[0m\u001b[0;34m,\u001b[0m \u001b[0;36m39\u001b[0m\u001b[0;34m,\u001b[0m \u001b[0;36m900\u001b[0m\u001b[0;34m)\u001b[0m\u001b[0;34m\u001b[0m\u001b[0;34m\u001b[0m\u001b[0m\n\u001b[0m\u001b[1;32m      7\u001b[0m \u001b[0;34m\u001b[0m\u001b[0m\n",
      "\u001b[0;31mTypeError\u001b[0m: add() missing 1 required positional argument: 'n6'"
     ]
    }
   ],
   "source": [
    "# Positional arguments - order does matter, numer of arguments should also match\n",
    "\n",
    "def add(n1, n2, n3, n4, n5, n6):\n",
    "    print(n1, n2, n3,n4,n5 ,n6)\n",
    "    print(n1+n2+n3+n4+n5+n6)\n",
    "add(10, 100, 22, 39, 67, 900)\n",
    "\n"
   ]
  },
  {
   "cell_type": "code",
   "execution_count": 30,
   "metadata": {},
   "outputs": [
    {
     "name": "stdout",
     "output_type": "stream",
     "text": [
      "10 0 100 0 0 0\n",
      "110\n",
      "\n",
      "10 200 100 0 0 0\n",
      "310\n",
      "\n",
      "10 20 100 33 0 0\n",
      "163\n",
      "\n",
      "10 12 100 22 34 0\n",
      "178\n",
      "\n"
     ]
    }
   ],
   "source": [
    "# default argument - mix of positional and default arg - positional should always be placed before default\n",
    "\n",
    "def add(n1, n3, n2=0, n4=0, n5=0, n6=0):\n",
    "    print(n1, n2, n3,n4,n5 ,n6)\n",
    "    print(n1+n2+n3+n4+n5+n6)\n",
    "    print()\n",
    "add(10, 100)\n",
    "add(10, 100,200)\n",
    "add(10, 100,20,33)\n",
    "add(10, 100,12,22,34)"
   ]
  },
  {
   "cell_type": "code",
   "execution_count": 33,
   "metadata": {},
   "outputs": [
    {
     "name": "stdout",
     "output_type": "stream",
     "text": [
      "100 300 20 100 600 20\n",
      "1140\n",
      "\n"
     ]
    }
   ],
   "source": [
    "# keyworded argument - args are passed wth the name while doing function call - order does not matter\n",
    "# Mix of positional and keywrded arg then poitional shuld be kept first\n",
    "\n",
    "\n",
    "def add(n1, n3, n2, n4, n5, n6):\n",
    "    print(n1, n2, n3,n4,n5 ,n6)\n",
    "    print(n1+n2+n3+n4+n5+n6)\n",
    "    print()\n",
    "\n",
    "add(100,20, n4 = 100, n2 = 300, n6 = 20, n5 = 600)\n",
    "\n"
   ]
  },
  {
   "cell_type": "code",
   "execution_count": 38,
   "metadata": {},
   "outputs": [
    {
     "name": "stdout",
     "output_type": "stream",
     "text": [
      "(10,) <class 'tuple'>\n",
      "10\n",
      "\n",
      "(10, 20) <class 'tuple'>\n",
      "30\n",
      "\n",
      "(10, 20, 30) <class 'tuple'>\n",
      "60\n",
      "\n",
      "(10, 20, 30, 40) <class 'tuple'>\n",
      "100\n",
      "\n",
      "(10, 20, 30, 40, 50) <class 'tuple'>\n",
      "150\n",
      "\n",
      "(10, 20, 30, 40, 50, 60) <class 'tuple'>\n",
      "210\n",
      "\n",
      "(10, 20, 30, 40, 50, 60, 70) <class 'tuple'>\n",
      "280\n",
      "\n"
     ]
    }
   ],
   "source": [
    "# variable length - *args\n",
    "\n",
    "def var_len_func(*args):\n",
    "    print(args, type(args))\n",
    "    total = 0\n",
    "    for i in args:\n",
    "        total += i\n",
    "    print(total)\n",
    "    print()\n",
    "\n",
    "var_len_func(10)\n",
    "var_len_func(10,20)\n",
    "var_len_func(10,20,30)\n",
    "var_len_func(10,20,30,40)\n",
    "var_len_func(10,20,30,40,50)\n",
    "var_len_func(10,20,30,40,50,60)\n",
    "var_len_func(10,20,30,40,50,60,70)\n",
    "\n",
    "\n"
   ]
  },
  {
   "cell_type": "code",
   "execution_count": 39,
   "metadata": {},
   "outputs": [
    {
     "name": "stdout",
     "output_type": "stream",
     "text": [
      "{'a': 10} <class 'dict'>\n",
      "a ---> 10\n",
      "\n",
      "{'a': 10, 'b': 20} <class 'dict'>\n",
      "a ---> 10\n",
      "b ---> 20\n",
      "\n",
      "{'a': 10, 'b': 20, 'c': 30} <class 'dict'>\n",
      "a ---> 10\n",
      "b ---> 20\n",
      "c ---> 30\n",
      "\n",
      "{'a': 10, 'b': 20, 'c': 30, 'd': 40} <class 'dict'>\n",
      "a ---> 10\n",
      "b ---> 20\n",
      "c ---> 30\n",
      "d ---> 40\n",
      "\n",
      "{'a': 10, 'b': 20, 'c': 30, 'd': 40, 'e': 50} <class 'dict'>\n",
      "a ---> 10\n",
      "b ---> 20\n",
      "c ---> 30\n",
      "d ---> 40\n",
      "e ---> 50\n",
      "\n"
     ]
    }
   ],
   "source": [
    "# variable length keyworded arguments- *args\n",
    "\n",
    "def var_len_func(**kwvars):\n",
    "    print(kwvars, type(kwvars))\n",
    "    for i in kwvars:\n",
    "        print(i, '--->',kwvars[i])\n",
    "    print()\n",
    "\n",
    "var_len_func(a = 10)\n",
    "var_len_func(a= 10,b = 20)\n",
    "var_len_func(a = 10,b = 20,c = 30)\n",
    "var_len_func(a = 10,b = 20,c = 30,d = 40)\n",
    "var_len_func(a = 10,b = 20,c = 30,d = 40,e = 50)\n",
    "# var_len_func(10,20,30,40,50,60)\n",
    "# var_len_func(10,20,30,40,50,60,70)"
   ]
  },
  {
   "cell_type": "code",
   "execution_count": null,
   "metadata": {},
   "outputs": [],
   "source": [
    "contact_info(name, mob) - print(name, mob)\n",
    "\n",
    "adress_info(street,city, state, pin, **kwvars):- contact_info(kwvars), print(street,city, state, pin,)\n",
    "    \n",
    "email(email, **kwargs) - adress_info(kwargs) print(email)\n",
    "\n",
    "\n",
    "email()"
   ]
  },
  {
   "cell_type": "code",
   "execution_count": null,
   "metadata": {},
   "outputs": [],
   "source": []
  },
  {
   "cell_type": "code",
   "execution_count": null,
   "metadata": {},
   "outputs": [],
   "source": []
  },
  {
   "cell_type": "code",
   "execution_count": null,
   "metadata": {},
   "outputs": [],
   "source": []
  },
  {
   "cell_type": "code",
   "execution_count": null,
   "metadata": {},
   "outputs": [],
   "source": []
  },
  {
   "cell_type": "code",
   "execution_count": null,
   "metadata": {},
   "outputs": [],
   "source": []
  },
  {
   "cell_type": "code",
   "execution_count": null,
   "metadata": {},
   "outputs": [],
   "source": []
  },
  {
   "cell_type": "code",
   "execution_count": null,
   "metadata": {},
   "outputs": [],
   "source": []
  },
  {
   "cell_type": "code",
   "execution_count": null,
   "metadata": {},
   "outputs": [],
   "source": []
  },
  {
   "cell_type": "code",
   "execution_count": null,
   "metadata": {},
   "outputs": [],
   "source": []
  },
  {
   "cell_type": "code",
   "execution_count": null,
   "metadata": {},
   "outputs": [],
   "source": []
  },
  {
   "cell_type": "code",
   "execution_count": null,
   "metadata": {},
   "outputs": [],
   "source": []
  },
  {
   "cell_type": "code",
   "execution_count": null,
   "metadata": {},
   "outputs": [],
   "source": []
  },
  {
   "cell_type": "code",
   "execution_count": null,
   "metadata": {},
   "outputs": [],
   "source": []
  },
  {
   "cell_type": "code",
   "execution_count": null,
   "metadata": {},
   "outputs": [],
   "source": []
  },
  {
   "cell_type": "code",
   "execution_count": null,
   "metadata": {},
   "outputs": [],
   "source": []
  },
  {
   "cell_type": "code",
   "execution_count": null,
   "metadata": {},
   "outputs": [],
   "source": []
  },
  {
   "cell_type": "code",
   "execution_count": null,
   "metadata": {},
   "outputs": [],
   "source": []
  },
  {
   "cell_type": "code",
   "execution_count": null,
   "metadata": {},
   "outputs": [],
   "source": []
  },
  {
   "cell_type": "code",
   "execution_count": null,
   "metadata": {},
   "outputs": [],
   "source": []
  },
  {
   "cell_type": "code",
   "execution_count": null,
   "metadata": {},
   "outputs": [],
   "source": []
  },
  {
   "cell_type": "code",
   "execution_count": null,
   "metadata": {},
   "outputs": [],
   "source": []
  },
  {
   "cell_type": "code",
   "execution_count": null,
   "metadata": {},
   "outputs": [],
   "source": []
  },
  {
   "cell_type": "code",
   "execution_count": null,
   "metadata": {},
   "outputs": [],
   "source": []
  },
  {
   "cell_type": "code",
   "execution_count": null,
   "metadata": {},
   "outputs": [],
   "source": []
  },
  {
   "cell_type": "code",
   "execution_count": null,
   "metadata": {},
   "outputs": [],
   "source": []
  },
  {
   "cell_type": "code",
   "execution_count": null,
   "metadata": {},
   "outputs": [],
   "source": []
  }
 ],
 "metadata": {
  "kernelspec": {
   "display_name": "Python 3",
   "language": "python",
   "name": "python3"
  },
  "language_info": {
   "codemirror_mode": {
    "name": "ipython",
    "version": 3
   },
   "file_extension": ".py",
   "mimetype": "text/x-python",
   "name": "python",
   "nbconvert_exporter": "python",
   "pygments_lexer": "ipython3",
   "version": "3.7.3"
  }
 },
 "nbformat": 4,
 "nbformat_minor": 2
}
