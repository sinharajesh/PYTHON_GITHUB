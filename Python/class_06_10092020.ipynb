{
 "cells": [
  {
   "cell_type": "code",
   "execution_count": 3,
   "metadata": {},
   "outputs": [
    {
     "data": {
      "text/plain": [
       "'retep repip dekcip a kcep fo delkcip .sreppep'"
      ]
     },
     "execution_count": 3,
     "metadata": {},
     "output_type": "execute_result"
    }
   ],
   "source": [
    "#Write a python program to find below output:-\n",
    "\n",
    "#Input:- 'peter piper picked a peck of pickled peppers.'\n",
    "#Output:- 'retep repip dekcip a kcep fo delkcip .sreppep'\n",
    "\n",
    "# my_str = 'peter piper picked a peck of pickled peppers.'\n",
    "# ' '.join([i[::-1] for i in my_str.split()])\n"
   ]
  },
  {
   "cell_type": "code",
   "execution_count": 6,
   "metadata": {},
   "outputs": [
    {
     "data": {
      "text/plain": [
       "'peppers. pickled of peck a picked piper peter'"
      ]
     },
     "execution_count": 6,
     "metadata": {},
     "output_type": "execute_result"
    }
   ],
   "source": [
    "#Write a python program to find below output:-\n",
    "\n",
    "#Input:- 'peter piper picked a peck of pickled peppers.'\n",
    "#Output:- 'peppers. pickled of peck a picked piper peter'\n",
    "\n",
    "# ' '.join(my_str.split()[::-1])\n"
   ]
  },
  {
   "cell_type": "code",
   "execution_count": null,
   "metadata": {},
   "outputs": [],
   "source": [
    "# Operator Precedence\n",
    "# ()\n",
    "# **\n",
    "# ~,- Bitwise complement and unary Minus\n",
    "# *,/,%,//\n",
    "# +,-\n",
    "# <<,>>\n",
    "# &\n",
    "# ^\n",
    "# |\n",
    "# >,>=,<,<=,==,!=\n",
    "# =,+=,-=...\n",
    "# is, is not\n",
    "# in, not in\n",
    "# not\n",
    "# and\n",
    "# or"
   ]
  },
  {
   "cell_type": "code",
   "execution_count": 110,
   "metadata": {},
   "outputs": [
    {
     "name": "stdout",
     "output_type": "stream",
     "text": [
      "[10] <class 'list'>\n"
     ]
    }
   ],
   "source": [
    "# Derived Data types in Python- list, tuple, set, frozenset, dictionary, bytes, bytearray, range\n",
    "\n",
    "# List - Anything kept inside the square bracket separated by comma is a list\n",
    "\n",
    "\n",
    "# Creation of list\n",
    "\n",
    "# If you know the elements in advance\n",
    "# lst = [10,20,30,40]\n",
    "# print(lst, type(lst))\n",
    "\n",
    "# Taking user input\n",
    "# lst1 = eval(input('Enter a list: '))\n",
    "# print(lst1, type(lst1))\n",
    "\n",
    "# Using list(Iterable)\n",
    "# creating a list from string\n",
    "# print(list('Python'))\n",
    "# print(list((10,20,30,40)))\n",
    "# print(list({10,20,30,40}))\n",
    "# print(list({1:10,2:20,3:30,4:40}))\n",
    "\n",
    "# Using split function\n",
    "# my_str = 'peter piper picked a peck of pickled peppers.'\n",
    "# print(my_str.split())\n",
    "\n",
    "# Properties of list:-\n",
    "# 1. List is a seq\n",
    "# 2. It is an ordered collection of the elements -> The elements are indexed\n",
    "# 3. List also supports +ve and -ve indexing\n",
    "#     +ve indexing starts from 0 from LHS and -ve indexing starts from -1 from RHS\n",
    "# 4. List supports Indexing and slicing both\n",
    "# 5. It is mutable - modify (Assignment is allowed, will keep the changes in the existing object)\n",
    "# 6. It allows the duplicate elements\n",
    "# 7. Basic operation - Indexing, slicing, Concatenation, Repetition, Membership, Identity operator\n",
    "# 8. It can hold any data as it's elements\n",
    "\n",
    "\n",
    "# -4   -3  -2  -1   --> -ve indexing\n",
    "# [10, 20, 30, 40]\n",
    "#  0    1   2   3   --> +ve Indexing\n",
    "\n",
    "\n",
    "# Indexing - accessing one element at a time\n",
    "lst = [10, 20.30, 10+20j, 'Python', None, True, [10,20,30], (100,200,300), {100,200,300}, {1:200, 2:200, 3:300}]\n",
    "\n",
    "# Accessing 1st element\n",
    "# print(lst[0])\n",
    "# print(lst[-len(lst)])\n",
    "\n",
    "# Accessing last element\n",
    "# print(lst[-1])\n",
    "# print(lst[len(lst)-1])\n",
    "          \n",
    "# Accessing a value at a perticular index\n",
    "# print(lst[5])\n",
    "\n",
    "# Slicing - To access the mutiple at a time in list - similar to string\n",
    "# syntax = lst_name[start:stop:step], lst_name[:stop]\n",
    "\n",
    "# print(lst[3:6])\n",
    "# print(lst)\n",
    "\n",
    "# print(lst[5:2:-1])\n",
    "\n",
    "# print(lst[::-1])\n",
    "\n",
    "# Concatenation and repetition\n",
    "# Concatenating two lists - both the operands should be of list - \"+\" - creates a new list object\n",
    "# print(lst + [1111,2222,3333,4444])\n",
    "# print(lst)\n",
    "\n",
    "# Repetition - one operand should be list and other should be integer - \"*\", Creates a new list object\n",
    "# print(lst * 3)\n",
    "\n",
    "# membership and identity\n",
    "# print('Python' in lst)\n",
    "# print('python' in lst)\n",
    "\n",
    "# lst1 = lst\n",
    "# lst2 = lst[::]\n",
    "# print(lst is lst1)\n",
    "# print(lst is lst2)\n",
    "# print(id(lst))\n",
    "# print(id(lst1))\n",
    "# print(id(lst2))\n",
    "\n",
    "\n",
    "# Nested list\n",
    "# lst1 = [10,20,30, [40,50,60], [70,80,[90,[200,300]]]]\n",
    "# print(lst1[3][1])\n",
    "# print(lst1[-1][2][-1][-1])\n",
    "\n",
    "# Methods on list\n",
    "# print(dir(lst))\n",
    "\n",
    "#  'copy',  \n",
    "\n",
    "# Insert elements inside a list - append, extend, insert\n",
    "# print(lst)\n",
    "\n",
    "# Add 11111 at end\n",
    "# print('Before the op: ', lst, id(lst))\n",
    "# lst.append(11111)\n",
    "# print('After the op: ', lst, id(lst))\n",
    "\n",
    "# Adding a list at the end\n",
    "# lst.append([1,2,3,4])\n",
    "# print(lst)\n",
    "\n",
    "\n",
    "# extend - similar to concatenation but it does not creates a new list object rather it updates into th eexisting one\n",
    "# lst1 = [False, {1:100, 2:200}, None, 110, 200]\n",
    "# Extending lst1 into lst\n",
    "# lst.extend(lst1)\n",
    "# print(lst)\n",
    "# print(lst1)\n",
    "\n",
    "\n",
    "# insert(index, value)\n",
    "# lst.insert(5, False)\n",
    "# print(lst)\n",
    "\n",
    "# Removing an element -  'pop', 'remove',\n",
    "# print(lst)\n",
    "# print(lst.pop())   # It will remove by default the last element and returns the same\n",
    "# print(lst)\n",
    "\n",
    "\n",
    "# pop using index\n",
    "# print(lst)\n",
    "# print(lst.pop(5))\n",
    "# print(lst)\n",
    "\n",
    "# Removing an element by value\n",
    "# lst.remove('Python') # First occurrence\n",
    "# print(lst)\n",
    "\n",
    "\n",
    "# 'count', 'index',  'clear',\n",
    "# To count the num of times an element is repeating\n",
    "lst1 = [10,20,10,100,20,30,20,40,20,40,50,60,20,200,900,20]\n",
    "# print(lst1.count(20))\n",
    "\n",
    "# Index - similar to the index in string\n",
    "# We do not have rindex, find and rfind\n",
    "# returns ValuError if element is not found\n",
    "# lst1.index(20,7,9)\n",
    "\n",
    "# clear method empties th elist and keeps th eempty list\n",
    "# lst.clear()\n",
    "# print(lst)\n",
    "\n",
    "# 'reverse', 'sort'\n",
    "# reversing a list\n",
    "# print(lst[::-1])   Create a new reversed list object\n",
    "# lst.reverse()        reverses the list and keep the changes into the same list object\n",
    "# print(lst)\n",
    "\n",
    "# ssorting in ascending order is default\n",
    "# lst.sort()\n",
    "\n",
    "# lst1.sort()\n",
    "# print(lst1)\n",
    "\n",
    "# ssorting in descending orde\n",
    "# lst1.sort(reverse = True)\n",
    "# print(lst1)\n",
    "\n",
    "# Aliasing, shallow copy, deep copy\n",
    "lst = [10,20,30]\n",
    "# lst1 = lst    # Aliasing- giving a different name to an existing object\n",
    "# print(lst is lst1)\n",
    "# print(id(lst))\n",
    "# print(id(lst1))\n",
    "# lst1[0] = 100\n",
    "# print(lst, lst1)\n",
    "\n",
    "# shallow copy: slicing and copy\n",
    "# lst2 = lst[::1]\n",
    "# # print(lst is lst2)\n",
    "# # print(id(lst))\n",
    "# # print(id(lst2))\n",
    "# lst2[0] = 1111\n",
    "# print(lst)\n",
    "# print(lst2)\n",
    "\n",
    "lst3 = [10,20,30, [40,50,60], 70,80]\n",
    "lst4 = lst3.copy()\n",
    "# print(lst3 is lst4)\n",
    "# lst4[0] = 100\n",
    "# print(lst3)\n",
    "# print(lst4)\n",
    "\n",
    "# lst4[3][-1] = 6666\n",
    "# print(lst3)\n",
    "# print(lst4)\n",
    "\n",
    "# print(id(lst3))\n",
    "# print(id(lst4))\n",
    "\n",
    "# print(id(lst3[3]))\n",
    "# print(id(lst4[3]))\n",
    "\n",
    "\n",
    "# Deepcopy\n",
    "# from copy import deepcopy\n",
    "# lst5 = deepcopy(lst3)\n",
    "# print(lst3 is lst5)\n",
    "# print(id(lst3[3]))\n",
    "# print(id(lst5[3]))\n",
    "\n",
    "# lst5[3][-1] = 6666\n",
    "# print(lst3)\n",
    "# print(lst5)\n",
    "\n",
    "\n",
    "\n",
    "# list comprehension\n",
    "# To create a list of all even numbers from 20 to 50\n",
    "# out_lst = []\n",
    "# for i in range(20, 51):\n",
    "#     if i % 2 == 0:\n",
    "#         out_lst.append(i)\n",
    "# print(out_lst)\n",
    "\n",
    "# [expr for i in seq if cond]\n",
    "\n",
    "# print([i**2 for i in range(20,51) if i % 2 == 0])\n",
    "\n",
    "# 4X4\n",
    "# [[0,0,0,0],[0,1,2,3],[0,2,4,6],[0,3,6,9]]  \n",
    "\n",
    "[[i*j for j in range(4)] for i in range(4)]\n",
    "\n",
    "\n",
    "\n",
    "\n",
    "# 2. using list comprehension\n",
    "\n",
    "# 3X4X6\n",
    "# [\n",
    "#     [[0,0,0,0,0,0],[0,0,0,0,0,0],[0,0,0,0,0,0],[0,0,0,0,0,0]],\n",
    "#     [[0,0,0,0,0,0],[1,1,1,1,1,1],[2,2,2,2,2,2],[3,3,3,3,3,3]],\n",
    "#     [[0,0,0,0,0,0],[2,2,2,2,2,2],[4,4,4,4,4,4],[6,6,6,6,6,6]]\n",
    "# ]\n",
    "\n",
    "# [\n",
    "#     [[0,0,0,0,0,0],[],[],[]],\n",
    "#     [[],[],[],[]],\n",
    "#     [[],[],[],[]]\n",
    "# ]\n",
    "\n",
    "\n",
    "# 2. using list comprehension\n",
    "\n",
    "# [[[i*j for k in range(6)] for j in range(4)] for i in range(3)]\n",
    "\n",
    "lst = [10]\n",
    "print(lst, type(lst))"
   ]
  },
  {
   "cell_type": "code",
   "execution_count": 119,
   "metadata": {},
   "outputs": [
    {
     "name": "stdout",
     "output_type": "stream",
     "text": [
      "(100, 200, 300, 400) <class 'tuple'>\n",
      "111\n",
      "222\n",
      "333\n",
      "444\n",
      "555\n",
      "666\n",
      "(111, 222, 333, 444, 555, 666)\n",
      "6\n"
     ]
    }
   ],
   "source": [
    "# Tuple  - is similar to list\n",
    "# all theelements should be kept inside small brackets(Optional) and separated bu comma\n",
    "\n",
    "# Creation of tuple\n",
    "\n",
    "# If you know the elements in advance\n",
    "# tpl = 10,20,30,40\n",
    "# print(tpl, type(tpl))\n",
    "\n",
    "# Taking user input\n",
    "# tpl1 = eval(input('Enter a list: '))\n",
    "# print(tpl1, type(tpl1))\n",
    "\n",
    "# Using tuple(Iterable)\n",
    "# creating a tuple from string\n",
    "# print(tuple('Python'))\n",
    "# print(tuple([10,20,30,40]))\n",
    "# print(tuple({10,20,30,40}))\n",
    "# print(tuple({1:10,2:20,3:30,4:40}))\n",
    "\n",
    "# Creating a tuple with single element\n",
    "# tpl = (10,)\n",
    "# print(tpl, type(tpl))\n",
    "\n",
    "\n",
    "# Properties of Tuple:-\n",
    "# 1. Tuple is a seq\n",
    "# 2. It is an ordered collection of the elements -> The elements are indexed\n",
    "# 3. Tuple also supports +ve and -ve indexing\n",
    "#     +ve indexing starts from 0 from LHS and -ve indexing starts from -1 from RHS\n",
    "# 4. Tuple supports Indexing and slicing both\n",
    "# 5. It is immutable - \n",
    "# 6. It allows the duplicate elements\n",
    "# 7. Basic operation - Indexing, slicing, Concatenation, Repetition, Membership, Identity operator\n",
    "# 8. It can hold any data as it's elements\n",
    "\n",
    "\n",
    "# Methods in tuple\n",
    "# print(dir(tpl))\n",
    "#  'count', 'index'\n",
    "\n",
    "# Tuple packing and unpacking\n",
    "\n",
    "# Tuple packing\n",
    "a = 100\n",
    "b = 200\n",
    "c = 300\n",
    "d = 400\n",
    "tpl = a,b,c,d     # Tuple packing - packing or assiging multiple values to a single variable\n",
    "print(tpl, type(tpl))\n",
    "\n",
    "# Unpacking fetching th eindividual value from atuple\n",
    "tpl1 = (111,222,333,444,555,666)\n",
    "a,b,c,d,e,f = tpl1   # tuple unpacking\n",
    "print(a)\n",
    "print(b)\n",
    "print(c)\n",
    "print(d)\n",
    "print(e)\n",
    "print(f)\n",
    "\n",
    "\n",
    "print(tpl1)\n",
    "# In unpacking, no of variabe on LHS and no of elements should match\n",
    "print(len(tpl1))\n"
   ]
  },
  {
   "cell_type": "code",
   "execution_count": null,
   "metadata": {},
   "outputs": [],
   "source": []
  },
  {
   "cell_type": "code",
   "execution_count": null,
   "metadata": {},
   "outputs": [],
   "source": []
  },
  {
   "cell_type": "code",
   "execution_count": null,
   "metadata": {},
   "outputs": [],
   "source": []
  },
  {
   "cell_type": "code",
   "execution_count": null,
   "metadata": {},
   "outputs": [],
   "source": []
  },
  {
   "cell_type": "code",
   "execution_count": null,
   "metadata": {},
   "outputs": [],
   "source": []
  },
  {
   "cell_type": "code",
   "execution_count": null,
   "metadata": {},
   "outputs": [],
   "source": []
  },
  {
   "cell_type": "code",
   "execution_count": null,
   "metadata": {},
   "outputs": [],
   "source": []
  },
  {
   "cell_type": "code",
   "execution_count": null,
   "metadata": {},
   "outputs": [],
   "source": []
  },
  {
   "cell_type": "code",
   "execution_count": null,
   "metadata": {},
   "outputs": [],
   "source": []
  },
  {
   "cell_type": "code",
   "execution_count": null,
   "metadata": {},
   "outputs": [],
   "source": []
  },
  {
   "cell_type": "code",
   "execution_count": null,
   "metadata": {},
   "outputs": [],
   "source": []
  },
  {
   "cell_type": "code",
   "execution_count": null,
   "metadata": {},
   "outputs": [],
   "source": []
  },
  {
   "cell_type": "code",
   "execution_count": null,
   "metadata": {},
   "outputs": [],
   "source": []
  },
  {
   "cell_type": "code",
   "execution_count": null,
   "metadata": {},
   "outputs": [],
   "source": []
  },
  {
   "cell_type": "code",
   "execution_count": null,
   "metadata": {},
   "outputs": [],
   "source": []
  },
  {
   "cell_type": "code",
   "execution_count": null,
   "metadata": {},
   "outputs": [],
   "source": []
  },
  {
   "cell_type": "code",
   "execution_count": null,
   "metadata": {},
   "outputs": [],
   "source": []
  },
  {
   "cell_type": "code",
   "execution_count": null,
   "metadata": {},
   "outputs": [],
   "source": []
  },
  {
   "cell_type": "code",
   "execution_count": null,
   "metadata": {},
   "outputs": [],
   "source": []
  },
  {
   "cell_type": "code",
   "execution_count": null,
   "metadata": {},
   "outputs": [],
   "source": []
  },
  {
   "cell_type": "code",
   "execution_count": null,
   "metadata": {},
   "outputs": [],
   "source": []
  },
  {
   "cell_type": "code",
   "execution_count": null,
   "metadata": {},
   "outputs": [],
   "source": []
  },
  {
   "cell_type": "code",
   "execution_count": null,
   "metadata": {},
   "outputs": [],
   "source": []
  },
  {
   "cell_type": "code",
   "execution_count": null,
   "metadata": {},
   "outputs": [],
   "source": []
  },
  {
   "cell_type": "code",
   "execution_count": null,
   "metadata": {},
   "outputs": [],
   "source": []
  },
  {
   "cell_type": "code",
   "execution_count": null,
   "metadata": {},
   "outputs": [],
   "source": []
  },
  {
   "cell_type": "code",
   "execution_count": null,
   "metadata": {},
   "outputs": [],
   "source": []
  },
  {
   "cell_type": "code",
   "execution_count": null,
   "metadata": {},
   "outputs": [],
   "source": []
  },
  {
   "cell_type": "code",
   "execution_count": null,
   "metadata": {},
   "outputs": [],
   "source": []
  },
  {
   "cell_type": "code",
   "execution_count": null,
   "metadata": {},
   "outputs": [],
   "source": []
  },
  {
   "cell_type": "code",
   "execution_count": null,
   "metadata": {},
   "outputs": [],
   "source": []
  },
  {
   "cell_type": "code",
   "execution_count": null,
   "metadata": {},
   "outputs": [],
   "source": []
  },
  {
   "cell_type": "code",
   "execution_count": null,
   "metadata": {},
   "outputs": [],
   "source": []
  },
  {
   "cell_type": "code",
   "execution_count": null,
   "metadata": {},
   "outputs": [],
   "source": []
  },
  {
   "cell_type": "code",
   "execution_count": null,
   "metadata": {},
   "outputs": [],
   "source": []
  },
  {
   "cell_type": "code",
   "execution_count": null,
   "metadata": {},
   "outputs": [],
   "source": []
  },
  {
   "cell_type": "code",
   "execution_count": null,
   "metadata": {},
   "outputs": [],
   "source": []
  },
  {
   "cell_type": "code",
   "execution_count": null,
   "metadata": {},
   "outputs": [],
   "source": []
  },
  {
   "cell_type": "code",
   "execution_count": null,
   "metadata": {},
   "outputs": [],
   "source": []
  },
  {
   "cell_type": "code",
   "execution_count": null,
   "metadata": {},
   "outputs": [],
   "source": []
  },
  {
   "cell_type": "code",
   "execution_count": null,
   "metadata": {},
   "outputs": [],
   "source": []
  },
  {
   "cell_type": "code",
   "execution_count": null,
   "metadata": {},
   "outputs": [],
   "source": []
  },
  {
   "cell_type": "code",
   "execution_count": null,
   "metadata": {},
   "outputs": [],
   "source": []
  },
  {
   "cell_type": "code",
   "execution_count": null,
   "metadata": {},
   "outputs": [],
   "source": []
  },
  {
   "cell_type": "code",
   "execution_count": null,
   "metadata": {},
   "outputs": [],
   "source": []
  },
  {
   "cell_type": "code",
   "execution_count": null,
   "metadata": {},
   "outputs": [],
   "source": []
  },
  {
   "cell_type": "code",
   "execution_count": null,
   "metadata": {},
   "outputs": [],
   "source": []
  },
  {
   "cell_type": "code",
   "execution_count": null,
   "metadata": {},
   "outputs": [],
   "source": []
  },
  {
   "cell_type": "code",
   "execution_count": null,
   "metadata": {},
   "outputs": [],
   "source": []
  },
  {
   "cell_type": "code",
   "execution_count": null,
   "metadata": {},
   "outputs": [],
   "source": []
  },
  {
   "cell_type": "code",
   "execution_count": null,
   "metadata": {},
   "outputs": [],
   "source": []
  },
  {
   "cell_type": "code",
   "execution_count": null,
   "metadata": {},
   "outputs": [],
   "source": []
  },
  {
   "cell_type": "code",
   "execution_count": null,
   "metadata": {},
   "outputs": [],
   "source": []
  },
  {
   "cell_type": "code",
   "execution_count": null,
   "metadata": {},
   "outputs": [],
   "source": []
  },
  {
   "cell_type": "code",
   "execution_count": null,
   "metadata": {},
   "outputs": [],
   "source": []
  },
  {
   "cell_type": "code",
   "execution_count": null,
   "metadata": {},
   "outputs": [],
   "source": []
  },
  {
   "cell_type": "code",
   "execution_count": null,
   "metadata": {},
   "outputs": [],
   "source": []
  },
  {
   "cell_type": "code",
   "execution_count": null,
   "metadata": {},
   "outputs": [],
   "source": []
  },
  {
   "cell_type": "code",
   "execution_count": null,
   "metadata": {},
   "outputs": [],
   "source": []
  },
  {
   "cell_type": "code",
   "execution_count": null,
   "metadata": {},
   "outputs": [],
   "source": []
  },
  {
   "cell_type": "code",
   "execution_count": null,
   "metadata": {},
   "outputs": [],
   "source": []
  },
  {
   "cell_type": "code",
   "execution_count": null,
   "metadata": {},
   "outputs": [],
   "source": []
  },
  {
   "cell_type": "code",
   "execution_count": null,
   "metadata": {},
   "outputs": [],
   "source": []
  },
  {
   "cell_type": "code",
   "execution_count": null,
   "metadata": {},
   "outputs": [],
   "source": []
  },
  {
   "cell_type": "code",
   "execution_count": null,
   "metadata": {},
   "outputs": [],
   "source": []
  },
  {
   "cell_type": "code",
   "execution_count": null,
   "metadata": {},
   "outputs": [],
   "source": []
  },
  {
   "cell_type": "code",
   "execution_count": null,
   "metadata": {},
   "outputs": [],
   "source": []
  },
  {
   "cell_type": "code",
   "execution_count": null,
   "metadata": {},
   "outputs": [],
   "source": []
  },
  {
   "cell_type": "code",
   "execution_count": null,
   "metadata": {},
   "outputs": [],
   "source": []
  },
  {
   "cell_type": "code",
   "execution_count": null,
   "metadata": {},
   "outputs": [],
   "source": []
  },
  {
   "cell_type": "code",
   "execution_count": null,
   "metadata": {},
   "outputs": [],
   "source": []
  },
  {
   "cell_type": "code",
   "execution_count": null,
   "metadata": {},
   "outputs": [],
   "source": []
  },
  {
   "cell_type": "code",
   "execution_count": null,
   "metadata": {},
   "outputs": [],
   "source": []
  },
  {
   "cell_type": "code",
   "execution_count": null,
   "metadata": {},
   "outputs": [],
   "source": []
  },
  {
   "cell_type": "code",
   "execution_count": null,
   "metadata": {},
   "outputs": [],
   "source": []
  },
  {
   "cell_type": "code",
   "execution_count": null,
   "metadata": {},
   "outputs": [],
   "source": []
  },
  {
   "cell_type": "code",
   "execution_count": null,
   "metadata": {},
   "outputs": [],
   "source": []
  },
  {
   "cell_type": "code",
   "execution_count": null,
   "metadata": {},
   "outputs": [],
   "source": []
  }
 ],
 "metadata": {
  "kernelspec": {
   "display_name": "Python 3",
   "language": "python",
   "name": "python3"
  },
  "language_info": {
   "codemirror_mode": {
    "name": "ipython",
    "version": 3
   },
   "file_extension": ".py",
   "mimetype": "text/x-python",
   "name": "python",
   "nbconvert_exporter": "python",
   "pygments_lexer": "ipython3",
   "version": "3.7.3"
  }
 },
 "nbformat": 4,
 "nbformat_minor": 2
}
