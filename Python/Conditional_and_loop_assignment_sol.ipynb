{
  "nbformat": 4,
  "nbformat_minor": 0,
  "metadata": {
    "colab": {
      "name": "Conditional_and_loop_assignment.ipynb",
      "provenance": []
    },
    "kernelspec": {
      "name": "python3",
      "display_name": "Python 3"
    }
  },
  "cells": [
    {
      "cell_type": "markdown",
      "metadata": {
        "id": "wNRNTbrsc53d",
        "colab_type": "text"
      },
      "source": [
        "# If - elif - else statement"
      ]
    },
    {
      "cell_type": "code",
      "metadata": {
        "id": "MiPfTnBycxNa",
        "colab_type": "code",
        "colab": {}
      },
      "source": [
        "#W. A P. which takes one number from 0 to 9 from the user and prints it in the word. And if the word is not from 0 to 9 then\n",
        "#it should print that number is outside of the range and program should exit.\n",
        "# For exapmple:- \n",
        "# input = 1\n",
        "# output = one\n"
      ],
      "execution_count": null,
      "outputs": []
    },
    {
      "cell_type": "code",
      "metadata": {
        "id": "vEMNOv9zdA39",
        "colab_type": "code",
        "colab": {}
      },
      "source": [
        "#W. A P. to implement calculator but the operation to be done and two numbers will be taken as input from user:-\n",
        "#Operation console should show below:-\n",
        "#     Please select any one operation from below:-\n",
        "#         * To add enter 1\n",
        "#         * to subtract enter 2\n",
        "#         * To multiply enter 3\n",
        "#         * To divide enter 4\n",
        "#         * To divide and find quotient enter 5\n",
        "#         * To divide and find remainder enter 6\n",
        "#         * To divide and find num1 to the power of num2 enter 7\n",
        "#         * To Come out of the program enter 8\n",
        "\n",
        "\n",
        "\n"
      ],
      "execution_count": null,
      "outputs": []
    },
    {
      "cell_type": "code",
      "metadata": {
        "id": "1e2gwYLqdC1s",
        "colab_type": "code",
        "colab": {}
      },
      "source": [
        "#W A P to check whether a year entered by user is an leap year or not?\n",
        "#Check with below input:-\n",
        "    #leap year:- 2012, 1968, 2004, 1200, 1600,2400\n",
        "    #Non-lear year:- 1971, 2006, 1700,1800,1900\n",
        "    \n"
      ],
      "execution_count": null,
      "outputs": []
    },
    {
      "cell_type": "code",
      "metadata": {
        "id": "_tpXv1EtdEre",
        "colab_type": "code",
        "colab": {}
      },
      "source": [
        "#W A P which takes one number from the user and checks whether it is an even or odd number?, If it even then prints number is \n",
        "#even number else prints that number is odd number.\n",
        "\n"
      ],
      "execution_count": null,
      "outputs": []
    },
    {
      "cell_type": "code",
      "metadata": {
        "id": "Q1HumymCdG6i",
        "colab_type": "code",
        "colab": {}
      },
      "source": [
        "#W A P which takes two numbers from the user and prints below output:-\n",
        "#     1. num1 is greater than num2 if num1 is greater than num2\n",
        "#     2. num1 is smaller than num2 if num1 is smaller than num2\n",
        "#     3. num1 is equal to num2 if num1 and num2 are equal\n",
        "\n",
        "#Note:- 1. Do this problem using if - else \n",
        "#       2. Do this using ternary operator\n",
        "\n"
      ],
      "execution_count": null,
      "outputs": []
    },
    {
      "cell_type": "code",
      "metadata": {
        "id": "LR6TVB-DdOPf",
        "colab_type": "code",
        "colab": {}
      },
      "source": [
        "#W A P which takes three numbers from the user and prints below output:-\n",
        "#     1. num1 is greater than num2 and num3 if num1 is greater than num2 and num3\n",
        "#     2. num2 is greater than num1 and num3 if num2 is greater than num1 and num3\n",
        "#     3. num3 is greater than num1 and num2 if num3 is greater than num1 and num2\n",
        "\n",
        "#Note:- 1. Do this problem using if - elif - else \n",
        "#       2. Do this using ternary operator\n",
        "\n",
        "# a = a if a>b else b\n",
        "expr if cond1 else expr2 if cond2 else expr3\n"
      ],
      "execution_count": null,
      "outputs": []
    },
    {
      "cell_type": "markdown",
      "metadata": {
        "id": "IoOLQMUGdSox",
        "colab_type": "text"
      },
      "source": [
        "# Loops - for loop, while loop"
      ]
    },
    {
      "cell_type": "code",
      "metadata": {
        "id": "9K23Uld8dQfA",
        "colab_type": "code",
        "colab": {
          "base_uri": "https://localhost:8080/",
          "height": 34
        },
        "outputId": "6c9979f7-84e3-4a4c-b1cc-dddccb832447"
      },
      "source": [
        "#Write a Python program to find the length of the my_str using loop:-\n",
        "\n",
        "#Input:- 'Write a Python program to find the length of the my_str'\n",
        "#Output:- 55\n",
        "\n",
        "\n",
        "s = 'Write a Python program to find the length of the my_str'\n",
        "count = 0\n",
        "for i in s:\n",
        "  count += 1\n",
        "print(count)"
      ],
      "execution_count": 1,
      "outputs": [
        {
          "output_type": "stream",
          "text": [
            "55\n"
          ],
          "name": "stdout"
        }
      ]
    },
    {
      "cell_type": "code",
      "metadata": {
        "id": "bp6AcqTsdYxy",
        "colab_type": "code",
        "colab": {
          "base_uri": "https://localhost:8080/",
          "height": 34
        },
        "outputId": "fd613e3c-8ef9-4102-ea18-9a2ef68edc1f"
      },
      "source": [
        "#Write a Python program to find the total number of times letter 'p' is appeared in the below string using loop:-\n",
        "    \n",
        "#Input:- 'peter piper picked a peck of pickled peppers.\\n'\n",
        "#Output:- 9\n",
        "\n",
        "p_count = 0\n",
        "s = 'peter piper picked a peck of pickled peppers.\\n'\n",
        "for i in s:\n",
        "  if i == 'p':\n",
        "    p_count += 1\n",
        "print(p_count)"
      ],
      "execution_count": 2,
      "outputs": [
        {
          "output_type": "stream",
          "text": [
            "9\n"
          ],
          "name": "stdout"
        }
      ]
    },
    {
      "cell_type": "code",
      "metadata": {
        "id": "xvxSBhTJdav1",
        "colab_type": "code",
        "colab": {
          "base_uri": "https://localhost:8080/",
          "height": 170
        },
        "outputId": "ff0453e9-49e3-4b53-c336-c9134a3acdd0"
      },
      "source": [
        "#Write a Python Program, to print all the indexes of all occurences of letter 'p' appeared in the string using loop:-\n",
        "    \n",
        "#Input:- 'peter piper picked a peck of pickled peppers.'\n",
        "#Output:- \n",
        "# 0\n",
        "# 6\n",
        "# 8\n",
        "# 12\n",
        "# 21\n",
        "# 29\n",
        "# 37\n",
        "# 39\n",
        "# 40\n",
        "\n",
        "s = 'peter piper picked a peck of pickled peppers.\\n'\n",
        "ind = -1\n",
        "while True:\n",
        "  ind = s.find('p', ind+1)\n",
        "  if ind == -1:\n",
        "    break\n",
        "  print(ind)\n",
        "\n"
      ],
      "execution_count": 3,
      "outputs": [
        {
          "output_type": "stream",
          "text": [
            "0\n",
            "6\n",
            "8\n",
            "12\n",
            "21\n",
            "29\n",
            "37\n",
            "39\n",
            "40\n"
          ],
          "name": "stdout"
        }
      ]
    },
    {
      "cell_type": "code",
      "metadata": {
        "id": "79L_feMadbmw",
        "colab_type": "code",
        "colab": {}
      },
      "source": [
        "#Write a python program to find below output using loop:-\n",
        "\n",
        "#Input:- 'peter piper picked a peck of pickled peppers.'\n",
        "#Output:- ['peter', 'piper', 'picked', 'a', 'peck', 'of', 'pickled', 'peppers']\n",
        "\n"
      ],
      "execution_count": null,
      "outputs": []
    },
    {
      "cell_type": "code",
      "metadata": {
        "id": "vzs5AJ53deVS",
        "colab_type": "code",
        "colab": {}
      },
      "source": [
        "#Write a python program to find below output using loop:-\n",
        "\n",
        "#Input:- 'peter piper picked a peck of pickled peppers.'\n",
        "#Output:- 'peppers pickled of peck a picked piper peter'\n",
        "\n"
      ],
      "execution_count": null,
      "outputs": []
    },
    {
      "cell_type": "code",
      "metadata": {
        "id": "i-HP7DrCdhwS",
        "colab_type": "code",
        "colab": {}
      },
      "source": [
        "#Write a python program to find below output using loop:-\n",
        "\n",
        "#Input:- 'peter piper picked a peck of pickled peppers.'\n",
        "#Output:- '.sreppep delkcip fo kcep a dekcip repip retep'\n",
        "\n"
      ],
      "execution_count": null,
      "outputs": []
    },
    {
      "cell_type": "code",
      "metadata": {
        "id": "3rt6p0ytdkq0",
        "colab_type": "code",
        "colab": {}
      },
      "source": [
        "#Write a python program to find below output using loop:-\n",
        "\n",
        "#Input:- 'peter piper picked a peck of pickled peppers.'\n",
        "#Output:- 'retep repip dekcip a kcep fo delkcip sreppep'"
      ],
      "execution_count": null,
      "outputs": []
    },
    {
      "cell_type": "code",
      "metadata": {
        "id": "HdlAWgT2dnKO",
        "colab_type": "code",
        "colab": {}
      },
      "source": [
        "#Write a python program to find below output using loop:-\n",
        "\n",
        "#Input:- 'peter piper picked a peck of pickled peppers.'\n",
        "#Output:- 'Peter Piper Picked A Peck Of Pickled Peppers'"
      ],
      "execution_count": null,
      "outputs": []
    },
    {
      "cell_type": "code",
      "metadata": {
        "id": "OthUuacodrNl",
        "colab_type": "code",
        "colab": {}
      },
      "source": [
        "#Write a python program to find below output using loop:-\n",
        "\n",
        "#Input:- 'Peter Piper Picked A Peck Of Pickled Peppers.'\n",
        "#Output:- 'Peter piper picked a peck of pickled peppers'"
      ],
      "execution_count": null,
      "outputs": []
    },
    {
      "cell_type": "code",
      "metadata": {
        "id": "scmDJE-ldsI9",
        "colab_type": "code",
        "colab": {
          "base_uri": "https://localhost:8080/",
          "height": 34
        },
        "outputId": "e7ed11dc-9cd7-4c71-dcf3-b768a892dce6"
      },
      "source": [
        "#Write a python program to implement index method using loop. If sub_str is found in my_str then it will print the index\n",
        "# of first occurrence of first character of matching string in my_str:-\n",
        "\n",
        "#Input:- my_str = 'Peter Piper Picked A Peck Of Pickled Peppers.', sub_str = 'Pickl'\n",
        "#Output:- 29\n",
        "\n",
        "s = 'Peter Piper Picked A Peck Of Pickled Peppers.'\n",
        "sub_str = 'Pickl'\n",
        "j = 0\n",
        "new_str = ''\n",
        "for i in range(len(s)):\n",
        "  if s[i] == sub_str[j]:\n",
        "    new_str += s[i]\n",
        "    j += 1\n",
        "    if new_str == sub_str:\n",
        "      print(i-len(sub_str)+1)\n",
        "      break\n",
        "  else:\n",
        "    new_str = ''\n",
        "    j = 0\n",
        "\n",
        "\n",
        "\n"
      ],
      "execution_count": 6,
      "outputs": [
        {
          "output_type": "stream",
          "text": [
            "29\n"
          ],
          "name": "stdout"
        }
      ]
    },
    {
      "cell_type": "code",
      "metadata": {
        "id": "Kq_fwdb_dvYE",
        "colab_type": "code",
        "colab": {}
      },
      "source": [
        "#Write a python program to implement replace method using loop. If sub_str is found in my_str then it will replace the first \n",
        "#occurrence of sub_str with new_str else it will will print sub_str not found:-\n",
        "\n",
        "#Input:- my_str = 'Peter Piper Picked A Peck Of Pickled Peppers.', sub_str = 'Peck', new_str = 'Pack'\n",
        "#Output:- 'Peter Piper Picked A Pack Of Pickled Peppers.'\n",
        "\n",
        "\n"
      ],
      "execution_count": null,
      "outputs": []
    },
    {
      "cell_type": "code",
      "metadata": {
        "id": "4Qes5D0cdyd1",
        "colab_type": "code",
        "colab": {}
      },
      "source": [
        "#Write a python program to find below output (implements rjust and ljust) using loop:-\n",
        "\n",
        "#Input:- 'Peter Piper Picked A Peck Of Pickled Peppers.', sub_str = 'Peck', \n",
        "#Output:- '*********************Peck********************'\n",
        "\n",
        "\n",
        "\n"
      ],
      "execution_count": null,
      "outputs": []
    },
    {
      "cell_type": "code",
      "metadata": {
        "id": "DsOrb07Od0lR",
        "colab_type": "code",
        "colab": {}
      },
      "source": [
        "#Write a python program to find below output using loop:-\n",
        "\n",
        "#Input:- 'This is Python class', sep = ' is', \n",
        "#Output:- ['This', 'is', 'Python class']\n",
        "\n",
        "\n"
      ],
      "execution_count": null,
      "outputs": []
    },
    {
      "cell_type": "code",
      "metadata": {
        "id": "jRnBVufmd2Ay",
        "colab_type": "code",
        "colab": {}
      },
      "source": [
        "\n",
        "\n"
      ],
      "execution_count": null,
      "outputs": []
    }
  ]
}